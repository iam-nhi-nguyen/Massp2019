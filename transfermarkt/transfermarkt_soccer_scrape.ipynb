{
  "nbformat": 4,
  "nbformat_minor": 0,
  "metadata": {
    "colab": {
      "name": "transfermarkt_soccer_scrape.ipynb",
      "provenance": [],
      "collapsed_sections": [
        "2PI2gHVLQiNd",
        "-Na_UL9_rGhT",
        "loI2z5OryweQ",
        "U3_hsql-DS9C",
        "8nxdoDl5DmET",
        "mgfYQ0xBZyXG",
        "yoiqjQXGDpRz",
        "7-Odkpfe6Ik0"
      ],
      "mount_file_id": "1YNlQGCiIF53AhHXoN6e_oY70KAI_OYk5",
      "authorship_tag": "ABX9TyN+/fj2yqgsXjz977+b9bdZ",
      "include_colab_link": true
    },
    "kernelspec": {
      "name": "python3",
      "display_name": "Python 3"
    },
    "language_info": {
      "name": "python"
    }
  },
  "cells": [
    {
      "cell_type": "markdown",
      "metadata": {
        "id": "view-in-github",
        "colab_type": "text"
      },
      "source": [
        "<a href=\"https://colab.research.google.com/github/iam-nhi-nguyen/Massp2019/blob/master/transfermarkt/transfermarkt_soccer_scrape.ipynb\" target=\"_parent\"><img src=\"https://colab.research.google.com/assets/colab-badge.svg\" alt=\"Open In Colab\"/></a>"
      ]
    },
    {
      "cell_type": "markdown",
      "metadata": {
        "id": "SpLO6HSnQTmA"
      },
      "source": [
        "# Scrape soccer game html from transfermarkt\n",
        "\n",
        "*Written by Nhi Nguyen*\n",
        "\n",
        "June 1, 2021"
      ]
    },
    {
      "cell_type": "code",
      "metadata": {
        "colab": {
          "base_uri": "https://localhost:8080/"
        },
        "id": "nRWEar6xPbOU",
        "outputId": "933371b7-02d4-44a4-a6c9-585df808c972"
      },
      "source": [
        "import pandas as pd\n",
        "import numpy as np\n",
        "from bs4 import BeautifulSoup\n",
        "import requests\n",
        "import time\n",
        "import gc\n",
        "from multiprocessing import Pool\n",
        "from functools import reduce\n",
        "import re\n",
        "\n",
        "from google.colab import drive\n",
        "drive.mount('/content/drive')"
      ],
      "execution_count": null,
      "outputs": [
        {
          "output_type": "stream",
          "text": [
            "Drive already mounted at /content/drive; to attempt to forcibly remount, call drive.mount(\"/content/drive\", force_remount=True).\n"
          ],
          "name": "stdout"
        }
      ]
    },
    {
      "cell_type": "code",
      "metadata": {
        "id": "zWnRft2vPx9_"
      },
      "source": [
        "base_url = \"https://www.transfermarkt.com\"\n",
        "headers = {\"User-Agent\": \n",
        "           \"Mozilla/5.0 (X11; Linux x86_64) AppleWebKit/537.36 (KHTML, like Gecko) Chrome/47.0.2526.106 Safari/537.36\"}"
      ],
      "execution_count": null,
      "outputs": []
    },
    {
      "cell_type": "markdown",
      "metadata": {
        "id": "dKE8F--Mbv7l"
      },
      "source": [
        "## General function"
      ]
    },
    {
      "cell_type": "code",
      "metadata": {
        "id": "pNbwYuAfx3CF"
      },
      "source": [
        "def get_html(tablename, df, filename, v=None):\n",
        "    start_time = time.time()\n",
        "    n = df.shape[0]\n",
        "    maxrow = 1000\n",
        "    if v:\n",
        "        print(f\"\\tGet {tablename} html {v:02}: \")\n",
        "        lenrange = min(n,v*maxrow) - (v-1)*maxrow\n",
        "        for i in range((v-1)*maxrow, min(n,v*maxrow)):\n",
        "            url = df[\"url\"][i]\n",
        "            html = requests.get(url, headers=headers)\n",
        "            df[\"content\"][i] = str(BeautifulSoup(html.content, \"html.parser\"))\n",
        "            p = round(100*(i+1-(v-1)*maxrow)/lenrange, 2)\n",
        "            print(f\"\\r{'='*round(p/2)+' '*(50-round(p/2))} {p: 6}%\\t| {round(time.time() - start_time): 5} seconds\", end=\"\")\n",
        "        print()\n",
        "        df.iloc[(v-1)*maxrow:min(n,v*maxrow),].to_csv(f\"{filename}_{v:03}.csv\", index=False)"
      ],
      "execution_count": null,
      "outputs": []
    },
    {
      "cell_type": "markdown",
      "metadata": {
        "id": "2PI2gHVLQiNd"
      },
      "source": [
        "## Competitions"
      ]
    },
    {
      "cell_type": "code",
      "metadata": {
        "id": "WtcjRF7uQAa0"
      },
      "source": [
        "competitions_html = pd.DataFrame(columns=[\"id\",\"name\",\"url\",\"format\",\"content\"])"
      ],
      "execution_count": null,
      "outputs": []
    },
    {
      "cell_type": "code",
      "metadata": {
        "id": "NOinvb5DUOEp"
      },
      "source": [
        "def get_competitions_url(continent):\n",
        "    global competitions_html\n",
        "    df = []\n",
        "    \n",
        "    # get continential competitions\n",
        "    if continent != \"fifa\":\n",
        "        # get max page\n",
        "        page = f\"{base_url}/wettbewerbe/{continent}\"\n",
        "        html = requests.get(page, headers=headers)\n",
        "        soup = BeautifulSoup(html.content, \"html.parser\")\n",
        "        lastpage = soup.find(\"li\", {\"class\": \"letzte-seite\"})\n",
        "        pagecnt = int(lastpage.find(\"a\").get(\"href\").split(\"=\")[-1]) if lastpage else 1\n",
        "        # go through all pages\n",
        "        for i in range(1, pagecnt+1):\n",
        "            page = f\"{base_url}/wettbewerbe/{continent}?page={i}\"\n",
        "            html = requests.get(page, headers=headers)\n",
        "            soup = BeautifulSoup(html.content, \"html.parser\")\n",
        "            rows = soup.find_all(\"table\", {\"class\": \"inline-table\"})\n",
        "            for row in rows:\n",
        "                info = row.find_all(\"a\")[-1]\n",
        "                name = info.get(\"title\")\n",
        "                url = f\"{base_url}{info.get('href')}\"\n",
        "                id = url.split('/')[-1]\n",
        "                df.append([id, name, url])\n",
        "    \n",
        "    # get international cups\n",
        "    page = f\"{base_url}/wettbewerbe/{continent}\"\n",
        "    html = requests.get(page, headers=headers)\n",
        "    soup = BeautifulSoup(html.content, \"html.parser\")\n",
        "    cups = soup.find_all(\"div\", {\"class\": \"clearer relevante-wettbewerbe-auflistung\"})\n",
        "    cups = [item for sublist in list(map(lambda x: x.find_all(\"a\"), cups)) for item in sublist]\n",
        "    for cup in cups:\n",
        "        name = cup.get(\"title\")\n",
        "        url = f\"{base_url}{cup.get('href')}\"\n",
        "        id = url.split('/')[-1]\n",
        "        df.append([id, name, url])\n",
        "    \n",
        "    competitions_html = competitions_html.append(pd.DataFrame(df, columns=[\"id\",\"name\",\"url\"]), ignore_index=True)"
      ],
      "execution_count": null,
      "outputs": []
    },
    {
      "cell_type": "code",
      "metadata": {
        "id": "rQbg1GsHy0_P"
      },
      "source": [
        "print(\"Get competitions url: \", end=\"\")\n",
        "start_time = time.time()\n",
        "continents = [\"europa\", \"asien\", \"amerika\", \"afrika\", \"fifa\"]\n",
        "for continent in continents:\n",
        "    get_competitions_url(continent)\n",
        "competitions_html = competitions_html.drop_duplicates(subset=\"url\").reset_index(drop=True)\n",
        "print(f\"{round(time.time() - start_time, 4)} seconds\")"
      ],
      "execution_count": null,
      "outputs": []
    },
    {
      "cell_type": "markdown",
      "metadata": {
        "id": "-PnEYPVxy6tt"
      },
      "source": [
        "```\n",
        "Get competitions url: 79.2558 seconds\n",
        "```"
      ]
    },
    {
      "cell_type": "code",
      "metadata": {
        "id": "tqoeAzMxJxYq"
      },
      "source": [
        "competitions_html = get_html(\"competitions\", competitions_html, \"./drive/MyDrive/transfermarkt/1-competitions/competitions_html\")"
      ],
      "execution_count": null,
      "outputs": []
    },
    {
      "cell_type": "markdown",
      "metadata": {
        "id": "xB5SDipmzKKX"
      },
      "source": [
        "```\n",
        "Get competitions html: \n",
        "==================================================  100.0%\t|  2509 seconds\n",
        "Finished in 2509\n",
        "```\n",
        "\n"
      ]
    },
    {
      "cell_type": "code",
      "metadata": {
        "id": "ROotCH9ZzqMT"
      },
      "source": [
        "print(\"Get competitions html format: \", end=\"\")\n",
        "start_time = time.time()\n",
        "n = competitions_html.shape[0]\n",
        "for i in range(n):\n",
        "    soup = BeautifulSoup(competitions_html[\"content\"][i], \"lxml\")\n",
        "    if soup.find('div', {'class': 'box-personeninfos'}) is not None:\n",
        "        competitions_html[\"format\"][i] = 1\n",
        "    elif soup.find('div', {'class': 'dataContent'}) is not None:\n",
        "        competitions_html[\"format\"][i] = 2\n",
        "    else:\n",
        "        competitions_html[\"format\"][i] = 0\n",
        "competitions_html.to_csv(f\"./drive/MyDrive/transfermarkt/1-competitions/competitions_html.csv\", index=False)\n",
        "print(f\"{round(time.time() - start_time)} seconds\")"
      ],
      "execution_count": null,
      "outputs": []
    },
    {
      "cell_type": "markdown",
      "metadata": {
        "id": "deppMpqxzkWP"
      },
      "source": [
        "```\n",
        "Get competitions html format: 50.9101 seconds\n",
        "```"
      ]
    },
    {
      "cell_type": "code",
      "metadata": {
        "id": "r-JFUxjvYzKw"
      },
      "source": [
        "competitions_html.shape"
      ],
      "execution_count": null,
      "outputs": []
    },
    {
      "cell_type": "markdown",
      "metadata": {
        "id": "q-0I7kr10Yha"
      },
      "source": [
        "```\n",
        "(912, 5)\n",
        "```"
      ]
    },
    {
      "cell_type": "markdown",
      "metadata": {
        "id": "-Na_UL9_rGhT"
      },
      "source": [
        "## Campaigns"
      ]
    },
    {
      "cell_type": "code",
      "metadata": {
        "id": "eZW-SS6Tq7Fa"
      },
      "source": [
        "campaigns_html = pd.DataFrame(columns=[\"id\",\"competition_id\",\"year\",\"url\",\"format\",\"content\"])"
      ],
      "execution_count": null,
      "outputs": []
    },
    {
      "cell_type": "code",
      "metadata": {
        "id": "F1_UZ65JsPtG"
      },
      "source": [
        "def get_campaigns_url(ind):\n",
        "    global campaigns_html\n",
        "    global competitions_html\n",
        "    df = []\n",
        "    \n",
        "    competition = competitions_html.iloc[ind]\n",
        "    url = competition[\"url\"]\n",
        "    competition_id = competition[\"id\"]\n",
        "    content = competition[\"content\"]\n",
        "    format = competition[\"format\"]\n",
        "\n",
        "    soup = BeautifulSoup(content, \"lxml\")\n",
        "    years = soup.find(\"table\", {\"class\": \"auflistung\"})\n",
        "    \n",
        "    # get list of years\n",
        "    if years is not None:\n",
        "        years = years.find_all(\"option\")\n",
        "        years = list(map(lambda tag: tag.get(\"value\"), years))\n",
        "    # extract year from the competition title\n",
        "    else:\n",
        "        title = competition[\"url\"].split(\"/\")[-4].split(\"-\")\n",
        "        if title[-1].isdigit() and len(title[-1]) == 4:\n",
        "            years = [title[-1]]\n",
        "        elif title[0].isdigit() and len(title[0]) == 4:\n",
        "            years = [title[0]]\n",
        "        else:\n",
        "            years = [\"\"]\n",
        "    # construct url\n",
        "    if competition[\"format\"] == 1:\n",
        "        sub = \"gesamtspielplan/wettbewerb\"\n",
        "    else:\n",
        "        sub = \"startseite/pokalwettbewerb\"\n",
        "    for year in years:\n",
        "        campaign_url = url.replace('startseite/wettbewerb', sub) + '/saison_id/' + year\n",
        "        df.append([competition_id + '_' + year, competition_id, year, campaign_url, format])\n",
        "    \n",
        "    # appeand results\n",
        "    campaigns_html = campaigns_html.append(pd.DataFrame(df, columns=[\"id\",\"competition_id\",\"year\",\"url\",\"format\"]), ignore_index=True)"
      ],
      "execution_count": null,
      "outputs": []
    },
    {
      "cell_type": "code",
      "metadata": {
        "id": "d0dYnknd0HG8"
      },
      "source": [
        "print(\"Get campaigns url: \", end=\"\")\n",
        "start_time = time.time()\n",
        "competitions_html = pd.read_csv(\"./drive/MyDrive/transfermarkt/1-competitions/competitions_html.csv\")\n",
        "n = competitions_html.shape[0]\n",
        "for i in range(n):\n",
        "    get_campaigns_url(i)\n",
        "campaigns_html = campaigns_html.drop_duplicates(subset=\"url\").reset_index(drop=True)\n",
        "campaigns_html.to_csv(\"./drive/MyDrive/transfermarkt/2-campaigns/campaigns_html_0.csv\", index=False)\n",
        "print(f\"{round(time.time() - start_time)} seconds\")"
      ],
      "execution_count": null,
      "outputs": []
    },
    {
      "cell_type": "markdown",
      "metadata": {
        "id": "CehimEm90Ft-"
      },
      "source": [
        "```\n",
        "Get campaigns url: 54.3616 seconds\n",
        "```"
      ]
    },
    {
      "cell_type": "code",
      "metadata": {
        "id": "Kvi5dxwctlEs"
      },
      "source": [
        "campaigns_html.shape"
      ],
      "execution_count": null,
      "outputs": []
    },
    {
      "cell_type": "markdown",
      "metadata": {
        "id": "cGjFxYSG0bzo"
      },
      "source": [
        "```\n",
        "(11043, 6)\n",
        "```"
      ]
    },
    {
      "cell_type": "code",
      "metadata": {
        "id": "uBVuEhPZlO6U"
      },
      "source": [
        "get_html(\"campaigns\", campaigns_html, \"./drive/MyDrive/transfermarkt/2-campaigns/campaigns_html\")"
      ],
      "execution_count": null,
      "outputs": []
    },
    {
      "cell_type": "markdown",
      "metadata": {
        "id": "lgUaX-UY0eZ4"
      },
      "source": [
        "```\n",
        "Get campaigns html\n",
        "    Get campaigns html 001: ==================================================  100.0%\t|  4818 seconds\n",
        "    Get campaigns html 002: ==================================================  100.0%\t|  2762 seconds\n",
        "    Get campaigns html 003: ==================================================  100.0%\t|  1600 seconds\n",
        "    Get campaigns html 004: ==================================================  100.0%\t|  3577 seconds\n",
        "    Get campaigns html 005: ==================================================  100.0%\t|  2854 seconds\n",
        "    Get campaigns html 006: ==================================================  100.0%\t|  4818 seconds\n",
        "    Get campaigns html 007: ==================================================  100.0%\t|  2762 seconds\n",
        "    Get campaigns html 008: ==================================================  100.0%\t|  1600 seconds\n",
        "    Get campaigns html 009: ==================================================  100.0%\t|  3577 seconds\n",
        "    Get campaigns html 010: ==================================================  100.0%\t|  2854 seconds\n",
        "    Get campaigns html 011: ==================================================  100.0%\t|  4818 seconds\n",
        "    Get campaigns html 012: ==================================================  100.0%\t|  2762 seconds\n",
        "Finished in 38802 seconds\n",
        "```"
      ]
    },
    {
      "cell_type": "markdown",
      "metadata": {
        "id": "loI2z5OryweQ"
      },
      "source": [
        "## Games"
      ]
    },
    {
      "cell_type": "code",
      "metadata": {
        "id": "tE6LcjxHyzpD"
      },
      "source": [
        "games_html = pd.DataFrame(columns=[\"id\",\"campaign_id\",\"url\",\"format\",\"content\"])"
      ],
      "execution_count": null,
      "outputs": []
    },
    {
      "cell_type": "code",
      "metadata": {
        "id": "HAktxLhgy8s0"
      },
      "source": [
        "def get_games_url(ind):\n",
        "    global games_html\n",
        "    global campaigns_html\n",
        "    df = []\n",
        "    \n",
        "    campaign = campaigns_html.iloc[ind]\n",
        "    url = campaign[\"url\"]\n",
        "    campaign_id = campaign[\"id\"]\n",
        "    content = campaign[\"content\"]\n",
        "    format = campaign[\"format\"]\n",
        "    \n",
        "    soup = BeautifulSoup(content, \"lxml\")\n",
        "    \n",
        "    if format == 1:\n",
        "        tags = soup.find_all('a', {'class': 'ergebnis-link'})\n",
        "    elif format == 2:\n",
        "        tags = soup.find_all('a', {'title': 'Match report'})\n",
        "    else:\n",
        "        return\n",
        "    for tag in tags:\n",
        "        df.append([campaign_id + \"_\" + tag.get('href').split('/')[-1], campaign_id, base_url + tag.get('href'), format])\n",
        "    \n",
        "    games_html = games_html.append(pd.DataFrame(df, columns=[\"id\",\"campaign_id\",\"url\",\"format\"]), ignore_index=True)"
      ],
      "execution_count": null,
      "outputs": []
    },
    {
      "cell_type": "code",
      "metadata": {
        "id": "l9yVnltz03oO"
      },
      "source": [
        "print(\"Get games url: \", end=\"\")\n",
        "start_time = time.time()\n",
        "nv = 12\n",
        "for v in range(1,nv+1):\n",
        "    campaigns_html = pd.read_csv(f\"./drive/MyDrive/transfermarkt/2-campaigns/campaigns_html_{v:03}.csv\")\n",
        "    for i in range(campaigns_html.shape[0]):\n",
        "        get_games_url(i)\n",
        "games_html = games_html.drop_duplicates(subset=\"url\").reset_index(drop=True)\n",
        "games_html.to_csv(\"./drive/MyDrive/transfermarkt/3-games/games_html_0.csv\", index=False)\n",
        "print(f\"{round(time.time() - start_time, 4)} seconds\")"
      ],
      "execution_count": null,
      "outputs": []
    },
    {
      "cell_type": "markdown",
      "metadata": {
        "id": "Vk99xxT705F_"
      },
      "source": [
        "```\n",
        "Get games url: 4056.3852 seconds\n",
        "```"
      ]
    },
    {
      "cell_type": "code",
      "metadata": {
        "id": "V0KzY4ck29Cf",
        "colab": {
          "base_uri": "https://localhost:8080/"
        },
        "outputId": "6a9dc904-d4f2-4ab7-ae74-bd3d14e574ef"
      },
      "source": [
        "games_html.shape"
      ],
      "execution_count": null,
      "outputs": [
        {
          "output_type": "execute_result",
          "data": {
            "text/plain": [
              "(963104, 5)"
            ]
          },
          "metadata": {
            "tags": []
          },
          "execution_count": 66
        }
      ]
    },
    {
      "cell_type": "markdown",
      "metadata": {
        "id": "2oaoicFmlvoS"
      },
      "source": [
        "```\n",
        "(957861, 5)\n",
        "```"
      ]
    },
    {
      "cell_type": "markdown",
      "metadata": {
        "id": "vL_ZIOgJ09Q9"
      },
      "source": [
        "```\n",
        "(955627, 5)\n",
        "```"
      ]
    },
    {
      "cell_type": "code",
      "metadata": {
        "id": "-Bu-uUWV8ugg"
      },
      "source": [
        "nv = 964\n",
        "for v in range(1, nv+1):\n",
        "    get_html(\"games\", games_html, \"./drive/MyDrive/transfermarkt/3-games/games_html\", v)"
      ],
      "execution_count": null,
      "outputs": []
    },
    {
      "cell_type": "markdown",
      "metadata": {
        "id": "KaTy7Qjmeaqr"
      },
      "source": [
        "```\n",
        "Finished in 1259700 seconds\n",
        "```"
      ]
    },
    {
      "cell_type": "markdown",
      "metadata": {
        "id": "U3_hsql-DS9C"
      },
      "source": [
        "##### Very long results"
      ]
    },
    {
      "cell_type": "markdown",
      "metadata": {
        "id": "XZM_XysMtK-O"
      },
      "source": [
        "```\n",
        "Get games html:\n",
        "\tGet games html 001: ==================================================  100.0%\t|  1221 seconds\n",
        "\tGet games html 002: ==================================================  100.0%\t|  1268 seconds\n",
        "\tGet games html 003: ==================================================  100.0%\t|  1264 seconds\n",
        "\tGet games html 004: ==================================================  100.0%\t|  1134 seconds\n",
        "\tGet games html 005: ==================================================  100.0%\t|  2163 seconds\n",
        "\tGet games html 007: ==================================================  100.0%\t|  1445 seconds\n",
        "\tGet games html 008: ==================================================  100.0%\t|  2109 seconds\n",
        "\tGet games html 009: ==================================================  100.0%\t|  1182 seconds\n",
        "\tGet games html 010: ==================================================  100.0%\t|  1401 seconds\n",
        "\tGet games html 011: ==================================================  100.0%\t|  1066 seconds\n",
        "\tGet games html 012: ==================================================  100.0%\t|  1468 seconds\n",
        "\tGet games html 014: ==================================================  100.0%\t|  2177 seconds\n",
        "\tGet games html 015: ==================================================  100.0%\t|  1180 seconds\n",
        "\tGet games html 016: ==================================================  100.0%\t|  1283 seconds\n",
        "\tGet games html 017: ==================================================  100.0%\t|  1285 seconds\n",
        "\tGet games html 018: ==================================================  100.0%\t|  1230 seconds\n",
        "\tGet games html 019: ==================================================  100.0%\t|  1062 seconds\n",
        "\tGet games html 020: ==================================================  100.0%\t|  1143 seconds\n",
        "\tGet games html 021: ==================================================  100.0%\t|  1368 seconds\n",
        "\tGet games html 022: ==================================================  100.0%\t|  1333 seconds\n",
        "\tGet games html 023: ==================================================  100.0%\t|  1020 seconds\n",
        "\tGet games html 024: ==================================================  100.0%\t|   439 seconds\n",
        "\tGet games html 025: ==================================================  100.0%\t|  1244 seconds\n",
        "\tGet games html 026: ==================================================  100.0%\t|   915 seconds\n",
        "\tGet games html 027: ==================================================  100.0%\t|   998 seconds\n",
        "\tGet games html 028: ==================================================  100.0%\t|  1192 seconds\n",
        "\tGet games html 029: ==================================================  100.0%\t|   882 seconds\n",
        "\tGet games html 030: ==================================================  100.0%\t|   983 seconds\n",
        "\tGet games html 031: ==================================================  100.0%\t|  1218 seconds\n",
        "\tGet games html 032: ==================================================  100.0%\t|   970 seconds\n",
        "\tGet games html 033: ==================================================  100.0%\t|  1897 seconds\n",
        "\tGet games html 034: ==================================================   99.0%\t|   979 seconds\n",
        "\tGet games html 035: ==================================================  100.0%\t|  1015 seconds\n",
        "\tGet games html 036: ==================================================  100.0%\t|   873 seconds\n",
        "\tGet games html 037: ==================================================  100.0%\t|  1165 seconds\n",
        "\tGet games html 038: ==================================================  100.0%\t|   913 seconds\n",
        "\tGet games html 039: ==================================================  100.0%\t|  2076 seconds\n",
        "\tGet games html 040: ==================================================  100.0%\t|  2165 seconds\n",
        "\tGet games html 041: ==================================================  100.0%\t|   612 seconds\n",
        "\tGet games html 042: ==================================================  100.0%\t|  2193 seconds\n",
        "\tGet games html 043: =================================================  100.0%\t|  1121 seconds\n",
        "\tGet games html 044: ==================================================  100.0%\t|  1244 seconds\n",
        "\tGet games html 045: ==================================================  100.0%\t|  1404 seconds\n",
        "\tGet games html 046: ==================================================  100.0%\t|  2138 seconds\n",
        "\tGet games html 047: ==================================================  100.0%\t|  1428 seconds\n",
        "\tGet games html 048: ==================================================  100.0%\t|  1089 seconds\n",
        "\tGet games html 049: ==================================================  100.0%\t|  1192 seconds\n",
        "\tGet games html 050: ==================================================  100.0%\t|  1110 seconds\n",
        "\tGet games html 051: ==================================================  100.0%\t|  1144 seconds\n",
        "\tGet games html 052: ==================================================  100.0%\t|  1421 seconds\n",
        "\tGet games html 053: ==================================================  100.0%\t|  1146 seconds\n",
        "\tGet games html 054: ==================================================  100.0%\t|  1037 seconds\n",
        "\tGet games html 055: ==================================================  100.0%\t|   971 seconds\n",
        "\tGet games html 056: ==================================================  100.0%\t|  1054 seconds\n",
        "\tGet games html 057: ==================================================  100.0%\t|   900 seconds\n",
        "\tGet games html 058: ==================================================  100.0%\t|  1175 seconds\n",
        "\tGet games html 059: ==================================================  100.0%\t|   677 seconds\n",
        "\tGet games html 060: ==================================================  100.0%\t|  1469 seconds\n",
        "\tGet games html 061: ==================================================  100.0%\t|  1139 seconds\n",
        "\tGet games html 062: ==================================================  100.0%\t|  1222 seconds\n",
        "\tGet games html 063: ==================================================  100.0%\t|  1466 seconds\n",
        "\tGet games html 064: ==================================================  100.0%\t|  1140 seconds\n",
        "\tGet games html 065: ==================================================  100.0%\t|  1249 seconds\n",
        "\tGet games html 066: ==================================================  100.0%\t|  1519 seconds\n",
        "\tGet games html 067: ==================================================  100.0%\t|  1460 seconds\n",
        "\tGet games html 068: ==================================================  100.0%\t|  1415 seconds\n",
        "\tGet games html 069: ==================================================  100.0%\t|  2126 seconds\n",
        "\tGet games html 070: ==================================================  100.0%\t|  1390 seconds\n",
        "\tGet games html 071: ==================================================  100.0%\t|   603 seconds\n",
        "\tGet games html 072: ==================================================  100.0%\t|  1081 seconds\n",
        "\tGet games html 073: ==================================================  100.0%\t|  1062 seconds\n",
        "\tGet games html 074: ==================================================  100.0%\t|  1146 seconds\n",
        "\tGet games html 075: ==================================================  100.0%\t|  1054 seconds\n",
        "\tGet games html 076: ==================================================  100.0%\t|  1221 seconds\n",
        "\tGet games html 077: ==================================================  100.0%\t|  1237 seconds\n",
        "\tGet games html 078: ==================================================  100.0%\t|  1144 seconds\n",
        "\tGet games html 079: ==================================================  100.0%\t|  1233 seconds\n",
        "\tGet games html 080: ==================================================  100.0%\t|  1272 seconds\n",
        "\tGet games html 081: ==================================================  100.0%\t|  1125 seconds\n",
        "\tGet games html 082: ==================================================  100.0%\t|  2147 seconds\n",
        "\tGet games html 083: ==================================================  100.0%\t|  2147 seconds\n",
        "\tGet games html 084: ==================================================  100.0%\t|  1402 seconds\n",
        "\tGet games html 085: ==================================================  100.0%\t|  1446 seconds\n",
        "\tGet games html 086: ==================================================  100.0%\t|  1418 seconds\n",
        "\tGet games html 087: ==================================================  100.0%\t|   598 seconds\n",
        "\tGet games html 088: ==================================================  100.0%\t|  1176 seconds\n",
        "\tGet games html 089: ==================================================  100.0%\t|  1252 seconds\n",
        "\tGet games html 090: ==================================================  100.0%\t|  1161 seconds\n",
        "\tGet games html 091: ==================================================  100.0%\t|  1305 seconds\n",
        "\tGet games html 092: ==================================================  100.0%\t|  1438 seconds\n",
        "\tGet games html 093: ==================================================  100.0%\t|  2160 seconds\n",
        "\tGet games html 094: ==================================================  100.0%\t|  1495 seconds\n",
        "\tGet games html 095: ==================================================  100.0%\t|  1148 seconds\n",
        "\tGet games html 096: ==================================================  100.0%\t|  1146 seconds\n",
        "\tGet games html 097: ==================================================  100.0%\t|  1267 seconds\n",
        "\tGet games html 098: ==================================================  100.0%\t|  1131 seconds\n",
        "\tGet games html 099: ==================================================  100.0%\t|  1442 seconds\n",
        "\tGet games html 100: ==================================================  100.0%\t|  1418 seconds\n",
        "\tGet games html 101: ==================================================  100.0%\t|  1102 seconds\n",
        "\tGet games html 102: ==================================================  100.0%\t|   622 seconds\n",
        "\tGet games html 103: ==================================================  100.0%\t|  1196 seconds\n",
        "\tGet games html 103: ==================================================  100.0%\t|  1472 seconds\n",
        "\tGet games html 104: ==================================================  100.0%\t|  1200 seconds\n",
        "\tGet games html 105: ==================================================  100.0%\t|  1213 seconds\n",
        "\tGet games html 106: ==================================================  100.0%\t|  1421 seconds\n",
        "\tGet games html 107: ==================================================  100.0%\t|  1238 seconds\n",
        "\tGet games html 108: ==================================================  100.0%\t|  1284 seconds\n",
        "\tGet games html 109: ==================================================  100.0%\t|  1159 seconds\n",
        "\tGet games html 110: ==================================================  100.0%\t|  2179 seconds\n",
        "\tGet games html 111: ==================================================  100.0%\t|  2163 seconds\n",
        "\tGet games html 112: ==================================================  100.0%\t|   634 seconds\n",
        "\tGet games html 113: ==================================================  100.0%\t|  1109 seconds\n",
        "\tGet games html 114: ==================================================  100.0%\t|  1443 seconds\n",
        "\tGet games html 115: ==================================================  100.0%\t|  1515 seconds\n",
        "\tGet games html 116: ==================================================  100.0%\t|  1512 seconds\n",
        "\tGet games html 117: ==================================================  100.0%\t|  1186 seconds\n",
        "\tGet games html 118: ==================================================  100.0%\t|  1234 seconds\n",
        "\tGet games html 119: ==================================================  100.0%\t|  1333 seconds\n",
        "\tGet games html 120: ==================================================  100.0%\t|  1167 seconds\n",
        "\tGet games html 121: ==================================================  100.0%\t|  1165 seconds\n",
        "\tGet games html 122: ==================================================  100.0%\t|  1161 seconds\n",
        "\tGet games html 123: ==================================================  100.0%\t|  1114 seconds\n",
        "\tGet games html 124: ==================================================  100.0%\t|  1256 seconds\n",
        "\tGet games html 125: ==================================================  100.0%\t|  1473 seconds\n",
        "\tGet games html 126: ==================================================  100.0%\t|  1491 seconds\n",
        "\tGet games html 127: ==================================================  100.0%\t|  1218 seconds\n",
        "\tGet games html 128: ==================================================  100.0%\t|  1437 seconds\n",
        "\tGet games html 129: ==================================================  100.0%\t|  2146 seconds\n",
        "\tGet games html 130: ==================================================  100.0%\t|  1141 seconds\n",
        "\tGet games html 131: ==================================================  100.0%\t|  2191 seconds\n",
        "\tGet games html 132: ==================================================  100.0%\t|   668 seconds\n",
        "\tGet games html 133: ==================================================  100.0%\t|  1486 seconds\n",
        "\tGet games html 134: ==================================================  100.0%\t|  1473 seconds\n",
        "\tGet games html 135: ==================================================  100.0%\t|  1237 seconds\n",
        "\tGet games html 136: ==================================================  100.0%\t|  1241 seconds\n",
        "\tGet games html 137: ==================================================  100.0%\t|  1426 seconds\n",
        "\tGet games html 138: ==================================================  100.0%\t|  1259 seconds\n",
        "\tGet games html 138: ==================================================  100.0%\t|  2198 seconds\n",
        "\tGet games html 139: ==================================================  100.0%\t|  1108 seconds\n",
        "\tGet games html 140: ==================================================  100.0%\t|  1247 seconds\n",
        "\tGet games html 141: ==================================================  100.0%\t|  1295 seconds\n",
        "\tGet games html 142: ==================================================  100.0%\t|  1150 seconds\n",
        "\tGet games html 143: ==================================================  100.0%\t|  1449 seconds\n",
        "\tGet games html 144: ==================================================  100.0%\t|  1030 seconds\n",
        "\tGet games html 145: ==================================================  100.0%\t|   748 seconds\n",
        "\tGet games html 146: ==================================================  100.0%\t|  1548 seconds\n",
        "\tGet games html 147: ==================================================  100.0%\t|  1238 seconds\n",
        "\tGet games html 148: ==================================================  100.0%\t|  1306 seconds\n",
        "\tGet games html 149: ==================================================  100.0%\t|  1543 seconds\n",
        "\tGet games html 150: ==================================================  100.0%\t|  1371 seconds\n",
        "\tGet games html 151: ==================================================  100.0%\t|  1194 seconds\n",
        "\tGet games html 152: ==================================================  100.0%\t|  1619 seconds\n",
        "\tGet games html 153: ==================================================  100.0%\t|  2822 seconds\n",
        "\tGet games html 154: ==================================================  100.0%\t|  1610 seconds\n",
        "\tGet games html 155: ==================================================  100.0%\t|  1234 seconds\n",
        "\tGet games html 156: ==================================================  100.0%\t|  1337 seconds\n",
        "\tGet games html 157: ==================================================  100.0%\t|  1285 seconds\n",
        "\tGet games html 158: ==================================================  100.0%\t|  1217 seconds\n",
        "\tGet games html 159: ==================================================  100.0%\t|  1281 seconds\n",
        "\tGet games html 160: ==================================================  100.0%\t|  2141 seconds\n",
        "\tGet games html 161: ==================================================  100.0%\t|  2098 seconds\n",
        "\tGet games html 162: ==================================================  100.0%\t|  2908 seconds\n",
        "\tGet games html 163: ==================================================  100.0%\t|  2015 seconds\n",
        "\tGet games html 164: ==================================================  100.0%\t|  2951 seconds\n",
        "\tGet games html 165: ==================================================  100.0%\t|  1243 seconds\n",
        "\tGet games html 166: ==================================================  100.0%\t|  2172 seconds\n",
        "\tGet games html 167: ==================================================  100.0%\t|  3027 seconds\n",
        "\tGet games html 168: ==================================================  100.0%\t|  2102 seconds\n",
        "\tGet games html 169: ==================================================  100.0%\t|  1989 seconds\n",
        "\tGet games html 170: ==================================================  100.0%\t|  1942 seconds\n",
        "\tGet games html 170: ==================================================  100.0%\t|  1971 seconds\n",
        "\tGet games html 171: ==================================================  100.0%\t|   991 seconds\n",
        "\tGet games html 172: ==================================================  100.0%\t|  2486 seconds\n",
        "\tGet games html 173: ==================================================  100.0%\t|  2509 seconds\n",
        "\tGet games html 174: ==================================================  100.0%\t|  2246 seconds\n",
        "\tGet games html 175: ==================================================  100.0%\t|  2306 seconds\n",
        "\tGet games html 176: ==================================================  100.0%\t|  2915 seconds\n",
        "\tGet games html 177: ==================================================  100.0%\t|  2414 seconds\n",
        "\tGet games html 178: ==================================================  100.0%\t|  2285 seconds\n",
        "\tGet games html 179: ==================================================  100.0%\t|  2356 seconds\n",
        "\tGet games html 180: ==================================================  100.0%\t|  2372 seconds\n",
        "\tGet games html 181: ==================================================  100.0%\t|  2404 seconds\n",
        "\tGet games html 182: ==================================================  100.0%\t|  2328 seconds\n",
        "\tGet games html 183: ==================================================  100.0%\t|  2258 seconds\n",
        "\tGet games html 184: ==================================================  100.0%\t|  2285 seconds\n",
        "\tGet games html 185: ==================================================  100.0%\t|  2300 seconds\n",
        "\tGet games html 186: ==================================================  100.0%\t|  2367 seconds\n",
        "\tGet games html 187: ==================================================  100.0%\t|  2327 seconds\n",
        "\tGet games html 188: ==================================================  100.0%\t|  1498 seconds\n",
        "\tGet games html 189: ==================================================  100.0%\t|  1965 seconds\n",
        "\tGet games html 190: ==================================================  100.0%\t|  1963 seconds\n",
        "\tGet games html 191: ==================================================  100.0%\t|  1975 seconds\n",
        "\tGet games html 192: ==================================================  100.0%\t|  1944 seconds\n",
        "\tGet games html 193: ==================================================  100.0%\t|  1894 seconds\n",
        "\tGet games html 194: ==================================================  100.0%\t|  2597 seconds\n",
        "\tGet games html 195: ==================================================  100.0%\t|  1866 seconds\n",
        "\tGet games html 196: ==================================================  100.0%\t|  1831 seconds\n",
        "\tGet games html 197: ==================================================  100.0%\t|  2510 seconds\n",
        "\tGet games html 198: ==================================================  100.0%\t|  1557 seconds\n",
        "\tGet games html 200: ==================================================  100.0%\t|  1823 seconds\n",
        "\tGet games html 201: ==================================================  100.0%\t|  2478 seconds\n",
        "\tGet games html 202: ==================================================  100.0%\t|  2518 seconds\n",
        "\tGet games html 203: ==================================================  100.0%\t|  1099 seconds\n",
        "\tGet games html 204: ==================================================  100.0%\t|  1862 seconds\n",
        "\tGet games html 205: ==================================================  100.0%\t|  1582 seconds\n",
        "\tGet games html 206: ==================================================  100.0%\t|  1632 seconds\n",
        "\tGet games html 207: ==================================================  100.0%\t|  2531 seconds\n",
        "\tGet games html 208: ==================================================  100.0%\t|  1839 seconds\n",
        "\tGet games html 209: ==================================================  100.0%\t|  1500 seconds\n",
        "\tGet games html 210: ==================================================  100.0%\t|  1628 seconds\n",
        "\tGet games html 211: ==================================================  100.0%\t|  1824 seconds\n",
        "\tGet games html 212: ==================================================  100.0%\t|  1543 seconds\n",
        "\tGet games html 213: ==================================================  100.0%\t|  1840 seconds\n",
        "\tGet games html 214: ==================================================  100.0%\t|  1782 seconds\n",
        "\tGet games html 215: ==================================================  100.0%\t|  1769 seconds\n",
        "\tGet games html 216: ==================================================  100.0%\t|  1395 seconds\n",
        "\tGet games html 217: ==================================================  100.0%\t|  1463 seconds\n",
        "\tGet games html 218: ==================================================  100.0%\t|  1368 seconds\n",
        "\tGet games html 219: ==================================================  100.0%\t|  1416 seconds\n",
        "\tGet games html 220: ==================================================  100.0%\t|  1491 seconds\n",
        "\tGet games html 221: ==================================================  100.0%\t|  1725 seconds\n",
        "\tGet games html 222: ==================================================  100.0%\t|  1337 seconds\n",
        "\tGet games html 223: ==================================================  100.0%\t|   822 seconds\n",
        "\tGet games html 224: ==================================================  100.0%\t|  1590 seconds\n",
        "\tGet games html 225: ==================================================  100.0%\t|  1555 seconds\n",
        "\tGet games html 226: ==================================================  100.0%\t|  1562 seconds\n",
        "\tGet games html 227: ==================================================  100.0%\t|  1604 seconds\n",
        "\tGet games html 228: ==================================================  100.0%\t|  1586 seconds\n",
        "\tGet games html 229: ==================================================  100.0%\t|  1246 seconds\n",
        "\tGet games html 230: ==================================================  100.0%\t|  1318 seconds\n",
        "\tGet games html 231: ==================================================  100.0%\t|  1264 seconds\n",
        "\tGet games html 232: ==================================================  100.0%\t|  1342 seconds\n",
        "\tGet games html 233: ==================================================  100.0%\t|  1237 seconds\n",
        "\tGet games html 234: ==================================================  100.0%\t|  1361 seconds\n",
        "\tGet games html 235: ==================================================  100.0%\t|  2197 seconds\n",
        "\tGet games html 236: ==================================================  100.0%\t|  2250 seconds\n",
        "\tGet games html 237: ==================================================  100.0%\t|  2233 seconds\n",
        "\tGet games html 238: ==================================================  100.0%\t|  2215 seconds\n",
        "\tGet games html 239: ==================================================  100.0%\t|   744 seconds\n",
        "\tGet games html 240: ==================================================  100.0%\t|  1506 seconds\n",
        "\tGet games html 241: ==================================================  100.0%\t|  2206 seconds\n",
        "\tGet games html 242: ==================================================  100.0%\t|  1556 seconds\n",
        "\tGet games html 243: ==================================================  100.0%\t|  1554 seconds\n",
        "\tGet games html 244: ==================================================  100.0%\t|  1525 seconds\n",
        "\tGet games html 245: ==================================================  100.0%\t|  1505 seconds\n",
        "\tGet games html 246: ==================================================  100.0%\t|  1550 seconds\n",
        "\tGet games html 247: ==================================================  100.0%\t|  1238 seconds\n",
        "\tGet games html 248: ==================================================  100.0%\t|   680 seconds\n",
        "\tGet games html 249: ==================================================  100.0%\t|  1186 seconds\n",
        "\tGet games html 250: ==================================================  100.0%\t|  1180 seconds\n",
        "\tGet games html 251: ==================================================  100.0%\t|  1209 seconds\n",
        "\tGet games html 252: ==================================================  100.0%\t|  1535 seconds\n",
        "\tGet games html 253: ==================================================  100.0%\t|  1255 seconds\n",
        "\tGet games html 254: ==================================================  100.0%\t|  1189 seconds\n",
        "\tGet games html 254: ==================================================  100.0%\t|  1249 seconds\n",
        "\tGet games html 255: ==================================================  100.0%\t|  1174 seconds\n",
        "\tGet games html 256: ==================================================  100.0%\t|  1124 seconds\n",
        "\tGet games html 257: ==================================================  100.0%\t|  1494 seconds\n",
        "\tGet games html 258: ==================================================  100.0%\t|  1475 seconds\n",
        "\tGet games html 259: ==================================================  100.0%\t|  1454 seconds\n",
        "\tGet games html 260: ==================================================  100.0%\t|  1302 seconds\n",
        "\tGet games html 261: ==================================================  100.0%\t|  1437 seconds\n",
        "\tGet games html 262: ==================================================  100.0%\t|  1437 seconds\n",
        "\tGet games html 263: ==================================================  100.0%\t|   712 seconds\n",
        "\tGet games html 264: ==================================================  100.0%\t|  1071 seconds\n",
        "\tGet games html 265: ==================================================  100.0%\t|  1046 seconds\n",
        "\tGet games html 266: ==================================================  100.0%\t|  1085 seconds\n",
        "\tGet games html 267: ==================================================  100.0%\t|  1158 seconds\n",
        "\tGet games html 268: ==================================================  100.0%\t|  1064 seconds\n",
        "\tGet games html 269: ==================================================  100.0%\t|  1114 seconds\n",
        "\tGet games html 270: ==================================================  100.0%\t|   574 seconds\n",
        "\tGet games html 271: ==================================================  100.0%\t|  1364 seconds\n",
        "\tGet games html 272: ==================================================  100.0%\t|  1121 seconds\n",
        "\tGet games html 273: ==================================================  100.0%\t|  1410 seconds\n",
        "\tGet games html 274: ==================================================  100.0%\t|  1078 seconds\n",
        "\tGet games html 275: ==================================================  100.0%\t|  1332 seconds\n",
        "\tGet games html 276: ==================================================  100.0%\t|  1148 seconds\n",
        "\tGet games html 277: ==================================================  100.0%\t|  1062 seconds\n",
        "\tGet games html 278: ==================================================  100.0%\t|  1326 seconds\n",
        "\tGet games html 279: ==================================================  100.0%\t|  1354 seconds\n",
        "\tGet games html 280: ==================================================  100.0%\t|  1468 seconds\n",
        "\tGet games html 281: ==================================================  100.0%\t|   671 seconds\n",
        "\tGet games html 282: ==================================================  100.0%\t|  1458 seconds\n",
        "\tGet games html 283: ==================================================  100.0%\t|  1446 seconds\n",
        "\tGet games html 284: ==================================================  100.0%\t|  1414 seconds\n",
        "\tGet games html 285: ==================================================  100.0%\t|  1406 seconds\n",
        "\tGet games html 286: ==================================================  100.0%\t|  2089 seconds\n",
        "\tGet games html 287: ==================================================  100.0%\t|  2097 seconds\n",
        "\tGet games html 288: ==================================================  100.0%\t|  1363 seconds\n",
        "\tGet games html 289: ==================================================  100.0%\t|  1443 seconds\n",
        "\tGet games html 290: ==================================================  100.0%\t|  2126 seconds\n",
        "\tGet games html 291: ==================================================  100.0%\t|  2136 seconds\n",
        "\tGet games html 292: ==================================================  100.0%\t|   633 seconds\n",
        "\tGet games html 293: ==================================================  100.0%\t|  1147 seconds\n",
        "\tGet games html 294: ==================================================  100.0%\t|  2128 seconds\n",
        "\tGet games html 295: ==================================================  100.0%\t|  1088 seconds\n",
        "\tGet games html 296: ==================================================  100.0%\t|   563 seconds\n",
        "\tGet games html 297: ==================================================  100.0%\t|  1013 seconds\n",
        "\tGet games html 298: ==================================================  100.0%\t|  1157 seconds\n",
        "\tGet games html 299: ==================================================  100.0%\t|  1225 seconds\n",
        "\tGet games html 300: ==================================================  100.0%\t|  1196 seconds\n",
        "\tGet games html 301: ==================================================  100.0%\t|  1477 seconds\n",
        "\tGet games html 302: ==================================================  100.0%\t|  2177 seconds\n",
        "\tGet games html 303: ==================================================  100.0%\t|  1450 seconds\n",
        "\tGet games html 304: ==================================================  100.0%\t|  1441 seconds\n",
        "\tGet games html 305: ==================================================  100.0%\t|  2175 seconds\n",
        "\tGet games html 306: ==================================================  100.0%\t|  1184 seconds\n",
        "\tGet games html 307: ==================================================  100.0%\t|  1446 seconds\n",
        "\tGet games html 308: ==================================================  100.0%\t|  1405 seconds\n",
        "\tGet games html 309: ==================================================  100.0%\t|  2080 seconds\n",
        "\tGet games html 310: ==================================================  100.0%\t|  2107 seconds\n",
        "\tGet games html 311: ==================================================  100.0%\t|   556 seconds\n",
        "\tGet games html 312: ==================================================  100.0%\t|  1352 seconds\n",
        "\tGet games html 313: ==================================================  100.0%\t|  1045 seconds\n",
        "\tGet games html 314: ==================================================  100.0%\t|  1107 seconds\n",
        "\tGet games html 315: ==================================================  100.0%\t|  1981 seconds\n",
        "\tGet games html 316: ==================================================  100.0%\t|  1332 seconds\n",
        "\tGet games html 317: ==================================================  100.0%\t|  1009 seconds\n",
        "\tGet games html 318: ==================================================  100.0%\t|  1110 seconds\n",
        "\tGet games html 319: ==================================================  100.0%\t|  1222 seconds\n",
        "\tGet games html 320: ==================================================  100.0%\t|   944 seconds\n",
        "\tGet games html 321: ==================================================  100.0%\t|  1212 seconds\n",
        "\tGet games html 322: ==================================================  100.0%\t|   962 seconds\n",
        "\tGet games html 323: ==================================================  100.0%\t|   941 seconds\n",
        "\tGet games html 324: ==================================================  100.0%\t|   534 seconds\n",
        "\tGet games html 325: ==================================================  100.0%\t|   968 seconds\n",
        "\tGet games html 326: ==================================================  100.0%\t|  1121 seconds\n",
        "\tGet games html 327: ==================================================  100.0%\t|  1198 seconds\n",
        "\tGet games html 328: ==================================================  100.0%\t|  1440 seconds\n",
        "\tGet games html 329: ==================================================  100.0%\t|  1411 seconds\n",
        "\tGet games html 330: ==================================================  100.0%\t|  2082 seconds\n",
        "\tGet games html 331: ==================================================  100.0%\t|  1365 seconds\n",
        "\tGet games html 332: ==================================================  100.0%\t|  1367 seconds\n",
        "\tGet games html 333: ==================================================  100.0%\t|  2101 seconds\n",
        "\tGet games html 334: ==================================================  100.0%\t|  1118 seconds\n",
        "\tGet games html 335: ==================================================  100.0%\t|  1418 seconds\n",
        "\tGet games html 336: ==================================================  100.0%\t|  1443 seconds\n",
        "\tGet games html 337: ==================================================  100.0%\t|  2128 seconds\n",
        "\tGet games html 338: ==================================================  100.0%\t|  2137 seconds\n",
        "\tGet games html 339: ==================================================  100.0%\t|   626 seconds\n",
        "\tGet games html 340: ==================================================  100.0%\t|  1392 seconds\n",
        "\tGet games html 341: ==================================================  100.0%\t|  1100 seconds\n",
        "\tGet games html 342: ==================================================  100.0%\t|  1156 seconds\n",
        "\tGet games html 343: ==================================================  100.0%\t|  2091 seconds\n",
        "\tGet games html 344: ==================================================  100.0%\t|  1423 seconds\n",
        "\tGet games html 345: ==================================================  100.0%\t|  1103 seconds\n",
        "\tGet games html 346: ==================================================  100.0%\t|  1202 seconds\n",
        "\tGet games html 347: ==================================================  100.0%\t|  1391 seconds\n",
        "\tGet games html 348: ==================================================  100.0%\t|  1106 seconds\n",
        "\tGet games html 349: ==================================================  100.0%\t|  1415 seconds\n",
        "\tGet games html 350: ==================================================  100.0%\t|  1112 seconds\n",
        "\tGet games html 351: ==================================================  100.0%\t|  1094 seconds\n",
        "\tGet games html 352: ==================================================  100.0%\t|   622 seconds\n",
        "\tGet games html 353: ==================================================  100.0%\t|  1085 seconds\n",
        "\tGet games html 354: ==================================================  100.0%\t|  1099 seconds\n",
        "\tGet games html 355: ==================================================  100.0%\t|  1167 seconds\n",
        "\tGet games html 356: ==================================================  100.0%\t|  1395 seconds\n",
        "\tGet games html 357: ==================================================  100.0%\t|  1459 seconds\n",
        "\tGet games html 358: ==================================================  100.0%\t|  2129 seconds\n",
        "\tGet games html 359: ==================================================  100.0%\t|  1399 seconds\n",
        "\tGet games html 360: ==================================================  100.0%\t|  1397 seconds\n",
        "\tGet games html 361: ==================================================  100.0%\t|  2099 seconds\n",
        "\tGet games html 362: ==================================================  100.0%\t|  1147 seconds\n",
        "\tGet games html 363: ==================================================  100.0%\t|  1404 seconds\n",
        "\tGet games html 364: ==================================================  100.0%\t|  1402 seconds\n",
        "\tGet games html 365: ==================================================  100.0%\t|  2136 seconds\n",
        "\tGet games html 366: ==================================================  100.0%\t|  2133 seconds\n",
        "\tGet games html 367: ==================================================  100.0%\t|   628 seconds\n",
        "\tGet games html 368: ==================================================  100.0%\t|  1386 seconds\n",
        "\tGet games html 369: ==================================================  100.0%\t|  1094 seconds\n",
        "\tGet games html 370: ==================================================  100.0%\t|  1185 seconds\n",
        "\tGet games html 371: ==================================================  100.0%\t|  2196 seconds\n",
        "\tGet games html 372: ==================================================  100.0%\t|  1435 seconds\n",
        "\tGet games html 373: ==================================================  100.0%\t|  1077 seconds\n",
        "\tGet games html 374: ==================================================  100.0%\t|  1202 seconds\n",
        "\tGet games html 375: ==================================================  100.0%\t|  1408 seconds\n",
        "\tGet games html 376: ==================================================  100.0%\t|  1079 seconds\n",
        "\tGet games html 377: ==================================================  100.0%\t|  1363 seconds\n",
        "\tGet games html 378: ==================================================  100.0%\t|  1053 seconds\n",
        "\tGet games html 379: ==================================================  100.0%\t|  1051 seconds\n",
        "\tGet games html 380: ==================================================  100.0%\t|   578 seconds\n",
        "\tGet games html 381: ==================================================  100.0%\t|  1027 seconds\n",
        "\tGet games html 382: ==================================================  100.0%\t|  1083 seconds\n",
        "\tGet games html 383: ==================================================  100.0%\t|  1147 seconds\n",
        "\tGet games html 384: ==================================================  100.0%\t|  1390 seconds\n",
        "\tGet games html 385: ==================================================  100.0%\t|  1400 seconds\n",
        "\tGet games html 386: ==================================================  100.0%\t|  2103 seconds\n",
        "\tGet games html 387: ==================================================  100.0%\t|  1368 seconds\n",
        "\tGet games html 388: ==================================================  100.0%\t|  1376 seconds\n",
        "\tGet games html 389: ==================================================  100.0%\t|  2117 seconds\n",
        "\tGet games html 390: ==================================================  100.0%\t|  1134 seconds\n",
        "\tGet games html 391: ==================================================  100.0%\t|  1354 seconds\n",
        "\tGet games html 392: ==================================================  100.0%\t|  1376 seconds\n",
        "\tGet games html 393: ==================================================  100.0%\t|  2161 seconds\n",
        "\tGet games html 394: ==================================================  100.0%\t|  2156 seconds\n",
        "\tGet games html 395: ==================================================  100.0%\t|   598 seconds\n",
        "\tGet games html 396: ==================================================  100.0%\t|  1369 seconds\n",
        "\tGet games html 397: ==================================================  100.0%\t|  1110 seconds\n",
        "\tGet games html 398: ==================================================  100.0%\t|  1196 seconds\n",
        "\tGet games html 399: ==================================================  100.0%\t|  2146 seconds\n",
        "\tGet games html 400: ==================================================  100.0%\t|  1396 seconds\n",
        "\tGet games html 401: ==================================================  100.0%\t|  1051 seconds\n",
        "\tGet games html 402: ==================================================  100.0%\t|  1220 seconds\n",
        "\tGet games html 403: ==================================================  100.0%\t|  1384 seconds\n",
        "\tGet games html 404: ==================================================  100.0%\t|  1061 seconds\n",
        "\tGet games html 405: ==================================================  100.0%\t|  1382 seconds\n",
        "\tGet games html 406: ==================================================  100.0%\t|  1104 seconds\n",
        "\tGet games html 407: ==================================================  100.0%\t|  1066 seconds\n",
        "\tGet games html 408: ==================================================  100.0%\t|   586 seconds\n",
        "\tGet games html 409: ==================================================  100.0%\t|  1075 seconds\n",
        "\tGet games html 410: ==================================================  100.0%\t|  1084 seconds\n",
        "\tGet games html 411: ==================================================  100.0%\t|  1143 seconds\n",
        "\tGet games html 412: ==================================================  100.0%\t|  1391 seconds\n",
        "\tGet games html 413: ==================================================  100.0%\t|  1380 seconds\n",
        "\tGet games html 414: ==================================================  100.0%\t|  1386 seconds\n",
        "\tGet games html 415: ==================================================  100.0%\t|  1364 seconds\n",
        "\tGet games html 416: ==================================================  100.0%\t|  1373 seconds\n",
        "\tGet games html 417: ==================================================  100.0%\t|   565 seconds\n",
        "\tGet games html 418: ==================================================  100.0%\t|   583 seconds\n",
        "\tGet games html 419: ==================================================  100.0%\t|   570 seconds\n",
        "\tGet games html 420: ==================================================  100.0%\t|   577 seconds\n",
        "\tGet games html 421: ==================================================  100.0%\t|  1094 seconds\n",
        "\tGet games html 422: ==================================================  100.0%\t|  1086 seconds\n",
        "\tGet games html 423: ==================================================  100.0%\t|   599 seconds\n",
        "\tGet games html 424: ==================================================  100.0%\t|  1068 seconds\n",
        "\tGet games html 425: ==================================================  100.0%\t|  1573 seconds\t\n",
        "\tGet games html 426: ==================================================  100.0%\t|   572 seconds\n",
        "\tGet games html 427: ==================================================  100.0%\t|  1063 seconds\n",
        "\tGet games html 428: ==================================================  100.0%\t|  1105 seconds\n",
        "\tGet games html 429: ==================================================  100.0%\t|  1156 seconds\n",
        "\tGet games html 430: ==================================================  100.0%\t|  1179 seconds\n",
        "\tGet games html 431: ==================================================  100.0%\t|  1067 seconds\n",
        "\tGet games html 432: ==================================================  100.0%\t|   561 seconds\n",
        "\tGet games html 433: ==================================================  100.0%\t|   579 seconds\n",
        "\tGet games html 434: ==================================================  100.0%\t|  1138 seconds\n",
        "\tGet games html 435: ==================================================  100.0%\t|  1386 seconds\n",
        "\tGet games html 436: ==================================================  100.0%\t|  1331 seconds\n",
        "\tGet games html 437: ==================================================  100.0%\t|  1340 seconds\n",
        "\tGet games html 438: ==================================================  100.0%\t|  1111 seconds\n",
        "\tGet games html 439: ==================================================  100.0%\t|  1361 seconds\n",
        "\tGet games html 440: ==================================================  100.0%\t|  1383 seconds\n",
        "\tGet games html 441: ==================================================  100.0%\t|   555 seconds\n",
        "\tGet games html 442: ==================================================  100.0%\t|  1354 seconds\n",
        "\tGet games html 443: ==================================================  100.0%\t|  1039 seconds\n",
        "\tGet games html 444: ==================================================  100.0%\t|  1130 seconds\n",
        "\tGet games html 445: ==================================================  100.0%\t|  1405 seconds\n",
        "\tGet games html 446: ==================================================  100.0%\t|  1047 seconds\n",
        "\tGet games html 447: ==================================================  100.0%\t|  1166 seconds\n",
        "\tGet games html 448: ==================================================  100.0%\t|  1327 seconds\n",
        "\tGet games html 449: ==================================================  100.0%\t|  1392 seconds\n",
        "\tGet games html 450: ==================================================  100.0%\t|  1450 seconds\n",
        "\tGet games html 452: ==================================================  100.0%\t|   652 seconds\n",
        "\tGet games html 453: ==================================================  100.0%\t|  1140 seconds\n",
        "\tGet games html 454: ==================================================  100.0%\t|  1160 seconds\n",
        "\tGet games html 455: ==================================================  100.0%\t|  1218 seconds\n",
        "\tGet games html 456: ==================================================  100.0%\t|  1475 seconds\n",
        "\tGet games html 457: ==================================================  100.0%\t|   640 seconds\n",
        "\tGet games html 458: ==================================================  100.0%\t|   674 seconds\n",
        "\tGet games html 459: ==================================================  100.0%\t|  1225 seconds\n",
        "\tGet games html 460: ==================================================  100.0%\t|  1163 seconds\n",
        "\tGet games html 461: ==================================================  100.0%\t|  1150 seconds\n",
        "\tGet games html 462: ==================================================  100.0%\t|  1457 seconds\n",
        "\tGet games html 463: ==================================================  100.0%\t|  1436 seconds\n",
        "\tGet games html 464: ==================================================  100.0%\t|  1430 seconds\n",
        "\tGet games html 465: ==================================================  100.0%\t|  1425 seconds\n",
        "\tGet games html 466: ==================================================  100.0%\t|  1459 seconds\n",
        "\tGet games html 467: ==================================================  100.0%\t|   679 seconds\n",
        "\tGet games html 468: ==================================================  100.0%\t|  1262 seconds\n",
        "\tGet games html 469: ==================================================  100.0%\t|  1307 seconds\n",
        "\tGet games html 470: ==================================================  100.0%\t|  1183 seconds\n",
        "\tGet games html 471: ==================================================  100.0%\t|  1167 seconds\n",
        "\tGet games html 472: ==================================================  100.0%\t|   703 seconds\n",
        "\tGet games html 473: ==================================================  100.0%\t|  1183 seconds\n",
        "\tGet games html 474: ==================================================  100.0%\t|  1208 seconds\n",
        "\tGet games html 475: ==================================================  100.0%\t|  1251 seconds\n",
        "\tGet games html 476: ==================================================  100.0%\t|  1511 seconds\n",
        "\tGet games html 477: ==================================================  100.0%\t|   695 seconds\n",
        "\tGet games html 478: ==================================================  100.0%\t|  2190 seconds\n",
        "\tGet games html 479: ==================================================  100.0%\t|  2192 seconds\n",
        "\tGet games html 480: ==================================================  100.0%\t|  1164 seconds\n",
        "\tGet games html 481: ==================================================  100.0%\t|  2193 seconds\n",
        "\tGet games html 482: ==================================================  100.0%\t|  1502 seconds\n",
        "\tGet games html 483: ==================================================  100.0%\t|  1185 seconds\n",
        "\tGet games html 484: ==================================================  100.0%\t|  1508 seconds\n",
        "\tGet games html 485: ==================================================  100.0%\t|  1205 seconds\n",
        "\tGet games html 486: ==================================================  100.0%\t|  1508 seconds\n",
        "\tGet games html 487: ==================================================  100.0%\t|  1496 seconds\n",
        "\tGet games html 488: ==================================================  100.0%\t|   694 seconds\n",
        "\tGet games html 488: ==================================================  100.0%\t|  1436 seconds\n",
        "\tGet games html 489: ==================================================  100.0%\t|  1409 seconds\n",
        "\tGet games html 490: ==================================================  100.0%\t|  1483 seconds\n",
        "\tGet games html 491: ==================================================  100.0%\t|  1265 seconds\n",
        "\tGet games html 492: ==================================================  100.0%\t|  2207 seconds\n",
        "\tGet games html 493: ==================================================  100.0%\t|  1308 seconds\n",
        "\tGet games html 494: ==================================================  100.0%\t|  1475 seconds\n",
        "\tGet games html 495: ==================================================  100.0%\t|  1482 seconds\n",
        "\tGet games html 496: ==================================================  100.0%\t|   678 seconds\n",
        "\tGet games html 497: ==================================================  100.0%\t|  1492 seconds\n",
        "\tGet games html 498: ==================================================  100.0%\t|  1198 seconds\n",
        "\tGet games html 499: ==================================================  100.0%\t|  1175 seconds\n",
        "\tGet games html 500: ==================================================  100.0%\t|  1159 seconds\n",
        "\tGet games html 501: ==================================================  100.0%\t|  1958 seconds\t\n",
        "\tGet games html 504: ==================================================  100.0%\t|  1014 seconds\n",
        "\tGet games html 505: ==================================================  100.0%\t|  1943 seconds\t\n",
        "\tGet games html 510: ==================================================  100.0%\t|   928 seconds\t\n",
        "\tGet games html 516: ==================================================  100.0%\t|  1040 seconds\t\n",
        "\tGet games html 545: ==================================================  100.0%\t|   950 seconds\n",
        "\tGet games html 546: ==================================================  100.0%\t|  1335 seconds\t\n",
        "\tGet games html 559: ==================================================  100.0%\t|  2002 seconds\n",
        "\tGet games html 560: ==================================================  100.0%\t|  1079 seconds\n",
        "\tGet games html 570: ==================================================  100.0%\t|   949 seconds\t\n",
        "\tGet games html 570: ==================================================  100.0%\t|   949 seconds\t\n",
        "\tGet games html 576: ==================================================  100.0%\t|  1354 seconds\t\n",
        "\tGet games html 591: ==================================================  100.0%\t|  1003 seconds\t\n",
        "\tGet games html 606: ==================================================  100.0%\t|  1566 seconds\t\n",
        "\tGet games html 620: ==================================================  100.0%\t|  1942 seconds\t\n",
        "\tGet games html 621: ==================================================  100.0%\t|  1009 seconds\t\n",
        "\tGet games html 636: ==================================================  100.0%\t|  1251 seconds\t\n",
        "\tGet games html 650: ==================================================  100.0%\t|   971 seconds\n",
        "\tGet games html 651: ==================================================  100.0%\t|   736 seconds\t\n",
        "\tGet games html 654: ==================================================  100.0%\t|  1226 seconds\t\n",
        "\tGet games html 666: ==================================================  100.0%\t|  1586 seconds\t\n",
        "\tGet games html 667: ==================================================  100.0%\t|  1052 seconds\t\n",
        "\tGet games html 681: ==================================================  100.0%\t|  1228 seconds\t\n",
        "\tGet games html 683: ==================================================  100.0%\t|  1955 seconds\n",
        "\tGet games html 684: ==================================================  100.0%\t|  1941 seconds\n",
        "\tGet games html 685: ==================================================  100.0%\t|  1926 seconds\n",
        "\tGet games html 686: ==================================================  100.0%\t|  1929 seconds\n",
        "\tGet games html 687: ==================================================  100.0%\t|  1899 seconds\n",
        "\tGet games html 688: ==================================================  100.0%\t|  1912 seconds\n",
        "\tGet games html 689: ==================================================  100.0%\t|  1918 seconds\n",
        "\tGet games html 690: ==================================================  100.0%\t|  1922 seconds\n",
        "\tGet games html 691: ==================================================  100.0%\t|  1945 seconds\n",
        "\tGet games html 692: ==================================================  100.0%\t|   942 seconds\n",
        "\tGet games html 693: ==================================================  100.0%\t|  1002 seconds\n",
        "\tGet games html 694: ==================================================  100.0%\t|  1948 seconds\n",
        "\tGet games html 695: ==================================================  100.0%\t|  1008 seconds\n",
        "\tGet games html 696: ==================================================  100.0%\t|  1298 seconds\t\n",
        "\tGet games html 698: ==================================================  100.0%\t|   433 seconds\t\n",
        "\tGet games html 698: ==================================================  100.0%\t|   433 seconds\t\n",
        "\tGet games html 711: ==================================================  100.0%\t|  2235 seconds\t\n",
        "\tGet games html 716: ==================================================  100.0%\t|  1907 seconds\n",
        "\tGet games html 717: ==================================================  100.0%\t|  1913 seconds\n",
        "\tGet games html 718: ==================================================  100.0%\t|  1895 seconds\n",
        "\tGet games html 719: ==================================================  100.0%\t|  1884 seconds\n",
        "\tGet games html 720: ==================================================  100.0%\t|  1957 seconds\n",
        "\tGet games html 721: ==================================================  100.0%\t|  1968 seconds\n",
        "\tGet games html 722: ==================================================  100.0%\t|  1983 seconds\n",
        "\tGet games html 723: ==================================================  100.0%\t|  1963 seconds\n",
        "\tGet games html 724: ==================================================  100.0%\t|  1981 seconds\n",
        "\tGet games html 725: ==================================================  100.0%\t|  1101 seconds\n",
        "\tGet games html 726: ==================================================  100.0%\t|  1587 seconds\t\n",
        "\tGet games html 727: ==================================================  100.0%\t|   472 seconds\t\n",
        "\tGet games html 741: ==================================================  100.0%\t|  1246 seconds\t\n",
        "\tGet games html 743: ==================================================  100.0%\t|   969 seconds\t\n",
        "\tGet games html 756: ==================================================  100.0%\t|  1351 seconds\t\n",
        "\tGet games html 758: ==================================================  100.0%\t|  1286 seconds\t\n",
        "\tGet games html 771: ==================================================  100.0%\t|  1638 seconds\n",
        "\tGet games html 772: ==================================================  100.0%\t|  1083 seconds\t\n",
        "\tGet games html 786: ==================================================  100.0%\t|  1968 seconds\n",
        "\tGet games html 787: ==================================================  100.0%\t|  1976 seconds\t\n",
        "\tGet games html 792: ==================================================  100.0%\t|   995 seconds\t\n",
        "\tGet games html 797: ==================================================  100.0%\t|  2044 seconds\t\n",
        "\tGet games html 801: ==================================================  100.0%\t|  1568 seconds\t\n",
        "\tGet games html 803: ==================================================  100.0%\t|   952 seconds\t\n",
        "\tGet games html 816: ==================================================  100.0%\t|  1583 seconds\t\n",
        "\tGet games html 830: ==================================================  100.0%\t|  1024 seconds\t\n",
        "\tGet games html 831: ==================================================  100.0%\t|  1348 seconds\t\n",
        "\tGet games html 838: ==================================================  100.0%\t|   972 seconds\t\n",
        "\tGet games html 846: ==================================================  100.0%\t|  1287 seconds\t\n",
        "\tGet games html 849: ==================================================  100.0%\t|  1252 seconds\t\n",
        "\tGet games html 861: ==================================================  100.0%\t|   762 seconds\t\n",
        "\tGet games html 868: ==================================================  100.0%\t|   980 seconds\t\n",
        "\tGet games html 876: ==================================================  100.0%\t|  1238 seconds\t\n",
        "\tGet games html 878: ==================================================  100.0%\t|   939 seconds\t\n",
        "\tGet games html 885: ==================================================  100.0%\t|   979 seconds\t\n",
        "\tGet games html 891: ==================================================  100.0%\t|  1312 seconds\t\n",
        "\tGet games html 893: ==================================================  100.0%\t|   983 seconds\t\n",
        "\tGet games html 900: ==================================================  100.0%\t|   957 seconds\t\n",
        "\tGet games html 906: ==================================================  100.0%\t|  1348 seconds\t\n",
        "\tGet games html 907: ==================================================  100.0%\t|  1239 seconds\t\n",
        "\tGet games html 910: ==================================================  100.0%\t|  1208 seconds\t\n",
        "\tGet games html 920: ==================================================  100.0%\t|  1062 seconds\n",
        "\tGet games html 922: ==================================================  100.0%\t|   990 seconds\t\n",
        "\tGet games html 936:==================================================  100.0%\t|  1022 seconds\n",
        "\tGet games html 946: ==================================================  100.0%\t|   516 seconds\n",
        "\tGet games html 948: ==================================================  100.0%\t|   430 seconds\n",
        "\tGet games html 949: ==================================================  100.0%\t|   516 seconds\n",
        "\tGet games html 951: ==================================================  100.0%\t|  1202 seconds\n",
        "\tGet games html 954: ==================================================  100.0%\t|   976 seconds\n",
        "    Get games html 006: ==================================================  100.0%\t|  2131 seconds\n",
        "    Get games html 451: ==================================================  100.0%\t|  1145 seconds\n",
        "    Get games html 502: ==================================================  100.0%\t|  1955 seconds\t\n",
        "    Get games html 503: ==================================================  100.0%\t|  1952 seconds\t\n",
        "    Get games html 506: ==================================================  100.0%\t|  1929 seconds\t\n",
        "    Get games html 507: ==================================================  100.0%\t|  1897 seconds\t\n",
        "    Get games html 508: ==================================================  100.0%\t|  1949 seconds\t\n",
        "    Get games html 509: ==================================================  100.0%\t|  1953 seconds\n",
        "    Get games html 511: ==================================================  100.0%\t|   931 seconds\t\n",
        "    Get games html 512: ==================================================  100.0%\t|   915 seconds\t\n",
        "    Get games html 513: ==================================================  100.0%\t|   946 seconds\t\n",
        "    Get games html 514: ==================================================  100.0%\t|   962 seconds\t\n",
        "    Get games html 515: ==================================================  100.0%\t|   956 seconds\n",
        "    Get games html 517: ==================================================  100.0%\t|  1036 seconds\t\n",
        "    Get games html 518: ==================================================  100.0%\t|  1016 seconds\t\n",
        "    Get games html 519: ==================================================  100.0%\t|  1007 seconds\t\n",
        "    Get games html 520: ==================================================  100.0%\t|   997 seconds\t\n",
        "    Get games html 521: ==================================================  100.0%\t|   985 seconds\t\n",
        "    Get games html 522: ==================================================  100.0%\t|   995 seconds\t\n",
        "    Get games html 523: ==================================================  100.0%\t|   987 seconds\t\n",
        "    Get games html 524: ==================================================  100.0%\t|   981 seconds\t\n",
        "    Get games html 525: ==================================================  100.0%\t|  1044 seconds\t\n",
        "    Get games html 526: ==================================================  100.0%\t|  1030 seconds\t\n",
        "    Get games html 527: ==================================================  100.0%\t|  1036 seconds\t\n",
        "    Get games html 528: ==================================================  100.0%\t|  1012 seconds\t\n",
        "    Get games html 529: ==================================================  100.0%\t|  1038 seconds\t\n",
        "    Get games html 530: ==================================================  100.0%\t|  1030 seconds\n",
        "    Get games html 531: ==================================================  100.0%\t|  1522 seconds\t\n",
        "    Get games html 532: ==================================================  100.0%\t|  1608 seconds\t\n",
        "    Get games html 533: ==================================================  100.0%\t|  1702 seconds\t\n",
        "    Get games html 534: ==================================================  100.0%\t|  1795 seconds\t\n",
        "    Get games html 535: ==================================================  100.0%\t|  1488 seconds\t\n",
        "    Get games html 536: ==================================================  100.0%\t|  1402 seconds\t\n",
        "    Get games html 537: ==================================================  100.0%\t|  1356 seconds\t\n",
        "    Get games html 538: ==================================================  100.0%\t|  1577 seconds\t\n",
        "    Get games html 539: ==================================================  100.0%\t|  1295 seconds\t\n",
        "    Get games html 540: ==================================================  100.0%\t|  1271 seconds\t\n",
        "    Get games html 541: ==================================================  100.0%\t|  1243 seconds\t\n",
        "    Get games html 542: ==================================================  100.0%\t|  1239 seconds\t\n",
        "    Get games html 543: ==================================================  100.0%\t|  1237 seconds\t\n",
        "    Get games html 544: ==================================================  100.0%\t|  1223 seconds\n",
        "    Get games html 547: ==================================================  100.0%\t|  1380 seconds\t\n",
        "    Get games html 548: ==================================================  100.0%\t|  1365 seconds\t\n",
        "    Get games html 549: ==================================================  100.0%\t|  1353 seconds\t\n",
        "    Get games html 550: ==================================================  100.0%\t|  1326 seconds\t\n",
        "    Get games html 551: ==================================================  100.0%\t|  1310 seconds\t\n",
        "    Get games html 552: ==================================================  100.0%\t|  1257 seconds\t\n",
        "    Get games html 553: ==================================================  100.0%\t|  1283 seconds\t\n",
        "    Get games html 554: ==================================================  100.0%\t|  1309 seconds\t\n",
        "    Get games html 555: ==================================================  100.0%\t|  1391 seconds\t\n",
        "    Get games html 556: ==================================================  100.0%\t|  1399 seconds\t\n",
        "    Get games html 557: ==================================================  100.0%\t|  1397 seconds\t\n",
        "    Get games html 558: ==================================================  100.0%\t|  1420 seconds\n",
        "    Get games html 561: ==================================================  100.0%\t|  2315 seconds\t\n",
        "    Get games html 562: ==================================================  100.0%\t|  2474 seconds\t\n",
        "    Get games html 563: ==================================================  100.0%\t|  2493 seconds\t\n",
        "    Get games html 564: ==================================================  100.0%\t|  2207 seconds\t\n",
        "    Get games html 565: ==================================================  100.0%\t|  2221 seconds\t\n",
        "    Get games html 566: ==================================================  100.0%\t|  2163 seconds\t\n",
        "    Get games html 567: ==================================================  100.0%\t|  2041 seconds\t\n",
        "    Get games html 568: ==================================================  100.0%\t|  2017 seconds\t\n",
        "    Get games html 569: ==================================================  100.0%\t|  1994 seconds\n",
        "    Get games html 571: ==================================================  100.0%\t|   943 seconds\t\n",
        "    Get games html 571: ==================================================  100.0%\t|   943 seconds\t\n",
        "    Get games html 572: ==================================================  100.0%\t|   949 seconds\t\n",
        "    Get games html 572: ==================================================  100.0%\t|   949 seconds\t\n",
        "    Get games html 573: ==================================================  100.0%\t|   960 seconds\t\n",
        "    Get games html 573: ==================================================  100.0%\t|   960 seconds\t\n",
        "    Get games html 574: ==================================================  100.0%\t|   953 seconds\t\n",
        "    Get games html 574: ==================================================  100.0%\t|   953 seconds\t\n",
        "    Get games html 575: ==================================================  100.0%\t|   947 seconds\n",
        "    Get games html 575: ==================================================  100.0%\t|   947 seconds\n",
        "    Get games html 577: ==================================================  100.0%\t|  1381 seconds\t\n",
        "    Get games html 578: ==================================================  100.0%\t|  1485 seconds\t\n",
        "    Get games html 579: ==================================================  100.0%\t|  1586 seconds\t\n",
        "    Get games html 580: ==================================================  100.0%\t|  1420 seconds\t\n",
        "    Get games html 581: ==================================================  100.0%\t|  1255 seconds\t\n",
        "    Get games html 582: ==================================================  100.0%\t|  1179 seconds\t\n",
        "    Get games html 583: ==================================================  100.0%\t|  1178 seconds\t\n",
        "    Get games html 584: ==================================================  100.0%\t|  1428 seconds\t\n",
        "    Get games html 585: ==================================================  100.0%\t|  1093 seconds\t\n",
        "    Get games html 586: ==================================================  100.0%\t|  1068 seconds\t\n",
        "    Get games html 587: ==================================================  100.0%\t|  1064 seconds\t\n",
        "    Get games html 588: ==================================================  100.0%\t|  1010 seconds\t\n",
        "    Get games html 589: ==================================================  100.0%\t|  1024 seconds\t\n",
        "    Get games html 590: ==================================================  100.0%\t|  1022 seconds\n",
        "    Get games html 592: ==================================================  100.0%\t|   987 seconds\t\n",
        "    Get games html 593: ==================================================  100.0%\t|   987 seconds\t\n",
        "    Get games html 594: ==================================================  100.0%\t|   982 seconds\t\n",
        "    Get games html 595: ==================================================  100.0%\t|  1000 seconds\t\n",
        "    Get games html 596: ==================================================  100.0%\t|   987 seconds\t\n",
        "    Get games html 597: ==================================================  100.0%\t|  1010 seconds\t\n",
        "    Get games html 598: ==================================================  100.0%\t|   987 seconds\t\n",
        "    Get games html 599: ==================================================  100.0%\t|   976 seconds\t\n",
        "    Get games html 600: ==================================================  100.0%\t|  1009 seconds\t\n",
        "    Get games html 601: ==================================================  100.0%\t|  1000 seconds\t\n",
        "    Get games html 602: ==================================================  100.0%\t|  1006 seconds\t\n",
        "    Get games html 603: ==================================================  100.0%\t|  1021 seconds\t\n",
        "    Get games html 604: ==================================================  100.0%\t|  1020 seconds\t\n",
        "    Get games html 605: ==================================================  100.0%\t|  1046 seconds\n",
        "    Get games html 607: ==================================================  100.0%\t|  1573 seconds\t\n",
        "    Get games html 608: ==================================================  100.0%\t|  1690 seconds\t\n",
        "    Get games html 609: ==================================================  100.0%\t|  1785 seconds\t\n",
        "    Get games html 610: ==================================================  100.0%\t|  1438 seconds\t\n",
        "    Get games html 611: ==================================================  100.0%\t|  1404 seconds\t\n",
        "    Get games html 612: ==================================================  100.0%\t|  1431 seconds\t\n",
        "    Get games html 613: ==================================================  100.0%\t|  1659 seconds\t\n",
        "    Get games html 614: ==================================================  100.0%\t|  1339 seconds\t\n",
        "    Get games html 615: ==================================================  100.0%\t|  1340 seconds\t\n",
        "    Get games html 616: ==================================================  100.0%\t|  1305 seconds\t\n",
        "    Get games html 617: ==================================================  100.0%\t|  1299 seconds\t\n",
        "    Get games html 618: ==================================================  100.0%\t|  1259 seconds\t\n",
        "    Get games html 619: ==================================================  100.0%\t|  1254 seconds\t\n",
        "    Get games html 622: ==================================================  100.0%\t|   986 seconds\t\n",
        "    Get games html 623: ==================================================  100.0%\t|   998 seconds\t\n",
        "    Get games html 624: ==================================================  100.0%\t|   970 seconds\t\n",
        "    Get games html 625: ==================================================  100.0%\t|   987 seconds\t\n",
        "    Get games html 626: ==================================================  100.0%\t|   986 seconds\t\n",
        "    Get games html 627: ==================================================  100.0%\t|   980 seconds\t\n",
        "    Get games html 628: ==================================================  100.0%\t|   955 seconds\t\n",
        "    Get games html 629: ==================================================  100.0%\t|   956 seconds\t\n",
        "    Get games html 630: ==================================================  100.0%\t|   956 seconds\t\n",
        "    Get games html 631: ==================================================  100.0%\t|   994 seconds\t\n",
        "    Get games html 632: ==================================================  100.0%\t|   994 seconds\t\n",
        "    Get games html 633: ==================================================  100.0%\t|   974 seconds\t\n",
        "    Get games html 634: ==================================================  100.0%\t|  1012 seconds\t\n",
        "    Get games html 635: ==================================================  100.0%\t|   993 seconds\t\n",
        "    Get games html 637: ==================================================  100.0%\t|  1236 seconds\t\n",
        "    Get games html 638: ==================================================  100.0%\t|  1227 seconds\t\n",
        "    Get games html 639: ==================================================  100.0%\t|  1210 seconds\t\n",
        "    Get games html 640: ==================================================  100.0%\t|  1226 seconds\t\n",
        "    Get games html 641: ==================================================  100.0%\t|  1258 seconds\t\n",
        "    Get games html 642: ==================================================  100.0%\t|  1243 seconds\t\n",
        "    Get games html 643: ==================================================  100.0%\t|  1244 seconds\t\n",
        "    Get games html 644: ==================================================  100.0%\t|  1233 seconds\t\n",
        "    Get games html 645: ==================================================  100.0%\t|  1265 seconds\t\n",
        "    Get games html 646: ==================================================  100.0%\t|  1225 seconds\t\n",
        "    Get games html 647: ==================================================  100.0%\t|  1232 seconds\t\n",
        "    Get games html 648: ==================================================  100.0%\t|  1267 seconds\t\n",
        "    Get games html 649: ==================================================  100.0%\t|  1277 seconds\n",
        "    Get games html 652: ==================================================  100.0%\t|   792 seconds\t\n",
        "    Get games html 653: ==================================================  100.0%\t|   763 seconds\n",
        "    Get games html 655: ==================================================  100.0%\t|  1199 seconds\t\n",
        "    Get games html 656: ==================================================  100.0%\t|  1192 seconds\t\n",
        "    Get games html 657: ==================================================  100.0%\t|  1182 seconds\t\n",
        "    Get games html 658: ==================================================  100.0%\t|  1182 seconds\t\n",
        "    Get games html 659: ==================================================  100.0%\t|  1184 seconds\t\n",
        "    Get games html 660: ==================================================  100.0%\t|  1167 seconds\t\n",
        "    Get games html 661: ==================================================  100.0%\t|  1201 seconds\t\n",
        "    Get games html 662: ==================================================  100.0%\t|  1216 seconds\t\n",
        "    Get games html 663: ==================================================  100.0%\t|  1203 seconds\t\n",
        "    Get games html 664: ==================================================  100.0%\t|  1236 seconds\t\n",
        "    Get games html 665: ==================================================  100.0%\t|  1231 seconds\t\n",
        "    Get games html 668: ==================================================  100.0%\t|  1026 seconds\t\n",
        "    Get games html 669: ==================================================  100.0%\t|   999 seconds\t\n",
        "    Get games html 670: ==================================================  100.0%\t|  1012 seconds\t\n",
        "    Get games html 671: ==================================================  100.0%\t|  1002 seconds\t\n",
        "    Get games html 672: ==================================================  100.0%\t|   983 seconds\t\n",
        "    Get games html 673: ==================================================  100.0%\t|   990 seconds\t\n",
        "    Get games html 674: ==================================================  100.0%\t|   990 seconds\t\n",
        "    Get games html 675: ==================================================  100.0%\t|   980 seconds\t\n",
        "    Get games html 676: ==================================================  100.0%\t|  1002 seconds\t\n",
        "    Get games html 677: ==================================================  100.0%\t|   988 seconds\t\n",
        "    Get games html 678: ==================================================  100.0%\t|  1005 seconds\t\n",
        "    Get games html 679: ==================================================  100.0%\t|  1006 seconds\t\n",
        "    Get games html 680: ==================================================  100.0%\t|  1027 seconds\t\n",
        "    Get games html 682: ==================================================  100.0%\t|  1237 seconds\n",
        "    Get games html 697: ==================================================  100.0%\t|  1303 seconds\t\n",
        "    Get games html 699: ==================================================  100.0%\t|   424 seconds\t\n",
        "    Get games html 699: ==================================================  100.0%\t|   424 seconds\t\n",
        "    Get games html 700: ==================================================  100.0%\t|   436 seconds\t\n",
        "    Get games html 700: ==================================================  100.0%\t|   436 seconds\t\n",
        "    Get games html 701: ==================================================  100.0%\t|   439 seconds\t\n",
        "    Get games html 701: ==================================================  100.0%\t|   439 seconds\t\n",
        "    Get games html 702: ==================================================  100.0%\t|   413 seconds\t\n",
        "    Get games html 702: ==================================================  100.0%\t|   413 seconds\t\n",
        "    Get games html 703: ==================================================  100.0%\t|   425 seconds\t\n",
        "    Get games html 703: ==================================================  100.0%\t|   425 seconds\t\n",
        "    Get games html 704: ==================================================  100.0%\t|   448 seconds\t\n",
        "    Get games html 704: ==================================================  100.0%\t|   448 seconds\t\n",
        "    Get games html 705: ==================================================  100.0%\t|   426 seconds\t\n",
        "    Get games html 705: ==================================================  100.0%\t|   426 seconds\t\n",
        "    Get games html 706: ==================================================  100.0%\t|   418 seconds\t\n",
        "    Get games html 706: ==================================================  100.0%\t|   418 seconds\t\n",
        "    Get games html 707: ==================================================  100.0%\t|   414 seconds\t\n",
        "    Get games html 707: ==================================================  100.0%\t|   414 seconds\t\n",
        "    Get games html 708: ==================================================  100.0%\t|   433 seconds\t\n",
        "    Get games html 708: ==================================================  100.0%\t|   433 seconds\t\n",
        "    Get games html 709: ==================================================  100.0%\t|   420 seconds\t\n",
        "    Get games html 709: ==================================================  100.0%\t|   420 seconds\t\n",
        "    Get games html 710: ==================================================  100.0%\t|   421 seconds\t\n",
        "    Get games html 710: ==================================================  100.0%\t|   421 seconds\t\n",
        "    Get games html 712: ==================================================  100.0%\t|  2380 seconds\t\n",
        "    Get games html 713: ==================================================  100.0%\t|  2383 seconds\t\n",
        "    Get games html 714: ==================================================  100.0%\t|  2086 seconds\t\n",
        "    Get games html 715: ==================================================  100.0%\t|  2027 seconds\t\n",
        "    Get games html 728: ==================================================  100.0%\t|   454 seconds\t\n",
        "    Get games html 729: ==================================================  100.0%\t|   455 seconds\t\n",
        "    Get games html 730: ==================================================  100.0%\t|   464 seconds\t\n",
        "    Get games html 731: ==================================================  100.0%\t|   453 seconds\t\n",
        "    Get games html 732: ==================================================  100.0%\t|   454 seconds\t\n",
        "    Get games html 733: ==================================================  100.0%\t|   452 seconds\t\n",
        "    Get games html 734: ==================================================  100.0%\t|   444 seconds\t\n",
        "    Get games html 735: ==================================================  100.0%\t|   426 seconds\t\n",
        "    Get games html 736: ==================================================  100.0%\t|   454 seconds\t\n",
        "    Get games html 737: ==================================================  100.0%\t|   440 seconds\t\n",
        "    Get games html 738: ==================================================  100.0%\t|   428 seconds\t\n",
        "    Get games html 739: ==================================================  100.0%\t|   436 seconds\t\n",
        "    Get games html 740: ==================================================  100.0%\t|   448 seconds\n",
        "    Get games html 742: ==================================================  100.0%\t|  1244 seconds\t\n",
        "    Get games html 744: ==================================================  100.0%\t|   957 seconds\t\n",
        "    Get games html 745: ==================================================  100.0%\t|   958 seconds\t\n",
        "    Get games html 746: ==================================================  100.0%\t|   943 seconds\t\n",
        "    Get games html 747: ==================================================  100.0%\t|   962 seconds\t\n",
        "    Get games html 748: ==================================================  100.0%\t|   958 seconds\t\n",
        "    Get games html 749: ==================================================  100.0%\t|   961 seconds\t\n",
        "    Get games html 750: ==================================================  100.0%\t|   953 seconds\t\n",
        "    Get games html 751: ==================================================  100.0%\t|   941 seconds\t\n",
        "    Get games html 752: ==================================================  100.0%\t|   951 seconds\t\n",
        "    Get games html 753: ==================================================  100.0%\t|   971 seconds\t\n",
        "    Get games html 754: ==================================================  100.0%\t|  1069 seconds\t\n",
        "    Get games html 755: ==================================================  100.0%\t|  1065 seconds\t\n",
        "    Get games html 757: ==================================================  100.0%\t|  1586 seconds\t\n",
        "    Get games html 759: ==================================================  100.0%\t|  1316 seconds\t\n",
        "    Get games html 760: ==================================================  100.0%\t|  1264 seconds\t\n",
        "    Get games html 761: ==================================================  100.0%\t|  1152 seconds\t\n",
        "    Get games html 762: ==================================================  100.0%\t|  1239 seconds\t\n",
        "    Get games html 763: ==================================================  100.0%\t|  1304 seconds\t\n",
        "    Get games html 764: ==================================================  100.0%\t|  1231 seconds\t\n",
        "    Get games html 765: ==================================================  100.0%\t|  1306 seconds\t\n",
        "    Get games html 766: ==================================================  100.0%\t|  1330 seconds\t\n",
        "    Get games html 767: ==================================================  100.0%\t|  1305 seconds\t\n",
        "    Get games html 768: ==================================================  100.0%\t|  1263 seconds\t\n",
        "    Get games html 769: ==================================================  100.0%\t|  1359 seconds\t\n",
        "    Get games html 770: ==================================================  100.0%\t|  1331 seconds\n",
        "    Get games html 773: ==================================================  100.0%\t|  1050 seconds\t\n",
        "    Get games html 774: ==================================================  100.0%\t|   993 seconds\t\n",
        "    Get games html 775: ==================================================  100.0%\t|  1086 seconds\t\n",
        "    Get games html 776: ==================================================  100.0%\t|  1088 seconds\t\n",
        "    Get games html 777: ==================================================  100.0%\t|  1009 seconds\t\n",
        "    Get games html 778: ==================================================  100.0%\t|   987 seconds\t\n",
        "    Get games html 779: ==================================================  100.0%\t|   997 seconds\t\n",
        "    Get games html 780: ==================================================  100.0%\t|  1028 seconds\t\n",
        "    Get games html 781: ==================================================  100.0%\t|   941 seconds\t\n",
        "    Get games html 782: ==================================================  100.0%\t|   996 seconds\t\n",
        "    Get games html 783: ==================================================  100.0%\t|  1004 seconds\t\n",
        "    Get games html 784: ==================================================  100.0%\t|  1011 seconds\t\n",
        "    Get games html 785: ==================================================  100.0%\t|  1040 seconds\t\n",
        "    Get games html 788: ==================================================  100.0%\t|  1960 seconds\t\n",
        "    Get games html 789: ==================================================  100.0%\t|  1927 seconds\t\n",
        "    Get games html 790: ==================================================  100.0%\t|  1990 seconds\t\n",
        "    Get games html 791: ==================================================  100.0%\t|  1983 seconds\n",
        "    Get games html 793: ==================================================  100.0%\t|   971 seconds\t\n",
        "    Get games html 794: ==================================================  100.0%\t|   970 seconds\t\n",
        "    Get games html 795: ==================================================  100.0%\t|  1008 seconds\t\n",
        "    Get games html 796: ==================================================  100.0%\t|  1049 seconds\n",
        "    Get games html 798: ==================================================  100.0%\t|  1909 seconds\t\n",
        "    Get games html 799: ==================================================  100.0%\t|  1912 seconds\t\n",
        "    Get games html 800: ==================================================  100.0%\t|  1958 seconds\t\n",
        "    Get games html 802: ==================================================  100.0%\t|  1583 seconds\n",
        "    Get games html 804: ==================================================  100.0%\t|   929 seconds\t\n",
        "    Get games html 805: ==================================================  100.0%\t|   960 seconds\t\n",
        "    Get games html 806: ==================================================  100.0%\t|   931 seconds\t\n",
        "    Get games html 807: ==================================================  100.0%\t|   933 seconds\t\n",
        "    Get games html 808: ==================================================  100.0%\t|   939 seconds\t\n",
        "    Get games html 809: ==================================================  100.0%\t|   956 seconds\t\n",
        "    Get games html 810: ==================================================  100.0%\t|   937 seconds\t\n",
        "    Get games html 811: ==================================================  100.0%\t|  1024 seconds\t\n",
        "    Get games html 812: ==================================================  100.0%\t|   977 seconds\t\n",
        "    Get games html 813: ==================================================  100.0%\t|  1061 seconds\t\n",
        "    Get games html 814: ==================================================  100.0%\t|   982 seconds\t\n",
        "    Get games html 815: ==================================================  100.0%\t|   944 seconds\t\n",
        "    Get games html 817: ==================================================  100.0%\t|  1713 seconds\t\n",
        "    Get games html 818: ==================================================  100.0%\t|  1840 seconds\t\n",
        "    Get games html 819: ==================================================  100.0%\t|  1959 seconds\t\n",
        "    Get games html 820: ==================================================  100.0%\t|  1721 seconds\t\n",
        "    Get games html 821: ==================================================  100.0%\t|  1646 seconds\t\n",
        "    Get games html 822: ==================================================  100.0%\t|  1744 seconds\t\n",
        "    Get games html 823: ==================================================  100.0%\t|  1246 seconds\t\n",
        "    Get games html 824: ==================================================  100.0%\t|  1306 seconds\t\n",
        "    Get games html 825: ==================================================  100.0%\t|  1272 seconds\t\n",
        "    Get games html 826: ==================================================  100.0%\t|  1285 seconds\t\n",
        "    Get games html 827: ==================================================  100.0%\t|  1281 seconds\t\n",
        "    Get games html 828: ==================================================  100.0%\t|  1258 seconds\t\n",
        "    Get games html 829: ==================================================  100.0%\t|  1254 seconds\t\n",
        "    Get games html 832: ==================================================  100.0%\t|  1374 seconds\t\n",
        "    Get games html 833: ==================================================  100.0%\t|  1442 seconds\t\n",
        "    Get games html 834: ==================================================  100.0%\t|  1504 seconds\t\n",
        "    Get games html 835: ==================================================  100.0%\t|  1368 seconds\t\n",
        "    Get games html 836: ==================================================  100.0%\t|  1159 seconds\t\n",
        "    Get games html 837: ==================================================  100.0%\t|  1133 seconds\t\n",
        "    Get games html 839: ==================================================  100.0%\t|   977 seconds\t\n",
        "    Get games html 840: ==================================================  100.0%\t|  1009 seconds\t\n",
        "    Get games html 841: ==================================================  100.0%\t|   988 seconds\t\n",
        "    Get games html 842: ==================================================  100.0%\t|   998 seconds\t\n",
        "    Get games html 843: ==================================================  100.0%\t|   977 seconds\t\n",
        "    Get games html 844: ==================================================  100.0%\t|   989 seconds\t\n",
        "    Get games html 845: ==================================================  100.0%\t|   998 seconds\t\n",
        "    Get games html 847: ==================================================  100.0%\t|  1286 seconds\t\n",
        "    Get games html 848: ==================================================  100.0%\t|  1429 seconds\t\n",
        "    Get games html 850: ==================================================  100.0%\t|  1247 seconds\t\n",
        "    Get games html 851: ==================================================  100.0%\t|  1214 seconds\t\n",
        "    Get games html 852: ==================================================  100.0%\t|  1235 seconds\t\n",
        "    Get games html 853: ==================================================  100.0%\t|  1152 seconds\t\n",
        "    Get games html 854: ==================================================  100.0%\t|  1198 seconds\t\n",
        "    Get games html 855: ==================================================  100.0%\t|  1214 seconds\t\n",
        "    Get games html 856: ==================================================  100.0%\t|  1294 seconds\t\n",
        "    Get games html 857: ==================================================  100.0%\t|  1296 seconds\t\n",
        "    Get games html 858: ==================================================  100.0%\t|  1283 seconds\t\n",
        "    Get games html 859: ==================================================  100.0%\t|  1302 seconds\t\n",
        "    Get games html 860: ==================================================  100.0%\t|  1303 seconds\t\n",
        "    Get games html 862: ==================================================  100.0%\t|   742 seconds\t\n",
        "    Get games html 863: ==================================================  100.0%\t|   733 seconds\t\n",
        "    Get games html 864: ==================================================  100.0%\t|   892 seconds\t\n",
        "    Get games html 865: ==================================================  100.0%\t|   912 seconds\t\n",
        "    Get games html 866: ==================================================  100.0%\t|  1033 seconds\t\n",
        "    Get games html 867: ==================================================  100.0%\t|   975 seconds\t\n",
        "    Get games html 869: ==================================================  100.0%\t|   946 seconds\t\n",
        "    Get games html 870: ==================================================  100.0%\t|   975 seconds\t \n",
        "    Get games html 871: ==================================================  100.0%\t|   977 seconds\t\n",
        "    Get games html 872: ==================================================  100.0%\t|   919 seconds\t\n",
        "    Get games html 873: ==================================================  100.0%\t|   945 seconds\t\n",
        "    Get games html 874: ==================================================  100.0%\t|   956 seconds\t\n",
        "    Get games html 875: ==================================================  100.0%\t|   957 seconds\t\n",
        "    Get games html 877: ==================================================  100.0%\t|  1226 seconds\n",
        "    Get games html 879: ==================================================  100.0%\t|  1034 seconds\t\n",
        "    Get games html 880: ==================================================  100.0%\t|   979 seconds\t\n",
        "    Get games html 881: ==================================================  100.0%\t|   955 seconds\t\n",
        "    Get games html 882: ==================================================  100.0%\t|   957 seconds\t\n",
        "    Get games html 883: ==================================================  100.0%\t|  1010 seconds\t\n",
        "    Get games html 884: ==================================================  100.0%\t|  1017 seconds\n",
        "    Get games html 886: ==================================================  100.0%\t|   971 seconds\t\n",
        "    Get games html 887: ==================================================  100.0%\t|   952 seconds\t\n",
        "    Get games html 888: ==================================================  100.0%\t|   959 seconds\t\n",
        "    Get games html 889: ==================================================  100.0%\t|   980 seconds\t\n",
        "    Get games html 890: ==================================================  100.0%\t|   967 seconds\t\n",
        "    Get games html 892: ==================================================  100.0%\t|  1297 seconds\t\n",
        "    Get games html 894: ==================================================  100.0%\t|   974 seconds\t\n",
        "    Get games html 895: ==================================================  100.0%\t|  1013 seconds\t\n",
        "    Get games html 896: ==================================================  100.0%\t|  1002 seconds\t\n",
        "    Get games html 897: ==================================================  100.0%\t|  1000 seconds\t\n",
        "    Get games html 898: ==================================================  100.0%\t|  1014 seconds\t\n",
        "    Get games html 899: ==================================================  100.0%\t|   977 seconds\n",
        "    Get games html 901: ==================================================  100.0%\t|   949 seconds\t\n",
        "    Get games html 902: ==================================================  100.0%\t|   944 seconds\t\n",
        "    Get games html 903: ==================================================  100.0%\t|   953 seconds\t\n",
        "    Get games html 904: ==================================================  100.0%\t|   939 seconds\t\n",
        "    Get games html 905: ==================================================  100.0%\t|   952 seconds\t\n",
        "    Get games html 908: ==================================================  100.0%\t|  1213 seconds\t\n",
        "    Get games html 909: ==================================================  100.0%\t|  1213 seconds\n",
        "    Get games html 911: ==================================================  100.0%\t|  1221 seconds\t\n",
        "    Get games html 912: ==================================================  100.0%\t|  1204 seconds\t\n",
        "    Get games html 913: ==================================================  100.0%\t|  1250 seconds\t\n",
        "    Get games html 914: ==================================================  100.0%\t|  1273 seconds\t\n",
        "    Get games html 915: ==================================================  100.0%\t|  1271 seconds\t\n",
        "    Get games html 916: ==================================================  100.0%\t|  1248 seconds\t\n",
        "    Get games html 917: ==================================================  100.0%\t|  1252 seconds\t\n",
        "    Get games html 918: ==================================================  100.0%\t|  1264 seconds\t\n",
        "    Get games html 919: ==================================================  100.0%\t|  1280 seconds\n",
        "    Get games html 921: ==================================================  100.0%\t|  1727 seconds\n",
        "    Get games html 923: ==================================================  100.0%\t|  1055 seconds\t\n",
        "    Get games html 924: ==================================================  100.0%\t|  1028 seconds\t\n",
        "    Get games html 925: ==================================================  100.0%\t|   995 seconds\t\n",
        "    Get games html 926: ==================================================  100.0%\t|   964 seconds\t\n",
        "    Get games html 927: ==================================================  100.0%\t|   979 seconds\t\n",
        "    Get games html 928: ==================================================  100.0%\t|   971 seconds\t\n",
        "    Get games html 929: ==================================================  100.0%\t|   989 seconds\t\n",
        "    Get games html 930: ==================================================  100.0%\t|  1003 seconds\t\n",
        "    Get games html 931: ==================================================  100.0%\t|   971 seconds\t\n",
        "    Get games html 932: ==================================================  100.0%\t|  1039 seconds\t\n",
        "    Get games html 933: ==================================================  100.0%\t|   961 seconds\t\n",
        "    Get games html 934: ==================================================  100.0%\t|  1021 seconds\t\n",
        "    Get games html 935: ==================================================  100.0%\t|  1027 seconds\n",
        "    Get games html 937: ==================================================  100.0%\t|   869 seconds\n",
        "    Get games html 938: ==================================================  100.0%\t|   922 seconds\n",
        "    Get games html 939: ==================================================  100.0%\t|   979 seconds\n",
        "    Get games html 940: ==================================================  100.0%\t|  1307 seconds\n",
        "    Get games html 941: ==================================================  100.0%\t|   978 seconds\n",
        "    Get games html 942: ==================================================  100.0%\t|   998 seconds\n",
        "    Get games html 943: ==================================================  100.0%\t|   954 seconds\n",
        "    Get games html 944: ==================================================  100.0%\t|  1946 seconds\n",
        "    Get games html 945: ==================================================  100.0%\t|  1005 seconds\n",
        "    Get games html 947: ==================================================  100.0%\t|   974 seconds\n",
        "    Get games html 950: ==================================================  100.0%\t|   416 seconds\n",
        "    Get games html 950: ==================================================  100.0%\t|   416 seconds\n",
        "    Get games html 952: ==================================================  100.0%\t|  1019 seconds\n",
        "    Get games html 953: ==================================================  100.0%\t|  1234 seconds\n",
        "    Get games html 955: ==================================================  100.0%\t|  1023 seconds\n",
        "    Get games html 956: ==================================================  100.0%\t|  1191 seconds\n",
        "Finished in 1259700 seconds\n",
        "```"
      ]
    },
    {
      "cell_type": "markdown",
      "metadata": {
        "id": "6qI3SZFPuOVS"
      },
      "source": [
        "##  Squads"
      ]
    },
    {
      "cell_type": "code",
      "metadata": {
        "id": "ysVAfzU7uQ_M"
      },
      "source": [
        "squads_html = pd.read_csv(\"./drive/MyDrive/transfermarkt/3-games/games_html_0.csv\")\n",
        "squads_html[\"url\"] = list(map(lambda x: x.replace(\"index\", \"aufstellung\"), squads_html[\"url\"]))\n",
        "del squads_html[\"campaign_id\"]\n",
        "squads_html.columns = [\"game_id\",\"url\",\"format\",\"content\"]\n",
        "squads_html.head()\n",
        "squads_html.to_csv(\"./drive/MyDrive/transfermarkt/6-squads/squads_html_0.csv\", index=False)"
      ],
      "execution_count": null,
      "outputs": []
    },
    {
      "cell_type": "code",
      "metadata": {
        "id": "r0NfHh9e0Php"
      },
      "source": [
        "squads_html.shape"
      ],
      "execution_count": null,
      "outputs": []
    },
    {
      "cell_type": "markdown",
      "metadata": {
        "id": "Yk7E3cG11XnV"
      },
      "source": [
        "```\n",
        "(963104, 4)\n",
        "```"
      ]
    },
    {
      "cell_type": "markdown",
      "metadata": {
        "id": "9Tr8E4TWjH05"
      },
      "source": [
        "```\n",
        "Finished in 1259700 seconds\n",
        "```"
      ]
    },
    {
      "cell_type": "markdown",
      "metadata": {
        "id": "8nxdoDl5DmET"
      },
      "source": [
        "##### Very long result"
      ]
    },
    {
      "cell_type": "markdown",
      "metadata": {
        "id": "CRHGPCzUDo_m"
      },
      "source": [
        ""
      ]
    },
    {
      "cell_type": "markdown",
      "metadata": {
        "id": "mgfYQ0xBZyXG"
      },
      "source": [
        "## Games preview - New"
      ]
    },
    {
      "cell_type": "code",
      "metadata": {
        "id": "sBrEg5QdiReV"
      },
      "source": [
        "games_preview_html = pd.DataFrame(columns=[\"id\",\"campaign_id\",\"url\",\"format\",\"content\"])"
      ],
      "execution_count": null,
      "outputs": []
    },
    {
      "cell_type": "code",
      "metadata": {
        "id": "lBV46dJZ6abP"
      },
      "source": [
        "def get_games_preview_url(ind):\n",
        "    global campaigns_html\n",
        "    campaign = campaigns_html.iloc[ind]\n",
        "    if \"ERROR 500\" in campaign[\"content\"]:\n",
        "        return []\n",
        "    url = campaign[\"url\"]\n",
        "    campaign_id = campaign[\"id\"]\n",
        "    content = campaign[\"content\"]\n",
        "    format = campaign[\"format\"]\n",
        "    soup = BeautifulSoup(content, \"lxml\")\n",
        "    tags = soup.find_all('a', {'title': 'Match preview'}) + soup.find_all('a', {'title': 'To the preview'})\n",
        "    df = []\n",
        "    for tag in tags:\n",
        "        df.append([campaign_id + \"_\" + tag.get('href').split('/')[-1], campaign_id, base_url + tag.get('href'), format])\n",
        "    return df"
      ],
      "execution_count": null,
      "outputs": []
    },
    {
      "cell_type": "code",
      "metadata": {
        "id": "e7wiXZn5h0oe"
      },
      "source": [
        "# June 11\n",
        "print(\"Get games preview url: \", end=\"\")\n",
        "start_time = time.time()\n",
        "nv = 12\n",
        "for v in range(1,nv+1):\n",
        "    campaigns_html = pd.read_csv(f\"./drive/MyDrive/transfermarkt/2-campaigns/campaigns_html_{v:03}.csv\")\n",
        "    p = Pool(20)\n",
        "    games_preview_html = games_preview_html.append(pd.DataFrame(reduce(lambda a, b: a + b, \\\n",
        "                        p.map(get_games_preview_url, range(campaigns_html.shape[0]))), \\\n",
        "                        columns=[\"id\",\"campaign_id\",\"url\",\"format\"]), \\\n",
        "                        ignore_index=True)\n",
        "    p.terminate()\n",
        "    p.join()\n",
        "    p = 100*v/nv\n",
        "    print(f\"\\r{'='*round(p/2)}{' '*(50-round(p/2))} {p:.2f}%\", end=\"\")\n",
        "games_preview_html.to_csv(\"./drive/MyDrive/transfermarkt/3-games/games_preview_html_0.csv\", index=False)\n",
        "print(f\"{round(time.time() - start_time)} seconds\")"
      ],
      "execution_count": null,
      "outputs": []
    },
    {
      "cell_type": "markdown",
      "metadata": {
        "id": "hsZyO54Hptul"
      },
      "source": [
        "```\n",
        "Get games preview url: \n",
        "================================================== 100.00%\n",
        "1486 seconds\n",
        "```"
      ]
    },
    {
      "cell_type": "code",
      "metadata": {
        "colab": {
          "base_uri": "https://localhost:8080/"
        },
        "id": "ItqEXR83i_zn",
        "outputId": "606be3e9-c13f-4199-80f1-45a45bbc7341"
      },
      "source": [
        "games_preview_html.shape"
      ],
      "execution_count": null,
      "outputs": [
        {
          "output_type": "execute_result",
          "data": {
            "text/plain": [
              "(339078, 5)"
            ]
          },
          "metadata": {
            "tags": []
          },
          "execution_count": 18
        }
      ]
    },
    {
      "cell_type": "code",
      "metadata": {
        "id": "cAayuzyzs_OX"
      },
      "source": [
        "get_html(\"games preview\", games_html, \"./drive/MyDrive/transfermarkt/3-games/games_preview_html\")"
      ],
      "execution_count": null,
      "outputs": []
    },
    {
      "cell_type": "markdown",
      "metadata": {
        "id": "gwMFaGMgdjO1"
      },
      "source": [
        "```\n",
        "\n",
        "```"
      ]
    },
    {
      "cell_type": "markdown",
      "metadata": {
        "id": "yoiqjQXGDpRz"
      },
      "source": [
        "## Teams"
      ]
    },
    {
      "cell_type": "code",
      "metadata": {
        "id": "FguJHy1hju80"
      },
      "source": [
        "teams_html = pd.DataFrame(columns=[\"id\",\"name\",\"url\",\"content\"])"
      ],
      "execution_count": null,
      "outputs": []
    },
    {
      "cell_type": "code",
      "metadata": {
        "id": "QExU1Z_J6F3F"
      },
      "source": [
        "def get_teams_url(ind):\n",
        "    global games_html\n",
        "    game = games_html.iloc[ind]\n",
        "    content = game[\"content\"]\n",
        "    if \"ERROR 500\" in content:\n",
        "        return []\n",
        "    soup = BeautifulSoup(content, \"lxml\")\n",
        "    info = soup.find(\"div\", {\"class\": \"box-content\"})\n",
        "    df = []\n",
        "    for _class in [\"sb-heim\", \"sb-gast\"]:\n",
        "        div = info.find('div', {'class': _class})\n",
        "        id = div.find('a').get('id')\n",
        "        name = div.text.strip()\n",
        "        url = base_url + div.find('a').get('href')[:-15]\n",
        "        df.append([id, name, url])\n",
        "    return df"
      ],
      "execution_count": null,
      "outputs": []
    },
    {
      "cell_type": "code",
      "metadata": {
        "id": "eI_GLTfbkEQM"
      },
      "source": [
        "print(\"Get teams url: \")\n",
        "start_time = time.time()\n",
        "nv = 956\n",
        "for v in range(1,nv+1):\n",
        "    games_html = pd.read_csv(f\"./drive/MyDrive/transfermarkt/3-games/games_html_{v:03}.csv\")\n",
        "    p = Pool(20)\n",
        "    teams_html = teams_html.append(pd.DataFrame(reduce(lambda a, b: a + b, p.map(get_teams_url, range(games_html.shape[0]))), \\\n",
        "                                                columns=[\"id\",\"name\",\"url\"]), ignore_index=True)\n",
        "    teams_html = teams_html.drop_duplicates(subset=\"url\").reset_index(drop=True)\n",
        "    p.terminate()\n",
        "    p.join()\n",
        "    p = 100*v/nv\n",
        "    print(f\"\\r{'='*round(p/2)}{' '*(50-round(p/2))} {p:.2f}%\", end=\"\")\n",
        "teams_html.to_csv(\"./drive/MyDrive/transfermarkt/7-teams/teams_html_0.csv\", index=False)\n",
        "print(f\"\\nFinished in {round(time.time() - start_time)} seconds\")"
      ],
      "execution_count": null,
      "outputs": []
    },
    {
      "cell_type": "code",
      "metadata": {
        "id": "H8_rVe3lef6T"
      },
      "source": [
        "print(\"Get teams url: \")\n",
        "start_time = time.time()\n",
        "for v in range(956,965):\n",
        "    games_html = pd.read_csv(f\"./drive/MyDrive/transfermarkt/3-games/games_html_{v:03}.csv\")\n",
        "    p = Pool(20)\n",
        "    teams_html = teams_html.append(pd.DataFrame(reduce(lambda a, b: a + b, p.map(get_teams_url, range(games_html.shape[0]))), \\\n",
        "                                                columns=[\"id\",\"name\",\"url\"]), ignore_index=True)\n",
        "    teams_html = teams_html.drop_duplicates(subset=\"url\").reset_index(drop=True)\n",
        "    p.terminate()\n",
        "    p.join()\n",
        "    print(v)\n",
        "teams_html.to_csv(\"./drive/MyDrive/transfermarkt/7-teams/teams_html_0.csv\", index=False)\n",
        "print(f\"\\nFinished in {round(time.time() - start_time)} seconds\")"
      ],
      "execution_count": null,
      "outputs": []
    },
    {
      "cell_type": "markdown",
      "metadata": {
        "id": "Et1BmGwVw3jM"
      },
      "source": [
        "```\n",
        "Get teams url: \n",
        "================================================== 100.00%\n",
        "Finished in 36047 seconds\n",
        "```"
      ]
    },
    {
      "cell_type": "code",
      "metadata": {
        "id": "DmH11TTHwMO9"
      },
      "source": [
        "teams_html[\"name\"] = [re.sub(\" Position:.*\", \"\", x) for x in teams_html[\"name\"]]\n",
        "teams_html.to_csv(\"./drive/MyDrive/transfermarkt/7-teams/teams_html_0.csv\", index=False)"
      ],
      "execution_count": null,
      "outputs": []
    },
    {
      "cell_type": "code",
      "metadata": {
        "id": "I0U2jasSHv6M"
      },
      "source": [
        "print(\"Get teams html: \")\n",
        "start_time = time.time()\n",
        "nv = 17\n",
        "for v in range(1,nv+1):\n",
        "    teams_html = pd.read_csv(f\"./drive/MyDrive/transfermarkt/7-teams/teams_html_0.csv\")\n",
        "    get_html_large(\"teams\", teams_html, \"./drive/MyDrive/transfermarkt/7-teams/teams_html\", v)\n",
        "print(f\"Finished in {round(time.time()-start_time)} seconds\")"
      ],
      "execution_count": null,
      "outputs": []
    },
    {
      "cell_type": "markdown",
      "metadata": {
        "id": "-JMewUnO110b"
      },
      "source": [
        "```\n",
        "Get teams html:\n",
        "    Get teams html 001: ==================================================  100.0%\t|  2720 seconds \n",
        "\tGet teams html 002: ==================================================  100.0%\t|  2418 seconds\n",
        "\tGet teams html 003: ==================================================  100.0%\t|  2277 seconds\n",
        "\tGet teams html 004: ==================================================  100.0%\t|  2436 seconds\n",
        "\tGet teams html 005: ==================================================  100.0%\t|  2434 seconds\n",
        "\tGet teams html 006: ==================================================  100.0%\t|  2339 seconds\n",
        "\tGet teams html 007: ==================================================  100.0%\t|  2397 seconds\n",
        "\tGet teams html 008: ==================================================  100.0%\t|  2009 seconds \n",
        "\tGet teams html 009: ==================================================  100.0%\t|  2134 seconds\n",
        "    Get teams html 010: ==================================================  100.0%\t|  2418 seconds\n",
        "    Get teams html 011: ==================================================  100.0%\t|  2104 seconds\n",
        "    Get teams html 012: ==================================================  100.0%\t|  2156 seconds\n",
        "\tGet teams html 013: ==================================================  100.0%\t|  2248 seconds\n",
        "\tGet teams html 014: ==================================================  100.0%\t|  2401 seconds\n",
        "\tGet teams html 015: ==================================================  100.0%\t|  2432 seconds\n",
        "\tGet teams html 016: ==================================================  100.0%\t|  1456 seconds\n",
        "Finished in 36379 seconds\n",
        "```"
      ]
    },
    {
      "cell_type": "markdown",
      "metadata": {
        "id": "TLJOhICd6GSj"
      },
      "source": [
        "## Players"
      ]
    },
    {
      "cell_type": "code",
      "metadata": {
        "id": "oZWRwbwj6IJh"
      },
      "source": [
        ""
      ],
      "execution_count": null,
      "outputs": []
    },
    {
      "cell_type": "markdown",
      "metadata": {
        "id": "7-Odkpfe6Ik0"
      },
      "source": [
        "## Stadiums - New"
      ]
    },
    {
      "cell_type": "code",
      "metadata": {
        "id": "OY75xbli8Fi3"
      },
      "source": [
        "stadiums_html = pd.DataFrame(columns=[\"id\",\"team_id\",\"stadium_id\",\"name\",\"url\",\"content\"])"
      ],
      "execution_count": null,
      "outputs": []
    },
    {
      "cell_type": "code",
      "metadata": {
        "id": "C_NjKkys6JFp"
      },
      "source": [
        "team_stadiums_html = pd.read_csv(\"./drive/MyDrive/transfermarkt/7-teams/teams_html_0.csv\")\n",
        "team_stadiums_html[\"url\"] = list(map(lambda x: x.replace(\"startseite\", \"stadion\"), team_stadiums_html[\"url\"]))\n",
        "team_stadiums_html.to_csv(\"./drive/MyDrive/transfermarkt/9-stadiums/team_stadiums_html_0.csv\", index=False)"
      ],
      "execution_count": null,
      "outputs": []
    },
    {
      "cell_type": "code",
      "metadata": {
        "id": "4O-pq-c_vm81"
      },
      "source": [
        "team_stadiums_html = pd.read_csv(f\"./drive/MyDrive/transfermarkt/9-stadiums/team_stadiums_html_0.csv\")\n",
        "for i in range()"
      ],
      "execution_count": null,
      "outputs": []
    },
    {
      "cell_type": "code",
      "metadata": {
        "colab": {
          "base_uri": "https://localhost:8080/"
        },
        "id": "ZnCvFhCCu-rf",
        "outputId": "cda0007b-1ec3-438c-c139-e24a7674b8cb"
      },
      "source": [
        "print(\"Get team stadiums html: \")\n",
        "start_time = time.time()\n",
        "for v in range(17):\n",
        "    team_stadiums_html = pd.read_csv(f\"./drive/MyDrive/transfermarkt/9-stadiums/team_stadiums_html_0.csv\")\n",
        "    get_html(\"teams\", teams_html, \"./drive/MyDrive/transfermarkt/9-stadiums/team stadiums_data\", v)\n",
        "print(f\"Finished in {round(time.time()-start_time)} seconds\")"
      ],
      "execution_count": null,
      "outputs": [
        {
          "output_type": "stream",
          "text": [
            "Get team stadiums html: \n",
            "\tGet teams html 957: \n",
            "\n",
            "\tGet teams html 958: \n",
            "\n",
            "\tGet teams html 959: \n",
            "\n",
            "\tGet teams html 960: \n",
            "\n",
            "\tGet teams html 961: \n",
            "\n",
            "\tGet teams html 962: \n",
            "\n",
            "\tGet teams html 963: \n",
            "\n",
            "\tGet teams html 964: \n",
            "\n",
            "Finished in 0 seconds\n"
          ],
          "name": "stdout"
        }
      ]
    },
    {
      "cell_type": "code",
      "metadata": {
        "id": "G75JQ4207wPu"
      },
      "source": [
        "print(\"Get team stadiums html: \")\n",
        "start_time = time.time()\n",
        "nv = 17\n",
        "for v in range(1,nv+1):\n",
        "    team stadiums_html = pd.read_csv(f\"./drive/MyDrive/transfermarkt/9-stadiums/team stadiums_html_0.csv\")\n",
        "    get_html(\"teams\", teams_html, \"./drive/MyDrive/transfermarkt/9-stadiums/team stadiums_data\", v)\n",
        "print(f\"Finished in {round(time.time()-start_time)} seconds\")"
      ],
      "execution_count": null,
      "outputs": []
    },
    {
      "cell_type": "markdown",
      "metadata": {
        "id": "DoUwXe8o5Uvv"
      },
      "source": [
        "```\n",
        "Get team stadiums html: \n",
        "\tGet team stadiums html 01: ==================================================  100.0%\t|   715 seconds\n",
        "\tGet team stadiums html 02: ==================================================  100.0%\t|   695 seconds\n",
        "\tGet team stadiums html 03: ==================================================  100.0%\t|   685 seconds\n",
        "\tGet team stadiums html 04: ==================================================  100.0%\t|   693 seconds\n",
        "\tGet team stadiums html 05: ==================================================  100.0%\t|   682 seconds\n",
        "\tGet team stadiums html 06: ==================================================  100.0%\t|   690 seconds\n",
        "\tGet team stadiums html 07: ==================================================  100.0%\t|   695 seconds\n",
        "\tGet team stadiums html 08: ==================================================  100.0%\t|   687 seconds\n",
        "\tGet team stadiums html 09: ==================================================  100.0%\t|   684 seconds\n",
        "\tGet team stadiums html 10: ==================================================  100.0%\t|   671 seconds\n",
        "\tGet team stadiums html 11: ==================================================  100.0%\t|   675 seconds\n",
        "\tGet team stadiums html 12: ==================================================  100.0%\t|   682 seconds\n",
        "\tGet team stadiums html 13: ==================================================  100.0%\t|   692 seconds\n",
        "\tGet team stadiums html 14: ==================================================  100.0%\t|   698 seconds\n",
        "\tGet team stadiums html 15: ==================================================  100.0%\t|   699 seconds\n",
        "\tGet team stadiums html 16: ==================================================  100.0%\t|   429 seconds\n",
        "Finished in 10712 seconds\n",
        "```"
      ]
    },
    {
      "cell_type": "code",
      "metadata": {
        "id": "kls8LEQT5kYt"
      },
      "source": [
        "def get_stadiums_url(ind):\n",
        "    global team_stadiums_html\n",
        "    team_stadium = team_stadiums_html.iloc[ind]\n",
        "    team_id = team_stadium[\"id\"]\n",
        "    team_url = team_stadium[\"url\"]\n",
        "    if \"ERROR 500\" in team_stadium[\"content\"]:\n",
        "        return []\n",
        "    soup = BeautifulSoup(team_stadium[\"content\"], \"lxml\")\n",
        "    df = []\n",
        "    options = soup.find(\"select\", {\"id\": \"stadion_id\"})\n",
        "    if options is None:\n",
        "        if soup.find('a', {'id': team_id}):\n",
        "            name = soup.find('a', {'id': team_id}).text\n",
        "            df.append([team_id, team_id, \"\", name, team_url])\n",
        "    else:\n",
        "        options = options.find_all(\"option\")\n",
        "        for opt in options:\n",
        "            stadium_id = opt.get(\"value\")\n",
        "            name = opt.text\n",
        "            url = f\"{team_url}/stadion_id/{stadium_id}\"\n",
        "            df.append([f\"{team_id}_{stadium_id}\", team_id, stadium_id, name, url])\n",
        "    return df"
      ],
      "execution_count": null,
      "outputs": []
    },
    {
      "cell_type": "code",
      "metadata": {
        "colab": {
          "base_uri": "https://localhost:8080/"
        },
        "id": "dSgXOtDM7yQa",
        "outputId": "01c0cfe4-225f-49da-d1bd-5126fa062e63"
      },
      "source": [
        "print(\"Get stadiums url: \")\n",
        "start_time = time.time()\n",
        "nv = 16\n",
        "for v in range(1,nv+1):\n",
        "    team_stadiums_html = pd.read_csv(f\"./drive/MyDrive/transfermarkt/9-stadiums/team_stadiums_html_{v:03}.csv\")\n",
        "    p = Pool(20)\n",
        "    stadiums_html = stadiums_html.append(pd.DataFrame(reduce(lambda a, b: a + b, \\\n",
        "                        p.map(get_stadiums_url, range(team_stadiums_html.shape[0]))), \\\n",
        "                        columns=[\"id\",\"team_id\",\"stadium_id\",\"name\",\"url\"]), \\\n",
        "                        ignore_index=True)\n",
        "    stadiums_html = stadiums_html.drop_duplicates(subset=\"url\").reset_index(drop=True)\n",
        "    p.terminate()\n",
        "    p.join()\n",
        "    p = 100*v/nv\n",
        "    print(f\"\\r{'='*round(p/2)}{' '*(50-round(p/2))} {p:.2f}%\", end=\"\")\n",
        "stadiums_html.to_csv(\"./drive/MyDrive/transfermarkt/9-stadiums/stadiums_html_0.csv\", index=False)\n",
        "print(f\"\\nFinished in {round(time.time() - start_time)} seconds\")"
      ],
      "execution_count": null,
      "outputs": [
        {
          "output_type": "stream",
          "text": [
            "Get stadiums url: \n",
            "================================================== 100.00%\n",
            "Finished in 454 seconds\n"
          ],
          "name": "stdout"
        }
      ]
    },
    {
      "cell_type": "code",
      "metadata": {
        "colab": {
          "base_uri": "https://localhost:8080/"
        },
        "id": "93BF27a7DC3w",
        "outputId": "0d50149d-b01d-4eaf-a4b7-b53d9843e6f4"
      },
      "source": [
        "stadiums_html.shape"
      ],
      "execution_count": null,
      "outputs": [
        {
          "output_type": "execute_result",
          "data": {
            "text/plain": [
              "(17299, 6)"
            ]
          },
          "metadata": {
            "tags": []
          },
          "execution_count": 33
        }
      ]
    },
    {
      "cell_type": "code",
      "metadata": {
        "id": "X6FXEu1lij68"
      },
      "source": [
        "print(\"Get stadiums html: \")\n",
        "nv = 18\n",
        "start_time = time.time()\n",
        "for v in range(1, nv+1):\n",
        "    stadiums_html = pd.read_csv(f\"./drive/MyDrive/transfermarkt/9-stadiums/stadiums_html_0.csv\")\n",
        "    get_html_large(\"stadiums\", stadiums_html, \"./drive/MyDrive/transfermarkt/9-stadiums/stadiums_html\", v)\n",
        "print(f\"Finished in {round(time.time()-start_time)} seconds\")"
      ],
      "execution_count": null,
      "outputs": []
    },
    {
      "cell_type": "markdown",
      "metadata": {
        "id": "xqXwWADzivRM"
      },
      "source": [
        "```\n",
        "Get stadiums html: \n",
        "\tGet stadiums html 01: ==================================================  100.0%\t|   722 seconds\n",
        "\tGet stadiums html 02: ==================================================  100.0%\t|   722 seconds\n",
        "\tGet stadiums html 03: ==================================================  100.0%\t|   713 seconds\n",
        "\tGet stadiums html 04: ==================================================  100.0%\t|   704 seconds\n",
        "\tGet stadiums html 05: ==================================================  100.0%\t|   719 seconds\n",
        "\tGet stadiums html 06: ==================================================  100.0%\t|   722 seconds\n",
        "\tGet stadiums html 07: ==================================================  100.0%\t|   728 seconds\n",
        "\tGet stadiums html 08: ==================================================  100.0%\t|   719 seconds\n",
        "\tGet stadiums html 09: ==================================================  100.0%\t|   735 seconds\n",
        "\tGet stadiums html 10: ==================================================  100.0%\t|   734 seconds\n",
        "\tGet stadiums html 11: ==================================================  100.0%\t|   730 seconds\n",
        "\tGet stadiums html 12: ==================================================  100.0%\t|   728 seconds\n",
        "\tGet stadiums html 13: ==================================================  100.0%\t|   748 seconds\n",
        "\tGet stadiums html 14: ==================================================  100.0%\t|   747 seconds\n",
        "\tGet stadiums html 15: ==================================================  100.0%\t|   772 seconds\n",
        "\tGet stadiums html 16: ==================================================  100.0%\t|   771 seconds\n",
        "\tGet stadiums html 17: ==================================================  100.0%\t|   762 seconds\n",
        "\tGet stadiums html 18: ==================================================  100.0%\t|   224 seconds\n",
        "Finished in 12761 seconds\n",
        "```"
      ]
    },
    {
      "cell_type": "markdown",
      "metadata": {
        "id": "SbIwwkKXnA24"
      },
      "source": [
        "# The End"
      ]
    }
  ]
}