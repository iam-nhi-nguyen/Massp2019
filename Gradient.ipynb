{
  "nbformat": 4,
  "nbformat_minor": 0,
  "metadata": {
    "colab": {
      "name": "Gradient.ipynb",
      "version": "0.3.2",
      "provenance": []
    },
    "kernelspec": {
      "name": "python3",
      "display_name": "Python 3"
    }
  },
  "cells": [
    {
      "cell_type": "code",
      "metadata": {
        "id": "hKjcNWhX8tD4",
        "colab_type": "code",
        "colab": {}
      },
      "source": [
        "# To support both python 2 and python 3\n",
        "from __future__ import division, print_function, unicode_literals\n",
        "import numpy as np # cho tính toán\n",
        "import matplotlib\n",
        "import matplotlib.pyplot as plt # cho vẽ đồ thị\n",
        "np.random.seed(2) # fix random (random giả)"
      ],
      "execution_count": 0,
      "outputs": []
    },
    {
      "cell_type": "code",
      "metadata": {
        "id": "cHitaoWL885n",
        "colab_type": "code",
        "colab": {}
      },
      "source": [
        "X = np.random.rand(1000, 1) # chọn x ngẫu nhiên trong khoảng\n",
        "y = 4 + 3 * X + .2*np.random.randn(1000, 1) # noise added\n",
        "\n",
        "# Building Xbar \n",
        "one = np.ones((X.shape[0],1)) # hàng hệ số cho bias\n",
        "Xbar = np.concatenate((one, X), axis = 1) # input đã thêm hệ số cho bias\n",
        "\n",
        "# Tính weight của fitting line: w = (Xbar.T dot Xbar) dagger (Xbar.T dot y)\n",
        "A = np.dot(Xbar.T, Xbar)\n",
        "b = np.dot(Xbar.T, y)\n",
        "w_lr = np.dot(np.linalg.pinv(A), b)\n",
        "print('Solution found by formula: w = ',w_lr.T)\n",
        "\n",
        "# Display result\n",
        "w = w_lr\n",
        "w_0 = w[0][0]\n",
        "w_1 = w[1][0]\n",
        "x0 = np.linspace(0, 1, 2, endpoint=True) # khoảng input vẽ trên đồ thị\n",
        "y0 = w_0 + w_1*x0\n",
        "\n",
        "# Draw the fitting line \n",
        "plt.plot(X.T, y.T, 'b.')     # data \n",
        "plt.plot(x0, y0, 'y', linewidth = 2)   # the fitting line\n",
        "plt.axis([0, 1, 0, 10]) # khoảng giá trị trên các trục\n",
        "plt.show()"
      ],
      "execution_count": 0,
      "outputs": []
    },
    {
      "cell_type": "code",
      "metadata": {
        "id": "LAtiyFRw9CNX",
        "colab_type": "code",
        "colab": {}
      },
      "source": [
        "def grad(w):\n",
        "    \"\"\" \n",
        "    return đạo hàm tại w\n",
        "    \"\"\"\n",
        "    N = Xbar.shape[0] # số bộ dữ liệu input\n",
        "    return 1/N * Xbar.T.dot(Xbar.dot(w) - y) # đạo hàm trong linear regression\n",
        "\n",
        "def cost(w):\n",
        "    \"\"\"\n",
        "    return giá trị hàm mất mát tại w\n",
        "    \"\"\"\n",
        "    N = Xbar.shape[0] # số bộ dữ liệu input\n",
        "    return .5/N*np.linalg.norm(y - Xbar.dot(w), 2)**2; # giá trị hàm mất mát trong linear regression"
      ],
      "execution_count": 0,
      "outputs": []
    }
  ]
}