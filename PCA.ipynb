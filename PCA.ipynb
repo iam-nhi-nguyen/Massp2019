# -*- coding: utf-8 -*-
"""
Created on Wed Jul  3 03:10:53 2019

@author: nhiin
"""

import numpy as np 
from scipy import misc     # for loading image
import matplotlib.pyplot as plt
np.random.seed(1)
import math  

# filename structure
path = 'C:/Users/nhiin/OneDrive/Documents/Massp 2019/YALE/unpadded/' # path to the database
ids = range(1, 16) # 15 persons
states = ['centerlight', 'glasses', 'happy', 'leftlight',
          'noglasses', 'normal', 'rightlight','sad',
          'sleepy', 'surprised', 'wink' ]
prefix = 'subject'
surfix = '.pgm'

# data dimension
h = 116 # height
w = 98 # width
D = h * w #pixel
N = len(states)*15 
K = 100 #number of considered features

# collect all data
X = np.zeros((D, N)) #create a matrix filled with zeros with D rows, N collumns
cnt = 0
for person_id in range(1, 16):
    for state in states:
        fn = path + prefix + str(person_id).zfill(2) + '.' + state + surfix
        X[:, cnt] = misc.imread(fn).reshape(D) # change 2-dimension matrix to 1-dimension matrix
        cnt += 1

# Doing PCA, note that each row is a datapoint
from sklearn.decomposition import PCA 
pca = PCA(n_components=K) # K = 100
pca.fit(X.T) #fit the model with X.T?

# projection matrix
U = pca.components_.T

for person_id in range(1, 7): #loop
    for state in ['centerlight']: 
        fn = path + prefix + str(person_id).zfill(2) + '.' + state + surfix
                            #insert zeros to the left of the person_id
        im = misc.imread(fn) #read the image
        plt.axis('off') #turn off axis lines and labels (Same as False)
#         plt.imshow(im, interpolation='nearest' )
        f1 = plt.imshow(im, interpolation='nearest') #no interpolation
        f1.axes.get_xaxis().set_visible(False) #turn off x axis
        f1.axes.get_yaxis().set_visible(False) #turn off y axis
        plt.gray()
        fn = 'ori' + str(person_id).zfill(2) + '.png'
        plt.savefig(fn, bbox_inches='tight', pad_inches=0)
        plt.show()
        # reshape and subtract mean, don't forget 
        x = im.reshape(D, 1) - pca.mean_.reshape(D, 1) #original image
        # encode
        z = U.T.dot(x) #coordinate
        #decode
        x_tilde = U.dot(z) + pca.mean_.reshape(D, 1) #reconstructed image
        
        #find reconstruction error
        dif = 0
        for i in range(D):
            dif = dif + (x[i]-x_tilde[i])*(x[i]-x_tilde[i])
            loss = math.sqrt(dif)
        print(loss)
        
        # reshape to orginal dim
        im_tilde = x_tilde.reshape(116, 98)
        plt.axis('off')
#         plt.imshow(im_tilde, interpolation='nearest' ) => visualize
        f1 = plt.imshow(im_tilde, interpolation='nearest')
        f1.axes.get_xaxis().set_visible(False)
        f1.axes.get_yaxis().set_visible(False)
        plt.gray()
        fn = 'res' + str(person_id).zfill(2) + '.png'
        plt.savefig(fn, bbox_inches='tight', pad_inches=0)
        plt.show()
        print(z) #print coordinates
        
