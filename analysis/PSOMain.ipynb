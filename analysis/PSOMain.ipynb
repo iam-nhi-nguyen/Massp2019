{
  "nbformat": 4,
  "nbformat_minor": 0,
  "metadata": {
    "colab": {
      "name": "PSOMain.ipynb",
      "provenance": [],
      "collapsed_sections": [],
      "mount_file_id": "15_xl4BYBI5q7-2mvunBmDgGVBkbfUb2Z",
      "authorship_tag": "ABX9TyOB3cU5BCTLy89kntwA32Ji",
      "include_colab_link": true
    },
    "kernelspec": {
      "name": "python3",
      "display_name": "Python 3"
    },
    "language_info": {
      "name": "python"
    }
  },
  "cells": [
    {
      "cell_type": "markdown",
      "metadata": {
        "id": "view-in-github",
        "colab_type": "text"
      },
      "source": [
        "<a href=\"https://colab.research.google.com/github/iam-nhi-nguyen/Massp2019/blob/master/analysis/PSOMain.ipynb\" target=\"_parent\"><img src=\"https://colab.research.google.com/assets/colab-badge.svg\" alt=\"Open In Colab\"/></a>"
      ]
    },
    {
      "cell_type": "code",
      "metadata": {
        "colab": {
          "base_uri": "https://localhost:8080/"
        },
        "id": "WKNYu---A-Up",
        "outputId": "3a8eac90-44e4-44f9-f5a3-1b8ccafdc2cb"
      },
      "source": [
        "from google.colab import drive\n",
        "drive.mount('/content/drive/', force_remount=True)\n",
        "import sys\n",
        "sys.path.append('/content/drive/MyDrive/data/final')"
      ],
      "execution_count": 1,
      "outputs": [
        {
          "output_type": "stream",
          "text": [
            "Mounted at /content/drive/\n"
          ],
          "name": "stdout"
        }
      ]
    },
    {
      "cell_type": "code",
      "metadata": {
        "id": "SfwXhCUvAeps"
      },
      "source": [
        "import pandas as pd\n",
        "from sympy import symbols\n",
        "import matplotlib.pyplot as plt\n",
        "import time\n",
        "\n",
        "from PSOUtil import out2dif, dif2out, rd2sh, sh2rd, PSO, PathCounts, TransProb"
      ],
      "execution_count": 2,
      "outputs": []
    },
    {
      "cell_type": "markdown",
      "metadata": {
        "id": "jgOMN7Z0qbAb"
      },
      "source": [
        "# Set up PSO model"
      ]
    },
    {
      "cell_type": "code",
      "metadata": {
        "colab": {
          "base_uri": "https://localhost:8080/"
        },
        "id": "KGA3Afc_BbmP",
        "outputId": "44b41694-aac9-46d0-a581-04dafb33cd3a"
      },
      "source": [
        "pso = PSO(nround=5, extended=True)"
      ],
      "execution_count": 3,
      "outputs": [
        {
          "output_type": "stream",
          "text": [
            "Finished getting all valid paths\n",
            "Finished setting up the network\n",
            "Finished setting up path counts <n(.,)>\n",
            "Finished setting up transition probabilities <q_{i,t}(s)>\n",
            "Finished setting up team 1's winning probabilities <v(i,s,t)>\n",
            "Finished setting up true probabilities <p_{di=si,dj=sj}>\n",
            "Finished setting up Markov probabilities <pr_{di=si,dj=sj}>\n",
            "Finished setting up adjustment <a_{di=si,dj=sj}>\n",
            "Finished setting up PSO\n",
            "================================================== 100%\n"
          ],
          "name": "stdout"
        }
      ]
    },
    {
      "cell_type": "code",
      "metadata": {
        "colab": {
          "base_uri": "https://localhost:8080/",
          "height": 1000
        },
        "id": "ZUyo3yThBlbk",
        "outputId": "fffefbb3-ae20-4ceb-9c47-8a2a3599736c"
      },
      "source": [
        "pso.check_adjustment()"
      ],
      "execution_count": 4,
      "outputs": [
        {
          "output_type": "display_data",
          "data": {
            "text/latex": "$\\displaystyle A(d_{0}=0;d_{0}=0) = 0$",
            "text/plain": [
              "Eq(A(d_{0}=0;d_{0}=0), 0)"
            ]
          },
          "metadata": {
            "tags": []
          }
        },
        {
          "output_type": "stream",
          "text": [
            "\n",
            "This path starts from (0,0)\n",
            "**********\n"
          ],
          "name": "stdout"
        },
        {
          "output_type": "display_data",
          "data": {
            "text/latex": "$\\displaystyle A(d_{0}=0;d_{1}=0) = 0$",
            "text/plain": [
              "Eq(A(d_{0}=0;d_{1}=0), 0)"
            ]
          },
          "metadata": {
            "tags": []
          }
        },
        {
          "output_type": "stream",
          "text": [
            "\n",
            "This path starts from (0,0)\n",
            "**********\n"
          ],
          "name": "stdout"
        },
        {
          "output_type": "display_data",
          "data": {
            "text/latex": "$\\displaystyle A(d_{0}=0;d_{1}=1) = 0$",
            "text/plain": [
              "Eq(A(d_{0}=0;d_{1}=1), 0)"
            ]
          },
          "metadata": {
            "tags": []
          }
        },
        {
          "output_type": "stream",
          "text": [
            "\n",
            "This path starts from (0,0)\n",
            "**********\n"
          ],
          "name": "stdout"
        },
        {
          "output_type": "display_data",
          "data": {
            "text/latex": "$\\displaystyle A(d_{0}=0;d_{2}=-1) = 0$",
            "text/plain": [
              "Eq(A(d_{0}=0;d_{2}=-1), 0)"
            ]
          },
          "metadata": {
            "tags": []
          }
        },
        {
          "output_type": "stream",
          "text": [
            "\n",
            "This path starts from (0,0)\n",
            "**********\n"
          ],
          "name": "stdout"
        },
        {
          "output_type": "display_data",
          "data": {
            "text/latex": "$\\displaystyle A(d_{0}=0;d_{2}=1) = 0$",
            "text/plain": [
              "Eq(A(d_{0}=0;d_{2}=1), 0)"
            ]
          },
          "metadata": {
            "tags": []
          }
        },
        {
          "output_type": "stream",
          "text": [
            "\n",
            "This path starts from (0,0)\n",
            "**********\n"
          ],
          "name": "stdout"
        },
        {
          "output_type": "display_data",
          "data": {
            "text/latex": "$\\displaystyle A(d_{0}=0;d_{3}=-1) = 0$",
            "text/plain": [
              "Eq(A(d_{0}=0;d_{3}=-1), 0)"
            ]
          },
          "metadata": {
            "tags": []
          }
        },
        {
          "output_type": "stream",
          "text": [
            "\n",
            "This path starts from (0,0)\n",
            "**********\n"
          ],
          "name": "stdout"
        },
        {
          "output_type": "display_data",
          "data": {
            "text/latex": "$\\displaystyle A(d_{0}=0;d_{3}=2) = 0$",
            "text/plain": [
              "Eq(A(d_{0}=0;d_{3}=2), 0)"
            ]
          },
          "metadata": {
            "tags": []
          }
        },
        {
          "output_type": "stream",
          "text": [
            "\n",
            "This path starts from (0,0)\n",
            "**********\n"
          ],
          "name": "stdout"
        },
        {
          "output_type": "display_data",
          "data": {
            "text/latex": "$\\displaystyle A(d_{0}=0;d_{4}=-2) = 0$",
            "text/plain": [
              "Eq(A(d_{0}=0;d_{4}=-2), 0)"
            ]
          },
          "metadata": {
            "tags": []
          }
        },
        {
          "output_type": "stream",
          "text": [
            "\n",
            "This path starts from (0,0)\n",
            "**********\n"
          ],
          "name": "stdout"
        },
        {
          "output_type": "display_data",
          "data": {
            "text/latex": "$\\displaystyle A(d_{0}=0;d_{4}=2) = 0$",
            "text/plain": [
              "Eq(A(d_{0}=0;d_{4}=2), 0)"
            ]
          },
          "metadata": {
            "tags": []
          }
        },
        {
          "output_type": "stream",
          "text": [
            "\n",
            "This path starts from (0,0)\n",
            "**********\n"
          ],
          "name": "stdout"
        },
        {
          "output_type": "display_data",
          "data": {
            "text/latex": "$\\displaystyle A(d_{0}=0;d_{5}=-2) = 0$",
            "text/plain": [
              "Eq(A(d_{0}=0;d_{5}=-2), 0)"
            ]
          },
          "metadata": {
            "tags": []
          }
        },
        {
          "output_type": "stream",
          "text": [
            "\n",
            "This path starts from (0,0)\n",
            "**********\n"
          ],
          "name": "stdout"
        },
        {
          "output_type": "display_data",
          "data": {
            "text/latex": "$\\displaystyle A(d_{0}=0;d_{5}=3) = 0$",
            "text/plain": [
              "Eq(A(d_{0}=0;d_{5}=3), 0)"
            ]
          },
          "metadata": {
            "tags": []
          }
        },
        {
          "output_type": "stream",
          "text": [
            "\n",
            "This path starts from (0,0)\n",
            "**********\n"
          ],
          "name": "stdout"
        },
        {
          "output_type": "display_data",
          "data": {
            "text/latex": "$\\displaystyle A(d_{0}=0;d_{6}=-3) = 0$",
            "text/plain": [
              "Eq(A(d_{0}=0;d_{6}=-3), 0)"
            ]
          },
          "metadata": {
            "tags": []
          }
        },
        {
          "output_type": "stream",
          "text": [
            "\n",
            "This path starts from (0,0)\n",
            "**********\n"
          ],
          "name": "stdout"
        },
        {
          "output_type": "display_data",
          "data": {
            "text/latex": "$\\displaystyle A(d_{0}=0;d_{6}=3) = 0$",
            "text/plain": [
              "Eq(A(d_{0}=0;d_{6}=3), 0)"
            ]
          },
          "metadata": {
            "tags": []
          }
        },
        {
          "output_type": "stream",
          "text": [
            "\n",
            "This path starts from (0,0)\n",
            "**********\n"
          ],
          "name": "stdout"
        },
        {
          "output_type": "display_data",
          "data": {
            "text/latex": "$\\displaystyle A(d_{1}=0;d_{1}=0) = 0$",
            "text/plain": [
              "Eq(A(d_{1}=0;d_{1}=0), 0)"
            ]
          },
          "metadata": {
            "tags": []
          }
        },
        {
          "output_type": "stream",
          "text": [
            "\n",
            "There is an unique path from (1, 0) to (1, 0)\n",
            "**********\n"
          ],
          "name": "stdout"
        },
        {
          "output_type": "display_data",
          "data": {
            "text/latex": "$\\displaystyle A(d_{1}=0;d_{2}=-1) = 0$",
            "text/plain": [
              "Eq(A(d_{1}=0;d_{2}=-1), 0)"
            ]
          },
          "metadata": {
            "tags": []
          }
        },
        {
          "output_type": "stream",
          "text": [
            "\n",
            "There is an unique path from (1, 0) to (2, -1)\n",
            "**********\n"
          ],
          "name": "stdout"
        },
        {
          "output_type": "display_data",
          "data": {
            "text/latex": "$\\displaystyle A(d_{1}=0;d_{2}=0) = 0$",
            "text/plain": [
              "Eq(A(d_{1}=0;d_{2}=0), 0)"
            ]
          },
          "metadata": {
            "tags": []
          }
        },
        {
          "output_type": "stream",
          "text": [
            "\n",
            "There is an unique path from (1, 0) to (2, 0)\n",
            "**********\n"
          ],
          "name": "stdout"
        },
        {
          "output_type": "display_data",
          "data": {
            "text/latex": "$\\displaystyle A(d_{1}=0;d_{3}=-1) = 0$",
            "text/plain": [
              "Eq(A(d_{1}=0;d_{3}=-1), 0)"
            ]
          },
          "metadata": {
            "tags": []
          }
        },
        {
          "output_type": "stream",
          "text": [
            "\n",
            "There is an unique path from (1, 0) to (3, -1)\n",
            "**********\n"
          ],
          "name": "stdout"
        },
        {
          "output_type": "display_data",
          "data": {
            "text/latex": "$\\displaystyle A(d_{1}=0;d_{4}=-2) = 0$",
            "text/plain": [
              "Eq(A(d_{1}=0;d_{4}=-2), 0)"
            ]
          },
          "metadata": {
            "tags": []
          }
        },
        {
          "output_type": "stream",
          "text": [
            "\n",
            "There is an unique path from (1, 0) to (4, -2)\n",
            "**********\n"
          ],
          "name": "stdout"
        },
        {
          "output_type": "display_data",
          "data": {
            "text/latex": "$\\displaystyle A(d_{1}=0;d_{5}=-2) = 0$",
            "text/plain": [
              "Eq(A(d_{1}=0;d_{5}=-2), 0)"
            ]
          },
          "metadata": {
            "tags": []
          }
        },
        {
          "output_type": "stream",
          "text": [
            "\n",
            "There is an unique path from (1, 0) to (5, -2)\n",
            "**********\n"
          ],
          "name": "stdout"
        },
        {
          "output_type": "display_data",
          "data": {
            "text/latex": "$\\displaystyle A(d_{1}=0;d_{6}=-3) = 0$",
            "text/plain": [
              "Eq(A(d_{1}=0;d_{6}=-3), 0)"
            ]
          },
          "metadata": {
            "tags": []
          }
        },
        {
          "output_type": "stream",
          "text": [
            "\n",
            "There is an unique path from (1, 0) to (6, -3)\n",
            "**********\n"
          ],
          "name": "stdout"
        },
        {
          "output_type": "display_data",
          "data": {
            "text/latex": "$\\displaystyle A(d_{1}=1;d_{1}=1) = 0$",
            "text/plain": [
              "Eq(A(d_{1}=1;d_{1}=1), 0)"
            ]
          },
          "metadata": {
            "tags": []
          }
        },
        {
          "output_type": "stream",
          "text": [
            "\n",
            "There is an unique path from (1, 1) to (1, 1)\n",
            "**********\n"
          ],
          "name": "stdout"
        },
        {
          "output_type": "display_data",
          "data": {
            "text/latex": "$\\displaystyle A(d_{1}=1;d_{2}=0) = 0$",
            "text/plain": [
              "Eq(A(d_{1}=1;d_{2}=0), 0)"
            ]
          },
          "metadata": {
            "tags": []
          }
        },
        {
          "output_type": "stream",
          "text": [
            "\n",
            "There is an unique path from (1, 1) to (2, 0)\n",
            "**********\n"
          ],
          "name": "stdout"
        },
        {
          "output_type": "display_data",
          "data": {
            "text/latex": "$\\displaystyle A(d_{1}=1;d_{2}=1) = 0$",
            "text/plain": [
              "Eq(A(d_{1}=1;d_{2}=1), 0)"
            ]
          },
          "metadata": {
            "tags": []
          }
        },
        {
          "output_type": "stream",
          "text": [
            "\n",
            "There is an unique path from (1, 1) to (2, 1)\n",
            "**********\n"
          ],
          "name": "stdout"
        },
        {
          "output_type": "display_data",
          "data": {
            "text/latex": "$\\displaystyle A(d_{1}=1;d_{3}=2) = 0$",
            "text/plain": [
              "Eq(A(d_{1}=1;d_{3}=2), 0)"
            ]
          },
          "metadata": {
            "tags": []
          }
        },
        {
          "output_type": "stream",
          "text": [
            "\n",
            "There is an unique path from (1, 1) to (3, 2)\n",
            "**********\n"
          ],
          "name": "stdout"
        },
        {
          "output_type": "display_data",
          "data": {
            "text/latex": "$\\displaystyle A(d_{1}=1;d_{4}=2) = 0$",
            "text/plain": [
              "Eq(A(d_{1}=1;d_{4}=2), 0)"
            ]
          },
          "metadata": {
            "tags": []
          }
        },
        {
          "output_type": "stream",
          "text": [
            "\n",
            "There is an unique path from (1, 1) to (4, 2)\n",
            "**********\n"
          ],
          "name": "stdout"
        },
        {
          "output_type": "display_data",
          "data": {
            "text/latex": "$\\displaystyle A(d_{1}=1;d_{5}=3) = 0$",
            "text/plain": [
              "Eq(A(d_{1}=1;d_{5}=3), 0)"
            ]
          },
          "metadata": {
            "tags": []
          }
        },
        {
          "output_type": "stream",
          "text": [
            "\n",
            "There is an unique path from (1, 1) to (5, 3)\n",
            "**********\n"
          ],
          "name": "stdout"
        },
        {
          "output_type": "display_data",
          "data": {
            "text/latex": "$\\displaystyle A(d_{1}=1;d_{6}=3) = 0$",
            "text/plain": [
              "Eq(A(d_{1}=1;d_{6}=3), 0)"
            ]
          },
          "metadata": {
            "tags": []
          }
        },
        {
          "output_type": "stream",
          "text": [
            "\n",
            "There is an unique path from (1, 1) to (6, 3)\n",
            "**********\n"
          ],
          "name": "stdout"
        },
        {
          "output_type": "display_data",
          "data": {
            "text/latex": "$\\displaystyle A(d_{2}=-1;d_{2}=-1) = 0$",
            "text/plain": [
              "Eq(A(d_{2}=-1;d_{2}=-1), 0)"
            ]
          },
          "metadata": {
            "tags": []
          }
        },
        {
          "output_type": "stream",
          "text": [
            "\n",
            "There is an unique path from (2, -1) to (2, -1)\n",
            "**********\n"
          ],
          "name": "stdout"
        },
        {
          "output_type": "display_data",
          "data": {
            "text/latex": "$\\displaystyle A(d_{2}=-1;d_{3}=-1) = 0$",
            "text/plain": [
              "Eq(A(d_{2}=-1;d_{3}=-1), 0)"
            ]
          },
          "metadata": {
            "tags": []
          }
        },
        {
          "output_type": "stream",
          "text": [
            "\n",
            "There is an unique path from (2, -1) to (3, -1)\n",
            "**********\n"
          ],
          "name": "stdout"
        },
        {
          "output_type": "display_data",
          "data": {
            "text/latex": "$\\displaystyle A(d_{2}=-1;d_{3}=0) = 0$",
            "text/plain": [
              "Eq(A(d_{2}=-1;d_{3}=0), 0)"
            ]
          },
          "metadata": {
            "tags": []
          }
        },
        {
          "output_type": "stream",
          "text": [
            "\n",
            "There is an unique path from (2, -1) to (3, 0)\n",
            "**********\n"
          ],
          "name": "stdout"
        },
        {
          "output_type": "display_data",
          "data": {
            "text/latex": "$\\displaystyle A(d_{2}=-1;d_{4}=-2) = 0$",
            "text/plain": [
              "Eq(A(d_{2}=-1;d_{4}=-2), 0)"
            ]
          },
          "metadata": {
            "tags": []
          }
        },
        {
          "output_type": "stream",
          "text": [
            "\n",
            "There is an unique path from (2, -1) to (4, -2)\n",
            "**********\n"
          ],
          "name": "stdout"
        },
        {
          "output_type": "display_data",
          "data": {
            "text/latex": "$\\displaystyle A(d_{2}=-1;d_{5}=-2) = 0$",
            "text/plain": [
              "Eq(A(d_{2}=-1;d_{5}=-2), 0)"
            ]
          },
          "metadata": {
            "tags": []
          }
        },
        {
          "output_type": "stream",
          "text": [
            "\n",
            "There is an unique path from (2, -1) to (5, -2)\n",
            "**********\n"
          ],
          "name": "stdout"
        },
        {
          "output_type": "display_data",
          "data": {
            "text/latex": "$\\displaystyle A(d_{2}=-1;d_{6}=-3) = 0$",
            "text/plain": [
              "Eq(A(d_{2}=-1;d_{6}=-3), 0)"
            ]
          },
          "metadata": {
            "tags": []
          }
        },
        {
          "output_type": "stream",
          "text": [
            "\n",
            "There is an unique path from (2, -1) to (6, -3)\n",
            "**********\n"
          ],
          "name": "stdout"
        },
        {
          "output_type": "display_data",
          "data": {
            "text/latex": "$\\displaystyle A(d_{2}=0;d_{2}=0) = 0$",
            "text/plain": [
              "Eq(A(d_{2}=0;d_{2}=0), 0)"
            ]
          },
          "metadata": {
            "tags": []
          }
        },
        {
          "output_type": "stream",
          "text": [
            "\n",
            "There is an unique path from (2, 0) to (2, 0)\n",
            "**********\n"
          ],
          "name": "stdout"
        },
        {
          "output_type": "display_data",
          "data": {
            "text/latex": "$\\displaystyle A(d_{2}=0;d_{3}=0) = 0$",
            "text/plain": [
              "Eq(A(d_{2}=0;d_{3}=0), 0)"
            ]
          },
          "metadata": {
            "tags": []
          }
        },
        {
          "output_type": "stream",
          "text": [
            "\n",
            "There is an unique path from (2, 0) to (3, 0)\n",
            "**********\n"
          ],
          "name": "stdout"
        },
        {
          "output_type": "display_data",
          "data": {
            "text/latex": "$\\displaystyle A(d_{2}=0;d_{3}=1) = 0$",
            "text/plain": [
              "Eq(A(d_{2}=0;d_{3}=1), 0)"
            ]
          },
          "metadata": {
            "tags": []
          }
        },
        {
          "output_type": "stream",
          "text": [
            "\n",
            "There is an unique path from (2, 0) to (3, 1)\n",
            "**********\n"
          ],
          "name": "stdout"
        },
        {
          "output_type": "display_data",
          "data": {
            "text/latex": "$\\displaystyle A(d_{2}=1;d_{2}=1) = 0$",
            "text/plain": [
              "Eq(A(d_{2}=1;d_{2}=1), 0)"
            ]
          },
          "metadata": {
            "tags": []
          }
        },
        {
          "output_type": "stream",
          "text": [
            "\n",
            "There is an unique path from (2, 1) to (2, 1)\n",
            "**********\n"
          ],
          "name": "stdout"
        },
        {
          "output_type": "display_data",
          "data": {
            "text/latex": "$\\displaystyle A(d_{2}=1;d_{3}=1) = 0$",
            "text/plain": [
              "Eq(A(d_{2}=1;d_{3}=1), 0)"
            ]
          },
          "metadata": {
            "tags": []
          }
        },
        {
          "output_type": "stream",
          "text": [
            "\n",
            "There is an unique path from (2, 1) to (3, 1)\n",
            "**********\n"
          ],
          "name": "stdout"
        },
        {
          "output_type": "display_data",
          "data": {
            "text/latex": "$\\displaystyle A(d_{2}=1;d_{3}=2) = 0$",
            "text/plain": [
              "Eq(A(d_{2}=1;d_{3}=2), 0)"
            ]
          },
          "metadata": {
            "tags": []
          }
        },
        {
          "output_type": "stream",
          "text": [
            "\n",
            "There is an unique path from (2, 1) to (3, 2)\n",
            "**********\n"
          ],
          "name": "stdout"
        },
        {
          "output_type": "display_data",
          "data": {
            "text/latex": "$\\displaystyle A(d_{2}=1;d_{4}=2) = 0$",
            "text/plain": [
              "Eq(A(d_{2}=1;d_{4}=2), 0)"
            ]
          },
          "metadata": {
            "tags": []
          }
        },
        {
          "output_type": "stream",
          "text": [
            "\n",
            "There is an unique path from (2, 1) to (4, 2)\n",
            "**********\n"
          ],
          "name": "stdout"
        },
        {
          "output_type": "display_data",
          "data": {
            "text/latex": "$\\displaystyle A(d_{2}=1;d_{5}=3) = 0$",
            "text/plain": [
              "Eq(A(d_{2}=1;d_{5}=3), 0)"
            ]
          },
          "metadata": {
            "tags": []
          }
        },
        {
          "output_type": "stream",
          "text": [
            "\n",
            "There is an unique path from (2, 1) to (5, 3)\n",
            "**********\n"
          ],
          "name": "stdout"
        },
        {
          "output_type": "display_data",
          "data": {
            "text/latex": "$\\displaystyle A(d_{2}=1;d_{6}=3) = 0$",
            "text/plain": [
              "Eq(A(d_{2}=1;d_{6}=3), 0)"
            ]
          },
          "metadata": {
            "tags": []
          }
        },
        {
          "output_type": "stream",
          "text": [
            "\n",
            "There is an unique path from (2, 1) to (6, 3)\n",
            "**********\n"
          ],
          "name": "stdout"
        },
        {
          "output_type": "display_data",
          "data": {
            "text/latex": "$\\displaystyle A(d_{3}=-1;d_{3}=-1) = 0$",
            "text/plain": [
              "Eq(A(d_{3}=-1;d_{3}=-1), 0)"
            ]
          },
          "metadata": {
            "tags": []
          }
        },
        {
          "output_type": "stream",
          "text": [
            "\n",
            "There is an unique path from (3, -1) to (3, -1)\n",
            "**********\n"
          ],
          "name": "stdout"
        },
        {
          "output_type": "display_data",
          "data": {
            "text/latex": "$\\displaystyle A(d_{3}=-1;d_{4}=-2) = 0$",
            "text/plain": [
              "Eq(A(d_{3}=-1;d_{4}=-2), 0)"
            ]
          },
          "metadata": {
            "tags": []
          }
        },
        {
          "output_type": "stream",
          "text": [
            "\n",
            "There is an unique path from (3, -1) to (4, -2)\n",
            "**********\n"
          ],
          "name": "stdout"
        },
        {
          "output_type": "display_data",
          "data": {
            "text/latex": "$\\displaystyle A(d_{3}=-1;d_{4}=-1) = 0$",
            "text/plain": [
              "Eq(A(d_{3}=-1;d_{4}=-1), 0)"
            ]
          },
          "metadata": {
            "tags": []
          }
        },
        {
          "output_type": "stream",
          "text": [
            "\n",
            "There is an unique path from (3, -1) to (4, -1)\n",
            "**********\n"
          ],
          "name": "stdout"
        },
        {
          "output_type": "display_data",
          "data": {
            "text/latex": "$\\displaystyle A(d_{3}=-1;d_{5}=-2) = 0$",
            "text/plain": [
              "Eq(A(d_{3}=-1;d_{5}=-2), 0)"
            ]
          },
          "metadata": {
            "tags": []
          }
        },
        {
          "output_type": "stream",
          "text": [
            "\n",
            "There is an unique path from (3, -1) to (5, -2)\n",
            "**********\n"
          ],
          "name": "stdout"
        },
        {
          "output_type": "display_data",
          "data": {
            "text/latex": "$\\displaystyle A(d_{3}=-1;d_{6}=-3) = 0$",
            "text/plain": [
              "Eq(A(d_{3}=-1;d_{6}=-3), 0)"
            ]
          },
          "metadata": {
            "tags": []
          }
        },
        {
          "output_type": "stream",
          "text": [
            "\n",
            "There is an unique path from (3, -1) to (6, -3)\n",
            "**********\n"
          ],
          "name": "stdout"
        },
        {
          "output_type": "display_data",
          "data": {
            "text/latex": "$\\displaystyle A(d_{3}=0;d_{3}=0) = 0$",
            "text/plain": [
              "Eq(A(d_{3}=0;d_{3}=0), 0)"
            ]
          },
          "metadata": {
            "tags": []
          }
        },
        {
          "output_type": "stream",
          "text": [
            "\n",
            "There is an unique path from (3, 0) to (3, 0)\n",
            "**********\n"
          ],
          "name": "stdout"
        },
        {
          "output_type": "display_data",
          "data": {
            "text/latex": "$\\displaystyle A(d_{3}=0;d_{4}=-1) = 0$",
            "text/plain": [
              "Eq(A(d_{3}=0;d_{4}=-1), 0)"
            ]
          },
          "metadata": {
            "tags": []
          }
        },
        {
          "output_type": "stream",
          "text": [
            "\n",
            "There is an unique path from (3, 0) to (4, -1)\n",
            "**********\n"
          ],
          "name": "stdout"
        },
        {
          "output_type": "display_data",
          "data": {
            "text/latex": "$\\displaystyle A(d_{3}=0;d_{4}=0) = 0$",
            "text/plain": [
              "Eq(A(d_{3}=0;d_{4}=0), 0)"
            ]
          },
          "metadata": {
            "tags": []
          }
        },
        {
          "output_type": "stream",
          "text": [
            "\n",
            "There is an unique path from (3, 0) to (4, 0)\n",
            "**********\n"
          ],
          "name": "stdout"
        },
        {
          "output_type": "display_data",
          "data": {
            "text/latex": "$\\displaystyle A(d_{3}=1;d_{3}=1) = 0$",
            "text/plain": [
              "Eq(A(d_{3}=1;d_{3}=1), 0)"
            ]
          },
          "metadata": {
            "tags": []
          }
        },
        {
          "output_type": "stream",
          "text": [
            "\n",
            "There is an unique path from (3, 1) to (3, 1)\n",
            "**********\n"
          ],
          "name": "stdout"
        },
        {
          "output_type": "display_data",
          "data": {
            "text/latex": "$\\displaystyle A(d_{3}=1;d_{4}=0) = 0$",
            "text/plain": [
              "Eq(A(d_{3}=1;d_{4}=0), 0)"
            ]
          },
          "metadata": {
            "tags": []
          }
        },
        {
          "output_type": "stream",
          "text": [
            "\n",
            "There is an unique path from (3, 1) to (4, 0)\n",
            "**********\n"
          ],
          "name": "stdout"
        },
        {
          "output_type": "display_data",
          "data": {
            "text/latex": "$\\displaystyle A(d_{3}=1;d_{4}=1) = 0$",
            "text/plain": [
              "Eq(A(d_{3}=1;d_{4}=1), 0)"
            ]
          },
          "metadata": {
            "tags": []
          }
        },
        {
          "output_type": "stream",
          "text": [
            "\n",
            "There is an unique path from (3, 1) to (4, 1)\n",
            "**********\n"
          ],
          "name": "stdout"
        },
        {
          "output_type": "display_data",
          "data": {
            "text/latex": "$\\displaystyle A(d_{3}=2;d_{3}=2) = 0$",
            "text/plain": [
              "Eq(A(d_{3}=2;d_{3}=2), 0)"
            ]
          },
          "metadata": {
            "tags": []
          }
        },
        {
          "output_type": "stream",
          "text": [
            "\n",
            "There is an unique path from (3, 2) to (3, 2)\n",
            "**********\n"
          ],
          "name": "stdout"
        },
        {
          "output_type": "display_data",
          "data": {
            "text/latex": "$\\displaystyle A(d_{3}=2;d_{4}=1) = 0$",
            "text/plain": [
              "Eq(A(d_{3}=2;d_{4}=1), 0)"
            ]
          },
          "metadata": {
            "tags": []
          }
        },
        {
          "output_type": "stream",
          "text": [
            "\n",
            "There is an unique path from (3, 2) to (4, 1)\n",
            "**********\n"
          ],
          "name": "stdout"
        },
        {
          "output_type": "display_data",
          "data": {
            "text/latex": "$\\displaystyle A(d_{3}=2;d_{4}=2) = 0$",
            "text/plain": [
              "Eq(A(d_{3}=2;d_{4}=2), 0)"
            ]
          },
          "metadata": {
            "tags": []
          }
        },
        {
          "output_type": "stream",
          "text": [
            "\n",
            "There is an unique path from (3, 2) to (4, 2)\n",
            "**********\n"
          ],
          "name": "stdout"
        },
        {
          "output_type": "display_data",
          "data": {
            "text/latex": "$\\displaystyle A(d_{3}=2;d_{5}=3) = 0$",
            "text/plain": [
              "Eq(A(d_{3}=2;d_{5}=3), 0)"
            ]
          },
          "metadata": {
            "tags": []
          }
        },
        {
          "output_type": "stream",
          "text": [
            "\n",
            "There is an unique path from (3, 2) to (5, 3)\n",
            "**********\n"
          ],
          "name": "stdout"
        },
        {
          "output_type": "display_data",
          "data": {
            "text/latex": "$\\displaystyle A(d_{3}=2;d_{6}=3) = 0$",
            "text/plain": [
              "Eq(A(d_{3}=2;d_{6}=3), 0)"
            ]
          },
          "metadata": {
            "tags": []
          }
        },
        {
          "output_type": "stream",
          "text": [
            "\n",
            "There is an unique path from (3, 2) to (6, 3)\n",
            "**********\n"
          ],
          "name": "stdout"
        },
        {
          "output_type": "display_data",
          "data": {
            "text/latex": "$\\displaystyle A(d_{4}=-2;d_{4}=-2) = 0$",
            "text/plain": [
              "Eq(A(d_{4}=-2;d_{4}=-2), 0)"
            ]
          },
          "metadata": {
            "tags": []
          }
        },
        {
          "output_type": "stream",
          "text": [
            "\n",
            "There is an unique path from (4, -2) to (4, -2)\n",
            "**********\n"
          ],
          "name": "stdout"
        },
        {
          "output_type": "display_data",
          "data": {
            "text/latex": "$\\displaystyle A(d_{4}=-2;d_{5}=-2) = 0$",
            "text/plain": [
              "Eq(A(d_{4}=-2;d_{5}=-2), 0)"
            ]
          },
          "metadata": {
            "tags": []
          }
        },
        {
          "output_type": "stream",
          "text": [
            "\n",
            "There is an unique path from (4, -2) to (5, -2)\n",
            "**********\n"
          ],
          "name": "stdout"
        },
        {
          "output_type": "display_data",
          "data": {
            "text/latex": "$\\displaystyle A(d_{4}=-2;d_{5}=-1) = 0$",
            "text/plain": [
              "Eq(A(d_{4}=-2;d_{5}=-1), 0)"
            ]
          },
          "metadata": {
            "tags": []
          }
        },
        {
          "output_type": "stream",
          "text": [
            "\n",
            "There is an unique path from (4, -2) to (5, -1)\n",
            "**********\n"
          ],
          "name": "stdout"
        },
        {
          "output_type": "display_data",
          "data": {
            "text/latex": "$\\displaystyle A(d_{4}=-2;d_{6}=-3) = 0$",
            "text/plain": [
              "Eq(A(d_{4}=-2;d_{6}=-3), 0)"
            ]
          },
          "metadata": {
            "tags": []
          }
        },
        {
          "output_type": "stream",
          "text": [
            "\n",
            "There is an unique path from (4, -2) to (6, -3)\n",
            "**********\n"
          ],
          "name": "stdout"
        },
        {
          "output_type": "display_data",
          "data": {
            "text/latex": "$\\displaystyle A(d_{4}=-1;d_{4}=-1) = 0$",
            "text/plain": [
              "Eq(A(d_{4}=-1;d_{4}=-1), 0)"
            ]
          },
          "metadata": {
            "tags": []
          }
        },
        {
          "output_type": "stream",
          "text": [
            "\n",
            "There is an unique path from (4, -1) to (4, -1)\n",
            "**********\n"
          ],
          "name": "stdout"
        },
        {
          "output_type": "display_data",
          "data": {
            "text/latex": "$\\displaystyle A(d_{4}=-1;d_{5}=-1) = 0$",
            "text/plain": [
              "Eq(A(d_{4}=-1;d_{5}=-1), 0)"
            ]
          },
          "metadata": {
            "tags": []
          }
        },
        {
          "output_type": "stream",
          "text": [
            "\n",
            "There is an unique path from (4, -1) to (5, -1)\n",
            "**********\n"
          ],
          "name": "stdout"
        },
        {
          "output_type": "display_data",
          "data": {
            "text/latex": "$\\displaystyle A(d_{4}=-1;d_{5}=0) = 0$",
            "text/plain": [
              "Eq(A(d_{4}=-1;d_{5}=0), 0)"
            ]
          },
          "metadata": {
            "tags": []
          }
        },
        {
          "output_type": "stream",
          "text": [
            "\n",
            "There is an unique path from (4, -1) to (5, 0)\n",
            "**********\n"
          ],
          "name": "stdout"
        },
        {
          "output_type": "display_data",
          "data": {
            "text/latex": "$\\displaystyle A(d_{4}=0;d_{4}=0) = 0$",
            "text/plain": [
              "Eq(A(d_{4}=0;d_{4}=0), 0)"
            ]
          },
          "metadata": {
            "tags": []
          }
        },
        {
          "output_type": "stream",
          "text": [
            "\n",
            "There is an unique path from (4, 0) to (4, 0)\n",
            "**********\n"
          ],
          "name": "stdout"
        },
        {
          "output_type": "display_data",
          "data": {
            "text/latex": "$\\displaystyle A(d_{4}=0;d_{5}=0) = 0$",
            "text/plain": [
              "Eq(A(d_{4}=0;d_{5}=0), 0)"
            ]
          },
          "metadata": {
            "tags": []
          }
        },
        {
          "output_type": "stream",
          "text": [
            "\n",
            "There is an unique path from (4, 0) to (5, 0)\n",
            "**********\n"
          ],
          "name": "stdout"
        },
        {
          "output_type": "display_data",
          "data": {
            "text/latex": "$\\displaystyle A(d_{4}=0;d_{5}=1) = 0$",
            "text/plain": [
              "Eq(A(d_{4}=0;d_{5}=1), 0)"
            ]
          },
          "metadata": {
            "tags": []
          }
        },
        {
          "output_type": "stream",
          "text": [
            "\n",
            "There is an unique path from (4, 0) to (5, 1)\n",
            "**********\n"
          ],
          "name": "stdout"
        },
        {
          "output_type": "display_data",
          "data": {
            "text/latex": "$\\displaystyle A(d_{4}=1;d_{4}=1) = 0$",
            "text/plain": [
              "Eq(A(d_{4}=1;d_{4}=1), 0)"
            ]
          },
          "metadata": {
            "tags": []
          }
        },
        {
          "output_type": "stream",
          "text": [
            "\n",
            "There is an unique path from (4, 1) to (4, 1)\n",
            "**********\n"
          ],
          "name": "stdout"
        },
        {
          "output_type": "display_data",
          "data": {
            "text/latex": "$\\displaystyle A(d_{4}=1;d_{5}=1) = 0$",
            "text/plain": [
              "Eq(A(d_{4}=1;d_{5}=1), 0)"
            ]
          },
          "metadata": {
            "tags": []
          }
        },
        {
          "output_type": "stream",
          "text": [
            "\n",
            "There is an unique path from (4, 1) to (5, 1)\n",
            "**********\n"
          ],
          "name": "stdout"
        },
        {
          "output_type": "display_data",
          "data": {
            "text/latex": "$\\displaystyle A(d_{4}=1;d_{5}=2) = 0$",
            "text/plain": [
              "Eq(A(d_{4}=1;d_{5}=2), 0)"
            ]
          },
          "metadata": {
            "tags": []
          }
        },
        {
          "output_type": "stream",
          "text": [
            "\n",
            "There is an unique path from (4, 1) to (5, 2)\n",
            "**********\n"
          ],
          "name": "stdout"
        },
        {
          "output_type": "display_data",
          "data": {
            "text/latex": "$\\displaystyle A(d_{4}=2;d_{4}=2) = 0$",
            "text/plain": [
              "Eq(A(d_{4}=2;d_{4}=2), 0)"
            ]
          },
          "metadata": {
            "tags": []
          }
        },
        {
          "output_type": "stream",
          "text": [
            "\n",
            "There is an unique path from (4, 2) to (4, 2)\n",
            "**********\n"
          ],
          "name": "stdout"
        },
        {
          "output_type": "display_data",
          "data": {
            "text/latex": "$\\displaystyle A(d_{4}=2;d_{5}=2) = 0$",
            "text/plain": [
              "Eq(A(d_{4}=2;d_{5}=2), 0)"
            ]
          },
          "metadata": {
            "tags": []
          }
        },
        {
          "output_type": "stream",
          "text": [
            "\n",
            "There is an unique path from (4, 2) to (5, 2)\n",
            "**********\n"
          ],
          "name": "stdout"
        },
        {
          "output_type": "display_data",
          "data": {
            "text/latex": "$\\displaystyle A(d_{4}=2;d_{5}=3) = 0$",
            "text/plain": [
              "Eq(A(d_{4}=2;d_{5}=3), 0)"
            ]
          },
          "metadata": {
            "tags": []
          }
        },
        {
          "output_type": "stream",
          "text": [
            "\n",
            "There is an unique path from (4, 2) to (5, 3)\n",
            "**********\n"
          ],
          "name": "stdout"
        },
        {
          "output_type": "display_data",
          "data": {
            "text/latex": "$\\displaystyle A(d_{4}=2;d_{6}=3) = 0$",
            "text/plain": [
              "Eq(A(d_{4}=2;d_{6}=3), 0)"
            ]
          },
          "metadata": {
            "tags": []
          }
        },
        {
          "output_type": "stream",
          "text": [
            "\n",
            "There is an unique path from (4, 2) to (6, 3)\n",
            "**********\n"
          ],
          "name": "stdout"
        },
        {
          "output_type": "display_data",
          "data": {
            "text/latex": "$\\displaystyle A(d_{5}=-2;d_{5}=-2) = 0$",
            "text/plain": [
              "Eq(A(d_{5}=-2;d_{5}=-2), 0)"
            ]
          },
          "metadata": {
            "tags": []
          }
        },
        {
          "output_type": "stream",
          "text": [
            "\n",
            "There is an unique path from (5, -2) to (5, -2)\n",
            "**********\n"
          ],
          "name": "stdout"
        },
        {
          "output_type": "display_data",
          "data": {
            "text/latex": "$\\displaystyle A(d_{5}=-2;d_{6}=-3) = 0$",
            "text/plain": [
              "Eq(A(d_{5}=-2;d_{6}=-3), 0)"
            ]
          },
          "metadata": {
            "tags": []
          }
        },
        {
          "output_type": "stream",
          "text": [
            "\n",
            "There is an unique path from (5, -2) to (6, -3)\n",
            "**********\n"
          ],
          "name": "stdout"
        },
        {
          "output_type": "display_data",
          "data": {
            "text/latex": "$\\displaystyle A(d_{5}=-2;d_{6}=-2) = 0$",
            "text/plain": [
              "Eq(A(d_{5}=-2;d_{6}=-2), 0)"
            ]
          },
          "metadata": {
            "tags": []
          }
        },
        {
          "output_type": "stream",
          "text": [
            "\n",
            "There is an unique path from (5, -2) to (6, -2)\n",
            "**********\n"
          ],
          "name": "stdout"
        },
        {
          "output_type": "display_data",
          "data": {
            "text/latex": "$\\displaystyle A(d_{5}=-1;d_{5}=-1) = 0$",
            "text/plain": [
              "Eq(A(d_{5}=-1;d_{5}=-1), 0)"
            ]
          },
          "metadata": {
            "tags": []
          }
        },
        {
          "output_type": "stream",
          "text": [
            "\n",
            "There is an unique path from (5, -1) to (5, -1)\n",
            "**********\n"
          ],
          "name": "stdout"
        },
        {
          "output_type": "display_data",
          "data": {
            "text/latex": "$\\displaystyle A(d_{5}=-1;d_{6}=-2) = 0$",
            "text/plain": [
              "Eq(A(d_{5}=-1;d_{6}=-2), 0)"
            ]
          },
          "metadata": {
            "tags": []
          }
        },
        {
          "output_type": "stream",
          "text": [
            "\n",
            "There is an unique path from (5, -1) to (6, -2)\n",
            "**********\n"
          ],
          "name": "stdout"
        },
        {
          "output_type": "display_data",
          "data": {
            "text/latex": "$\\displaystyle A(d_{5}=-1;d_{6}=-1) = 0$",
            "text/plain": [
              "Eq(A(d_{5}=-1;d_{6}=-1), 0)"
            ]
          },
          "metadata": {
            "tags": []
          }
        },
        {
          "output_type": "stream",
          "text": [
            "\n",
            "There is an unique path from (5, -1) to (6, -1)\n",
            "**********\n"
          ],
          "name": "stdout"
        },
        {
          "output_type": "display_data",
          "data": {
            "text/latex": "$\\displaystyle A(d_{5}=0;d_{5}=0) = 0$",
            "text/plain": [
              "Eq(A(d_{5}=0;d_{5}=0), 0)"
            ]
          },
          "metadata": {
            "tags": []
          }
        },
        {
          "output_type": "stream",
          "text": [
            "\n",
            "There is an unique path from (5, 0) to (5, 0)\n",
            "**********\n"
          ],
          "name": "stdout"
        },
        {
          "output_type": "display_data",
          "data": {
            "text/latex": "$\\displaystyle A(d_{5}=0;d_{6}=-1) = 0$",
            "text/plain": [
              "Eq(A(d_{5}=0;d_{6}=-1), 0)"
            ]
          },
          "metadata": {
            "tags": []
          }
        },
        {
          "output_type": "stream",
          "text": [
            "\n",
            "There is an unique path from (5, 0) to (6, -1)\n",
            "**********\n"
          ],
          "name": "stdout"
        },
        {
          "output_type": "display_data",
          "data": {
            "text/latex": "$\\displaystyle A(d_{5}=0;d_{6}=0) = 0$",
            "text/plain": [
              "Eq(A(d_{5}=0;d_{6}=0), 0)"
            ]
          },
          "metadata": {
            "tags": []
          }
        },
        {
          "output_type": "stream",
          "text": [
            "\n",
            "There is an unique path from (5, 0) to (6, 0)\n",
            "**********\n"
          ],
          "name": "stdout"
        },
        {
          "output_type": "display_data",
          "data": {
            "text/latex": "$\\displaystyle A(d_{5}=1;d_{5}=1) = 0$",
            "text/plain": [
              "Eq(A(d_{5}=1;d_{5}=1), 0)"
            ]
          },
          "metadata": {
            "tags": []
          }
        },
        {
          "output_type": "stream",
          "text": [
            "\n",
            "There is an unique path from (5, 1) to (5, 1)\n",
            "**********\n"
          ],
          "name": "stdout"
        },
        {
          "output_type": "display_data",
          "data": {
            "text/latex": "$\\displaystyle A(d_{5}=1;d_{6}=0) = 0$",
            "text/plain": [
              "Eq(A(d_{5}=1;d_{6}=0), 0)"
            ]
          },
          "metadata": {
            "tags": []
          }
        },
        {
          "output_type": "stream",
          "text": [
            "\n",
            "There is an unique path from (5, 1) to (6, 0)\n",
            "**********\n"
          ],
          "name": "stdout"
        },
        {
          "output_type": "display_data",
          "data": {
            "text/latex": "$\\displaystyle A(d_{5}=1;d_{6}=1) = 0$",
            "text/plain": [
              "Eq(A(d_{5}=1;d_{6}=1), 0)"
            ]
          },
          "metadata": {
            "tags": []
          }
        },
        {
          "output_type": "stream",
          "text": [
            "\n",
            "There is an unique path from (5, 1) to (6, 1)\n",
            "**********\n"
          ],
          "name": "stdout"
        },
        {
          "output_type": "display_data",
          "data": {
            "text/latex": "$\\displaystyle A(d_{5}=2;d_{5}=2) = 0$",
            "text/plain": [
              "Eq(A(d_{5}=2;d_{5}=2), 0)"
            ]
          },
          "metadata": {
            "tags": []
          }
        },
        {
          "output_type": "stream",
          "text": [
            "\n",
            "There is an unique path from (5, 2) to (5, 2)\n",
            "**********\n"
          ],
          "name": "stdout"
        },
        {
          "output_type": "display_data",
          "data": {
            "text/latex": "$\\displaystyle A(d_{5}=2;d_{6}=1) = 0$",
            "text/plain": [
              "Eq(A(d_{5}=2;d_{6}=1), 0)"
            ]
          },
          "metadata": {
            "tags": []
          }
        },
        {
          "output_type": "stream",
          "text": [
            "\n",
            "There is an unique path from (5, 2) to (6, 1)\n",
            "**********\n"
          ],
          "name": "stdout"
        },
        {
          "output_type": "display_data",
          "data": {
            "text/latex": "$\\displaystyle A(d_{5}=2;d_{6}=2) = 0$",
            "text/plain": [
              "Eq(A(d_{5}=2;d_{6}=2), 0)"
            ]
          },
          "metadata": {
            "tags": []
          }
        },
        {
          "output_type": "stream",
          "text": [
            "\n",
            "There is an unique path from (5, 2) to (6, 2)\n",
            "**********\n"
          ],
          "name": "stdout"
        },
        {
          "output_type": "display_data",
          "data": {
            "text/latex": "$\\displaystyle A(d_{5}=3;d_{5}=3) = 0$",
            "text/plain": [
              "Eq(A(d_{5}=3;d_{5}=3), 0)"
            ]
          },
          "metadata": {
            "tags": []
          }
        },
        {
          "output_type": "stream",
          "text": [
            "\n",
            "There is an unique path from (5, 3) to (5, 3)\n",
            "**********\n"
          ],
          "name": "stdout"
        },
        {
          "output_type": "display_data",
          "data": {
            "text/latex": "$\\displaystyle A(d_{5}=3;d_{6}=2) = 0$",
            "text/plain": [
              "Eq(A(d_{5}=3;d_{6}=2), 0)"
            ]
          },
          "metadata": {
            "tags": []
          }
        },
        {
          "output_type": "stream",
          "text": [
            "\n",
            "There is an unique path from (5, 3) to (6, 2)\n",
            "**********\n"
          ],
          "name": "stdout"
        },
        {
          "output_type": "display_data",
          "data": {
            "text/latex": "$\\displaystyle A(d_{5}=3;d_{6}=3) = 0$",
            "text/plain": [
              "Eq(A(d_{5}=3;d_{6}=3), 0)"
            ]
          },
          "metadata": {
            "tags": []
          }
        },
        {
          "output_type": "stream",
          "text": [
            "\n",
            "There is an unique path from (5, 3) to (6, 3)\n",
            "**********\n"
          ],
          "name": "stdout"
        },
        {
          "output_type": "display_data",
          "data": {
            "text/latex": "$\\displaystyle A(d_{6}=-3;d_{6}=-3) = 0$",
            "text/plain": [
              "Eq(A(d_{6}=-3;d_{6}=-3), 0)"
            ]
          },
          "metadata": {
            "tags": []
          }
        },
        {
          "output_type": "stream",
          "text": [
            "\n",
            "There is an unique path from (6, -3) to (6, -3)\n",
            "**********\n"
          ],
          "name": "stdout"
        },
        {
          "output_type": "display_data",
          "data": {
            "text/latex": "$\\displaystyle A(d_{6}=-2;d_{6}=-2) = 0$",
            "text/plain": [
              "Eq(A(d_{6}=-2;d_{6}=-2), 0)"
            ]
          },
          "metadata": {
            "tags": []
          }
        },
        {
          "output_type": "stream",
          "text": [
            "\n",
            "There is an unique path from (6, -2) to (6, -2)\n",
            "**********\n"
          ],
          "name": "stdout"
        },
        {
          "output_type": "display_data",
          "data": {
            "text/latex": "$\\displaystyle A(d_{6}=-2;d_{7}=-2) = 0$",
            "text/plain": [
              "Eq(A(d_{6}=-2;d_{7}=-2), 0)"
            ]
          },
          "metadata": {
            "tags": []
          }
        },
        {
          "output_type": "stream",
          "text": [
            "\n",
            "There is an unique path from (6, -2) to (7, -2)\n",
            "**********\n"
          ],
          "name": "stdout"
        },
        {
          "output_type": "display_data",
          "data": {
            "text/latex": "$\\displaystyle A(d_{6}=-2;d_{7}=-1) = 0$",
            "text/plain": [
              "Eq(A(d_{6}=-2;d_{7}=-1), 0)"
            ]
          },
          "metadata": {
            "tags": []
          }
        },
        {
          "output_type": "stream",
          "text": [
            "\n",
            "There is an unique path from (6, -2) to (7, -1)\n",
            "**********\n"
          ],
          "name": "stdout"
        },
        {
          "output_type": "display_data",
          "data": {
            "text/latex": "$\\displaystyle A(d_{6}=-1;d_{6}=-1) = 0$",
            "text/plain": [
              "Eq(A(d_{6}=-1;d_{6}=-1), 0)"
            ]
          },
          "metadata": {
            "tags": []
          }
        },
        {
          "output_type": "stream",
          "text": [
            "\n",
            "There is an unique path from (6, -1) to (6, -1)\n",
            "**********\n"
          ],
          "name": "stdout"
        },
        {
          "output_type": "display_data",
          "data": {
            "text/latex": "$\\displaystyle A(d_{6}=-1;d_{7}=-1) = 0$",
            "text/plain": [
              "Eq(A(d_{6}=-1;d_{7}=-1), 0)"
            ]
          },
          "metadata": {
            "tags": []
          }
        },
        {
          "output_type": "stream",
          "text": [
            "\n",
            "There is an unique path from (6, -1) to (7, -1)\n",
            "**********\n"
          ],
          "name": "stdout"
        },
        {
          "output_type": "display_data",
          "data": {
            "text/latex": "$\\displaystyle A(d_{6}=-1;d_{7}=0) = 0$",
            "text/plain": [
              "Eq(A(d_{6}=-1;d_{7}=0), 0)"
            ]
          },
          "metadata": {
            "tags": []
          }
        },
        {
          "output_type": "stream",
          "text": [
            "\n",
            "There is an unique path from (6, -1) to (7, 0)\n",
            "**********\n"
          ],
          "name": "stdout"
        },
        {
          "output_type": "display_data",
          "data": {
            "text/latex": "$\\displaystyle A(d_{6}=0;d_{6}=0) = 0$",
            "text/plain": [
              "Eq(A(d_{6}=0;d_{6}=0), 0)"
            ]
          },
          "metadata": {
            "tags": []
          }
        },
        {
          "output_type": "stream",
          "text": [
            "\n",
            "There is an unique path from (6, 0) to (6, 0)\n",
            "**********\n"
          ],
          "name": "stdout"
        },
        {
          "output_type": "display_data",
          "data": {
            "text/latex": "$\\displaystyle A(d_{6}=0;d_{7}=0) = 0$",
            "text/plain": [
              "Eq(A(d_{6}=0;d_{7}=0), 0)"
            ]
          },
          "metadata": {
            "tags": []
          }
        },
        {
          "output_type": "stream",
          "text": [
            "\n",
            "There is an unique path from (6, 0) to (7, 0)\n",
            "**********\n"
          ],
          "name": "stdout"
        },
        {
          "output_type": "display_data",
          "data": {
            "text/latex": "$\\displaystyle A(d_{6}=0;d_{7}=1) = 0$",
            "text/plain": [
              "Eq(A(d_{6}=0;d_{7}=1), 0)"
            ]
          },
          "metadata": {
            "tags": []
          }
        },
        {
          "output_type": "stream",
          "text": [
            "\n",
            "There is an unique path from (6, 0) to (7, 1)\n",
            "**********\n"
          ],
          "name": "stdout"
        },
        {
          "output_type": "display_data",
          "data": {
            "text/latex": "$\\displaystyle A(d_{6}=1;d_{6}=1) = 0$",
            "text/plain": [
              "Eq(A(d_{6}=1;d_{6}=1), 0)"
            ]
          },
          "metadata": {
            "tags": []
          }
        },
        {
          "output_type": "stream",
          "text": [
            "\n",
            "There is an unique path from (6, 1) to (6, 1)\n",
            "**********\n"
          ],
          "name": "stdout"
        },
        {
          "output_type": "display_data",
          "data": {
            "text/latex": "$\\displaystyle A(d_{6}=1;d_{7}=1) = 0$",
            "text/plain": [
              "Eq(A(d_{6}=1;d_{7}=1), 0)"
            ]
          },
          "metadata": {
            "tags": []
          }
        },
        {
          "output_type": "stream",
          "text": [
            "\n",
            "There is an unique path from (6, 1) to (7, 1)\n",
            "**********\n"
          ],
          "name": "stdout"
        },
        {
          "output_type": "display_data",
          "data": {
            "text/latex": "$\\displaystyle A(d_{6}=1;d_{7}=2) = 0$",
            "text/plain": [
              "Eq(A(d_{6}=1;d_{7}=2), 0)"
            ]
          },
          "metadata": {
            "tags": []
          }
        },
        {
          "output_type": "stream",
          "text": [
            "\n",
            "There is an unique path from (6, 1) to (7, 2)\n",
            "**********\n"
          ],
          "name": "stdout"
        },
        {
          "output_type": "display_data",
          "data": {
            "text/latex": "$\\displaystyle A(d_{6}=2;d_{6}=2) = 0$",
            "text/plain": [
              "Eq(A(d_{6}=2;d_{6}=2), 0)"
            ]
          },
          "metadata": {
            "tags": []
          }
        },
        {
          "output_type": "stream",
          "text": [
            "\n",
            "There is an unique path from (6, 2) to (6, 2)\n",
            "**********\n"
          ],
          "name": "stdout"
        },
        {
          "output_type": "display_data",
          "data": {
            "text/latex": "$\\displaystyle A(d_{6}=2;d_{7}=2) = 0$",
            "text/plain": [
              "Eq(A(d_{6}=2;d_{7}=2), 0)"
            ]
          },
          "metadata": {
            "tags": []
          }
        },
        {
          "output_type": "stream",
          "text": [
            "\n",
            "There is an unique path from (6, 2) to (7, 2)\n",
            "**********\n"
          ],
          "name": "stdout"
        },
        {
          "output_type": "display_data",
          "data": {
            "text/latex": "$\\displaystyle A(d_{6}=2;d_{7}=3) = 0$",
            "text/plain": [
              "Eq(A(d_{6}=2;d_{7}=3), 0)"
            ]
          },
          "metadata": {
            "tags": []
          }
        },
        {
          "output_type": "stream",
          "text": [
            "\n",
            "There is an unique path from (6, 2) to (7, 3)\n",
            "**********\n"
          ],
          "name": "stdout"
        },
        {
          "output_type": "display_data",
          "data": {
            "text/latex": "$\\displaystyle A(d_{6}=3;d_{6}=3) = 0$",
            "text/plain": [
              "Eq(A(d_{6}=3;d_{6}=3), 0)"
            ]
          },
          "metadata": {
            "tags": []
          }
        },
        {
          "output_type": "stream",
          "text": [
            "\n",
            "There is an unique path from (6, 3) to (6, 3)\n",
            "**********\n"
          ],
          "name": "stdout"
        },
        {
          "output_type": "display_data",
          "data": {
            "text/latex": "$\\displaystyle A(d_{7}=-2;d_{7}=-2) = 0$",
            "text/plain": [
              "Eq(A(d_{7}=-2;d_{7}=-2), 0)"
            ]
          },
          "metadata": {
            "tags": []
          }
        },
        {
          "output_type": "stream",
          "text": [
            "\n",
            "There is an unique path from (7, -2) to (7, -2)\n",
            "**********\n"
          ],
          "name": "stdout"
        },
        {
          "output_type": "display_data",
          "data": {
            "text/latex": "$\\displaystyle A(d_{7}=-1;d_{7}=-1) = 0$",
            "text/plain": [
              "Eq(A(d_{7}=-1;d_{7}=-1), 0)"
            ]
          },
          "metadata": {
            "tags": []
          }
        },
        {
          "output_type": "stream",
          "text": [
            "\n",
            "There is an unique path from (7, -1) to (7, -1)\n",
            "**********\n"
          ],
          "name": "stdout"
        },
        {
          "output_type": "display_data",
          "data": {
            "text/latex": "$\\displaystyle A(d_{7}=-1;d_{8}=-2) = 0$",
            "text/plain": [
              "Eq(A(d_{7}=-1;d_{8}=-2), 0)"
            ]
          },
          "metadata": {
            "tags": []
          }
        },
        {
          "output_type": "stream",
          "text": [
            "\n",
            "There is an unique path from (7, -1) to (8, -2)\n",
            "**********\n"
          ],
          "name": "stdout"
        },
        {
          "output_type": "display_data",
          "data": {
            "text/latex": "$\\displaystyle A(d_{7}=-1;d_{8}=-1) = 0$",
            "text/plain": [
              "Eq(A(d_{7}=-1;d_{8}=-1), 0)"
            ]
          },
          "metadata": {
            "tags": []
          }
        },
        {
          "output_type": "stream",
          "text": [
            "\n",
            "There is an unique path from (7, -1) to (8, -1)\n",
            "**********\n"
          ],
          "name": "stdout"
        },
        {
          "output_type": "display_data",
          "data": {
            "text/latex": "$\\displaystyle A(d_{7}=0;d_{7}=0) = 0$",
            "text/plain": [
              "Eq(A(d_{7}=0;d_{7}=0), 0)"
            ]
          },
          "metadata": {
            "tags": []
          }
        },
        {
          "output_type": "stream",
          "text": [
            "\n",
            "There is an unique path from (7, 0) to (7, 0)\n",
            "**********\n"
          ],
          "name": "stdout"
        },
        {
          "output_type": "display_data",
          "data": {
            "text/latex": "$\\displaystyle A(d_{7}=0;d_{8}=-1) = 0$",
            "text/plain": [
              "Eq(A(d_{7}=0;d_{8}=-1), 0)"
            ]
          },
          "metadata": {
            "tags": []
          }
        },
        {
          "output_type": "stream",
          "text": [
            "\n",
            "There is an unique path from (7, 0) to (8, -1)\n",
            "**********\n"
          ],
          "name": "stdout"
        },
        {
          "output_type": "display_data",
          "data": {
            "text/latex": "$\\displaystyle A(d_{7}=0;d_{8}=0) = 0$",
            "text/plain": [
              "Eq(A(d_{7}=0;d_{8}=0), 0)"
            ]
          },
          "metadata": {
            "tags": []
          }
        },
        {
          "output_type": "stream",
          "text": [
            "\n",
            "There is an unique path from (7, 0) to (8, 0)\n",
            "**********\n"
          ],
          "name": "stdout"
        },
        {
          "output_type": "display_data",
          "data": {
            "text/latex": "$\\displaystyle A(d_{7}=1;d_{7}=1) = 0$",
            "text/plain": [
              "Eq(A(d_{7}=1;d_{7}=1), 0)"
            ]
          },
          "metadata": {
            "tags": []
          }
        },
        {
          "output_type": "stream",
          "text": [
            "\n",
            "There is an unique path from (7, 1) to (7, 1)\n",
            "**********\n"
          ],
          "name": "stdout"
        },
        {
          "output_type": "display_data",
          "data": {
            "text/latex": "$\\displaystyle A(d_{7}=1;d_{8}=0) = 0$",
            "text/plain": [
              "Eq(A(d_{7}=1;d_{8}=0), 0)"
            ]
          },
          "metadata": {
            "tags": []
          }
        },
        {
          "output_type": "stream",
          "text": [
            "\n",
            "There is an unique path from (7, 1) to (8, 0)\n",
            "**********\n"
          ],
          "name": "stdout"
        },
        {
          "output_type": "display_data",
          "data": {
            "text/latex": "$\\displaystyle A(d_{7}=1;d_{8}=1) = 0$",
            "text/plain": [
              "Eq(A(d_{7}=1;d_{8}=1), 0)"
            ]
          },
          "metadata": {
            "tags": []
          }
        },
        {
          "output_type": "stream",
          "text": [
            "\n",
            "There is an unique path from (7, 1) to (8, 1)\n",
            "**********\n"
          ],
          "name": "stdout"
        },
        {
          "output_type": "display_data",
          "data": {
            "text/latex": "$\\displaystyle A(d_{7}=2;d_{7}=2) = 0$",
            "text/plain": [
              "Eq(A(d_{7}=2;d_{7}=2), 0)"
            ]
          },
          "metadata": {
            "tags": []
          }
        },
        {
          "output_type": "stream",
          "text": [
            "\n",
            "There is an unique path from (7, 2) to (7, 2)\n",
            "**********\n"
          ],
          "name": "stdout"
        },
        {
          "output_type": "display_data",
          "data": {
            "text/latex": "$\\displaystyle A(d_{7}=2;d_{8}=1) = 0$",
            "text/plain": [
              "Eq(A(d_{7}=2;d_{8}=1), 0)"
            ]
          },
          "metadata": {
            "tags": []
          }
        },
        {
          "output_type": "stream",
          "text": [
            "\n",
            "There is an unique path from (7, 2) to (8, 1)\n",
            "**********\n"
          ],
          "name": "stdout"
        },
        {
          "output_type": "display_data",
          "data": {
            "text/latex": "$\\displaystyle A(d_{7}=2;d_{8}=2) = 0$",
            "text/plain": [
              "Eq(A(d_{7}=2;d_{8}=2), 0)"
            ]
          },
          "metadata": {
            "tags": []
          }
        },
        {
          "output_type": "stream",
          "text": [
            "\n",
            "There is an unique path from (7, 2) to (8, 2)\n",
            "**********\n"
          ],
          "name": "stdout"
        },
        {
          "output_type": "display_data",
          "data": {
            "text/latex": "$\\displaystyle A(d_{7}=3;d_{7}=3) = 0$",
            "text/plain": [
              "Eq(A(d_{7}=3;d_{7}=3), 0)"
            ]
          },
          "metadata": {
            "tags": []
          }
        },
        {
          "output_type": "stream",
          "text": [
            "\n",
            "There is an unique path from (7, 3) to (7, 3)\n",
            "**********\n"
          ],
          "name": "stdout"
        },
        {
          "output_type": "display_data",
          "data": {
            "text/latex": "$\\displaystyle A(d_{8}=-2;d_{8}=-2) = 0$",
            "text/plain": [
              "Eq(A(d_{8}=-2;d_{8}=-2), 0)"
            ]
          },
          "metadata": {
            "tags": []
          }
        },
        {
          "output_type": "stream",
          "text": [
            "\n",
            "There is an unique path from (8, -2) to (8, -2)\n",
            "**********\n"
          ],
          "name": "stdout"
        },
        {
          "output_type": "display_data",
          "data": {
            "text/latex": "$\\displaystyle A(d_{8}=-1;d_{8}=-1) = 0$",
            "text/plain": [
              "Eq(A(d_{8}=-1;d_{8}=-1), 0)"
            ]
          },
          "metadata": {
            "tags": []
          }
        },
        {
          "output_type": "stream",
          "text": [
            "\n",
            "There is an unique path from (8, -1) to (8, -1)\n",
            "**********\n"
          ],
          "name": "stdout"
        },
        {
          "output_type": "display_data",
          "data": {
            "text/latex": "$\\displaystyle A(d_{8}=-1;d_{9}=-1) = 0$",
            "text/plain": [
              "Eq(A(d_{8}=-1;d_{9}=-1), 0)"
            ]
          },
          "metadata": {
            "tags": []
          }
        },
        {
          "output_type": "stream",
          "text": [
            "\n",
            "There is an unique path from (8, -1) to (9, -1)\n",
            "**********\n"
          ],
          "name": "stdout"
        },
        {
          "output_type": "display_data",
          "data": {
            "text/latex": "$\\displaystyle A(d_{8}=-1;d_{9}=0) = 0$",
            "text/plain": [
              "Eq(A(d_{8}=-1;d_{9}=0), 0)"
            ]
          },
          "metadata": {
            "tags": []
          }
        },
        {
          "output_type": "stream",
          "text": [
            "\n",
            "There is an unique path from (8, -1) to (9, 0)\n",
            "**********\n"
          ],
          "name": "stdout"
        },
        {
          "output_type": "display_data",
          "data": {
            "text/latex": "$\\displaystyle A(d_{8}=0;d_{8}=0) = 0$",
            "text/plain": [
              "Eq(A(d_{8}=0;d_{8}=0), 0)"
            ]
          },
          "metadata": {
            "tags": []
          }
        },
        {
          "output_type": "stream",
          "text": [
            "\n",
            "There is an unique path from (8, 0) to (8, 0)\n",
            "**********\n"
          ],
          "name": "stdout"
        },
        {
          "output_type": "display_data",
          "data": {
            "text/latex": "$\\displaystyle A(d_{8}=0;d_{9}=0) = 0$",
            "text/plain": [
              "Eq(A(d_{8}=0;d_{9}=0), 0)"
            ]
          },
          "metadata": {
            "tags": []
          }
        },
        {
          "output_type": "stream",
          "text": [
            "\n",
            "There is an unique path from (8, 0) to (9, 0)\n",
            "**********\n"
          ],
          "name": "stdout"
        },
        {
          "output_type": "display_data",
          "data": {
            "text/latex": "$\\displaystyle A(d_{8}=0;d_{9}=1) = 0$",
            "text/plain": [
              "Eq(A(d_{8}=0;d_{9}=1), 0)"
            ]
          },
          "metadata": {
            "tags": []
          }
        },
        {
          "output_type": "stream",
          "text": [
            "\n",
            "There is an unique path from (8, 0) to (9, 1)\n",
            "**********\n"
          ],
          "name": "stdout"
        },
        {
          "output_type": "display_data",
          "data": {
            "text/latex": "$\\displaystyle A(d_{8}=1;d_{8}=1) = 0$",
            "text/plain": [
              "Eq(A(d_{8}=1;d_{8}=1), 0)"
            ]
          },
          "metadata": {
            "tags": []
          }
        },
        {
          "output_type": "stream",
          "text": [
            "\n",
            "There is an unique path from (8, 1) to (8, 1)\n",
            "**********\n"
          ],
          "name": "stdout"
        },
        {
          "output_type": "display_data",
          "data": {
            "text/latex": "$\\displaystyle A(d_{8}=1;d_{9}=1) = 0$",
            "text/plain": [
              "Eq(A(d_{8}=1;d_{9}=1), 0)"
            ]
          },
          "metadata": {
            "tags": []
          }
        },
        {
          "output_type": "stream",
          "text": [
            "\n",
            "There is an unique path from (8, 1) to (9, 1)\n",
            "**********\n"
          ],
          "name": "stdout"
        },
        {
          "output_type": "display_data",
          "data": {
            "text/latex": "$\\displaystyle A(d_{8}=1;d_{9}=2) = 0$",
            "text/plain": [
              "Eq(A(d_{8}=1;d_{9}=2), 0)"
            ]
          },
          "metadata": {
            "tags": []
          }
        },
        {
          "output_type": "stream",
          "text": [
            "\n",
            "There is an unique path from (8, 1) to (9, 2)\n",
            "**********\n"
          ],
          "name": "stdout"
        },
        {
          "output_type": "display_data",
          "data": {
            "text/latex": "$\\displaystyle A(d_{8}=2;d_{8}=2) = 0$",
            "text/plain": [
              "Eq(A(d_{8}=2;d_{8}=2), 0)"
            ]
          },
          "metadata": {
            "tags": []
          }
        },
        {
          "output_type": "stream",
          "text": [
            "\n",
            "There is an unique path from (8, 2) to (8, 2)\n",
            "**********\n"
          ],
          "name": "stdout"
        },
        {
          "output_type": "display_data",
          "data": {
            "text/latex": "$\\displaystyle A(d_{9}=-1;d_{9}=-1) = 0$",
            "text/plain": [
              "Eq(A(d_{9}=-1;d_{9}=-1), 0)"
            ]
          },
          "metadata": {
            "tags": []
          }
        },
        {
          "output_type": "stream",
          "text": [
            "\n",
            "There is an unique path from (9, -1) to (9, -1)\n",
            "**********\n"
          ],
          "name": "stdout"
        },
        {
          "output_type": "display_data",
          "data": {
            "text/latex": "$\\displaystyle A(d_{9}=0;d_{9}=0) = 0$",
            "text/plain": [
              "Eq(A(d_{9}=0;d_{9}=0), 0)"
            ]
          },
          "metadata": {
            "tags": []
          }
        },
        {
          "output_type": "stream",
          "text": [
            "\n",
            "There is an unique path from (9, 0) to (9, 0)\n",
            "**********\n"
          ],
          "name": "stdout"
        },
        {
          "output_type": "display_data",
          "data": {
            "text/latex": "$\\displaystyle A(d_{9}=0;d_{10}=-1) = 0$",
            "text/plain": [
              "Eq(A(d_{9}=0;d_{10}=-1), 0)"
            ]
          },
          "metadata": {
            "tags": []
          }
        },
        {
          "output_type": "stream",
          "text": [
            "\n",
            "There is an unique path from (9, 0) to (10, -1)\n",
            "**********\n"
          ],
          "name": "stdout"
        },
        {
          "output_type": "display_data",
          "data": {
            "text/latex": "$\\displaystyle A(d_{9}=0;d_{10}=0) = 0$",
            "text/plain": [
              "Eq(A(d_{9}=0;d_{10}=0), 0)"
            ]
          },
          "metadata": {
            "tags": []
          }
        },
        {
          "output_type": "stream",
          "text": [
            "\n",
            "There is an unique path from (9, 0) to (10, 0)\n",
            "**********\n"
          ],
          "name": "stdout"
        },
        {
          "output_type": "display_data",
          "data": {
            "text/latex": "$\\displaystyle A(d_{9}=1;d_{9}=1) = 0$",
            "text/plain": [
              "Eq(A(d_{9}=1;d_{9}=1), 0)"
            ]
          },
          "metadata": {
            "tags": []
          }
        },
        {
          "output_type": "stream",
          "text": [
            "\n",
            "There is an unique path from (9, 1) to (9, 1)\n",
            "**********\n"
          ],
          "name": "stdout"
        },
        {
          "output_type": "display_data",
          "data": {
            "text/latex": "$\\displaystyle A(d_{9}=1;d_{10}=0) = 0$",
            "text/plain": [
              "Eq(A(d_{9}=1;d_{10}=0), 0)"
            ]
          },
          "metadata": {
            "tags": []
          }
        },
        {
          "output_type": "stream",
          "text": [
            "\n",
            "There is an unique path from (9, 1) to (10, 0)\n",
            "**********\n"
          ],
          "name": "stdout"
        },
        {
          "output_type": "display_data",
          "data": {
            "text/latex": "$\\displaystyle A(d_{9}=1;d_{10}=1) = 0$",
            "text/plain": [
              "Eq(A(d_{9}=1;d_{10}=1), 0)"
            ]
          },
          "metadata": {
            "tags": []
          }
        },
        {
          "output_type": "stream",
          "text": [
            "\n",
            "There is an unique path from (9, 1) to (10, 1)\n",
            "**********\n"
          ],
          "name": "stdout"
        },
        {
          "output_type": "display_data",
          "data": {
            "text/latex": "$\\displaystyle A(d_{9}=2;d_{9}=2) = 0$",
            "text/plain": [
              "Eq(A(d_{9}=2;d_{9}=2), 0)"
            ]
          },
          "metadata": {
            "tags": []
          }
        },
        {
          "output_type": "stream",
          "text": [
            "\n",
            "There is an unique path from (9, 2) to (9, 2)\n",
            "**********\n"
          ],
          "name": "stdout"
        },
        {
          "output_type": "display_data",
          "data": {
            "text/latex": "$\\displaystyle A(d_{10}=-1;d_{10}=-1) = 0$",
            "text/plain": [
              "Eq(A(d_{10}=-1;d_{10}=-1), 0)"
            ]
          },
          "metadata": {
            "tags": []
          }
        },
        {
          "output_type": "stream",
          "text": [
            "\n",
            "There is an unique path from (10, -1) to (10, -1)\n",
            "**********\n"
          ],
          "name": "stdout"
        },
        {
          "output_type": "display_data",
          "data": {
            "text/latex": "$\\displaystyle A(d_{10}=0;d_{10}=0) = 0$",
            "text/plain": [
              "Eq(A(d_{10}=0;d_{10}=0), 0)"
            ]
          },
          "metadata": {
            "tags": []
          }
        },
        {
          "output_type": "stream",
          "text": [
            "\n",
            "There is an unique path from (10, 0) to (10, 0)\n",
            "**********\n"
          ],
          "name": "stdout"
        },
        {
          "output_type": "display_data",
          "data": {
            "text/latex": "$\\displaystyle A(d_{10}=1;d_{10}=1) = 0$",
            "text/plain": [
              "Eq(A(d_{10}=1;d_{10}=1), 0)"
            ]
          },
          "metadata": {
            "tags": []
          }
        },
        {
          "output_type": "stream",
          "text": [
            "\n",
            "There is an unique path from (10, 1) to (10, 1)\n",
            "**********\n"
          ],
          "name": "stdout"
        },
        {
          "output_type": "display_data",
          "data": {
            "text/latex": "$\\displaystyle A(d_{11+}=0;d_{11+}=0) = 0$",
            "text/plain": [
              "Eq(A(d_{11+}=0;d_{11+}=0), 0)"
            ]
          },
          "metadata": {
            "tags": []
          }
        },
        {
          "output_type": "stream",
          "text": [
            "\n",
            "There is an unique path from (11, 0) to (11, 0)\n",
            "**********\n"
          ],
          "name": "stdout"
        },
        {
          "output_type": "display_data",
          "data": {
            "text/latex": "$\\displaystyle A(d_{11+}=0;d_{12+}=-1) = 0$",
            "text/plain": [
              "Eq(A(d_{11+}=0;d_{12+}=-1), 0)"
            ]
          },
          "metadata": {
            "tags": []
          }
        },
        {
          "output_type": "stream",
          "text": [
            "\n",
            "There is an unique path from (11, 0) to (12, -1)\n",
            "**********\n"
          ],
          "name": "stdout"
        },
        {
          "output_type": "display_data",
          "data": {
            "text/latex": "$\\displaystyle A(d_{11+}=0;d_{12+}=0) = 0$",
            "text/plain": [
              "Eq(A(d_{11+}=0;d_{12+}=0), 0)"
            ]
          },
          "metadata": {
            "tags": []
          }
        },
        {
          "output_type": "stream",
          "text": [
            "\n",
            "There is an unique path from (11, 0) to (12, 0)\n",
            "**********\n"
          ],
          "name": "stdout"
        },
        {
          "output_type": "display_data",
          "data": {
            "text/latex": "$\\displaystyle A(d_{11+}=1;d_{11+}=1) = 0$",
            "text/plain": [
              "Eq(A(d_{11+}=1;d_{11+}=1), 0)"
            ]
          },
          "metadata": {
            "tags": []
          }
        },
        {
          "output_type": "stream",
          "text": [
            "\n",
            "There is an unique path from (11, 1) to (11, 1)\n",
            "**********\n"
          ],
          "name": "stdout"
        },
        {
          "output_type": "display_data",
          "data": {
            "text/latex": "$\\displaystyle A(d_{11+}=1;d_{12+}=0) = 0$",
            "text/plain": [
              "Eq(A(d_{11+}=1;d_{12+}=0), 0)"
            ]
          },
          "metadata": {
            "tags": []
          }
        },
        {
          "output_type": "stream",
          "text": [
            "\n",
            "There is an unique path from (11, 1) to (12, 0)\n",
            "**********\n"
          ],
          "name": "stdout"
        },
        {
          "output_type": "display_data",
          "data": {
            "text/latex": "$\\displaystyle A(d_{11+}=1;d_{12+}=1) = 0$",
            "text/plain": [
              "Eq(A(d_{11+}=1;d_{12+}=1), 0)"
            ]
          },
          "metadata": {
            "tags": []
          }
        },
        {
          "output_type": "stream",
          "text": [
            "\n",
            "There is an unique path from (11, 1) to (12, 1)\n",
            "**********\n"
          ],
          "name": "stdout"
        },
        {
          "output_type": "display_data",
          "data": {
            "text/latex": "$\\displaystyle A(d_{12+}=-1;d_{12+}=-1) = 0$",
            "text/plain": [
              "Eq(A(d_{12+}=-1;d_{12+}=-1), 0)"
            ]
          },
          "metadata": {
            "tags": []
          }
        },
        {
          "output_type": "stream",
          "text": [
            "\n",
            "There is an unique path from (12, -1) to (12, -1)\n",
            "**********\n"
          ],
          "name": "stdout"
        },
        {
          "output_type": "display_data",
          "data": {
            "text/latex": "$\\displaystyle A(d_{12+}=0;d_{12+}=0) = 0$",
            "text/plain": [
              "Eq(A(d_{12+}=0;d_{12+}=0), 0)"
            ]
          },
          "metadata": {
            "tags": []
          }
        },
        {
          "output_type": "stream",
          "text": [
            "\n",
            "There is an unique path from (12, 0) to (12, 0)\n",
            "**********\n"
          ],
          "name": "stdout"
        },
        {
          "output_type": "display_data",
          "data": {
            "text/latex": "$\\displaystyle A(d_{12+}=1;d_{12+}=1) = 0$",
            "text/plain": [
              "Eq(A(d_{12+}=1;d_{12+}=1), 0)"
            ]
          },
          "metadata": {
            "tags": []
          }
        },
        {
          "output_type": "stream",
          "text": [
            "\n",
            "There is an unique path from (12, 1) to (12, 1)\n",
            "**********\n"
          ],
          "name": "stdout"
        }
      ]
    },
    {
      "cell_type": "code",
      "metadata": {
        "colab": {
          "base_uri": "https://localhost:8080/",
          "height": 637
        },
        "id": "F0eTXUc2Bn_K",
        "outputId": "0b62e939-6d38-41da-c0ca-9e6c6736ec0a"
      },
      "source": [
        "valid_outs = pd.read_csv('./drive/MyDrive/data/final/valid_outs.csv')\n",
        "data = [out2dif(tuple(map(int, out[1:-1].split(\",\")))) for out in valid_outs[\"outcomes\"]]\n",
        "pso.populate_network(data)\n",
        "pso.display_network(pso.win1_prob.val)"
      ],
      "execution_count": 5,
      "outputs": [
        {
          "output_type": "stream",
          "text": [
            "Populate path counts\n",
            "Populate transitions probabilities\n",
            "Populate team 1's winning probabilities\n",
            "Finished populating the network\n",
            "================================================== 100%\n"
          ],
          "name": "stdout"
        },
        {
          "output_type": "display_data",
          "data": {
            "image/png": "[encoded data removed]",
            "text/plain": [
              "<Figure size 1200x800 with 1 Axes>"
            ]
          },
          "metadata": {
            "tags": [],
            "needs_background": "light"
          }
        }
      ]
    },
    {
      "cell_type": "code",
      "metadata": {
        "colab": {
          "base_uri": "https://localhost:8080/",
          "height": 551
        },
        "id": "1pbVGkWlrgD0",
        "outputId": "14f7bbe0-8283-4bb3-df4b-009a2748ebc2"
      },
      "source": [
        "pso.display_network(pso.path_counts.val)"
      ],
      "execution_count": 6,
      "outputs": [
        {
          "output_type": "display_data",
          "data": {
            "image/png": "[encoded data removed]",
            "text/plain": [
              "<Figure size 1200x800 with 1 Axes>"
            ]
          },
          "metadata": {
            "tags": [],
            "needs_background": "light"
          }
        }
      ]
    },
    {
      "cell_type": "code",
      "metadata": {
        "id": "Q5Ym6VvVB5ak",
        "colab": {
          "base_uri": "https://localhost:8080/"
        },
        "outputId": "9129aae5-9b76-4526-d03c-5a2c983556bc"
      },
      "source": [
        "pso.populate_probabilities()"
      ],
      "execution_count": 7,
      "outputs": [
        {
          "output_type": "stream",
          "text": [
            "Populate true probabilities\n",
            "Populate Markov probabilities\n",
            "Populate adjustment probabilities\n",
            "Finished populating\n",
            "================================================== 100%\n"
          ],
          "name": "stdout"
        }
      ]
    },
    {
      "cell_type": "markdown",
      "metadata": {
        "id": "48Ed3cLp20kq"
      },
      "source": [
        "# Create a summary dataframe for each pair of start to end node"
      ]
    },
    {
      "cell_type": "code",
      "metadata": {
        "colab": {
          "base_uri": "https://localhost:8080/"
        },
        "id": "AdNi6qiZqui8",
        "outputId": "ea52d55c-303c-4472-ace8-f121ee162cf0"
      },
      "source": [
        "# Get all end nodes\n",
        "end_nodes = set()\n",
        "for path in pso.valid_paths:\n",
        "    k = len(path)\n",
        "    if k == 2 * pso.nround or (k < 2 * pso.nround and pso.valid_paths[path] == 'complete'):\n",
        "        end_nodes.add((k, path[-1]))\n",
        "end_nodes = sorted(list(end_nodes), key=lambda x: (x[0], -x[1]))\n",
        "num_end = len(end_nodes)\n",
        "print(f\"The number of end nodes is {num_end}.\")"
      ],
      "execution_count": 24,
      "outputs": [
        {
          "output_type": "stream",
          "text": [
            "The number of end nodes is 11.\n"
          ],
          "name": "stdout"
        }
      ]
    },
    {
      "cell_type": "code",
      "metadata": {
        "id": "O-FkxyMw_8x_"
      },
      "source": [
        "# Get number of sequences that go from start to end\n",
        "num_shootouts = {}\n",
        "for start in pso.nodes:\n",
        "    for end in pso.nodes:\n",
        "        if end[0] > start[0] or end == start:\n",
        "            num_shootouts[(start, end)] = 0\n",
        "for path in data:\n",
        "    path = (0,) + path\n",
        "    for ks in range(min(2*pso.nround+1, len(path))):\n",
        "        for ke in range(ks, min(2*pso.nround+1, len(path))):\n",
        "            num_shootouts[((ks, path[ks]), (ke, path[ke]))] += 1"
      ],
      "execution_count": 69,
      "outputs": []
    },
    {
      "cell_type": "code",
      "metadata": {
        "id": "fBzAhOul4O1t"
      },
      "source": [
        "def get_prob_summary(pso, start):\n",
        "    df = pd.DataFrame(index=range(num_end + 3), columns=[\"end_node\", \"#shoutouts\", \"true_prob\", \"markov_prob\", \"adjust_prob\"])\n",
        "    ## end_node\n",
        "    for i in range(num_end):\n",
        "        df[\"end_node\"][i] = end_nodes[i]\n",
        "    # special cases\n",
        "    df[\"end_node\"][num_end] = \"team 1 wins\"\n",
        "    df[\"end_node\"][num_end+1] = \"team 2 wins\"\n",
        "    df[\"end_node\"][num_end+2] = \"node of tie\"\n",
        "    ## specific end node\n",
        "    df.loc[num_end:num_end+3, 1:] = 0\n",
        "    for i in range(num_end):\n",
        "        end = df[\"end_node\"][i]\n",
        "        if end[0] < start[0] or (end[0] == start[0] and end[1] != start[1]):\n",
        "            df.loc[i, 1:] = 0\n",
        "            continue\n",
        "        df[\"#shoutouts\"][i] = num_shootouts[(start, end)]\n",
        "        df[\"true_prob\"][i] = pso.true_prob.val[(start, end)]\n",
        "        df[\"markov_prob\"][i] = pso.markov_prob.val[(start, end)]\n",
        "        df[\"adjust_prob\"][i] = pso.adjust_prob.val[(start, end)]\n",
        "        # special cases\n",
        "        s = end[-1]\n",
        "        if s == 0:\n",
        "            df.loc[num_end+2,1:] = df.iloc[i,1:]\n",
        "            continue\n",
        "        if s > 0:\n",
        "            ind = num_end\n",
        "        else:\n",
        "            ind = num_end + 1\n",
        "        df[\"#shoutouts\"][ind] += num_shootouts[(start, end)]\n",
        "        df[\"true_prob\"][ind] += pso.true_prob.val[(start, end)]\n",
        "        df[\"markov_prob\"][ind] += pso.markov_prob.val[(start, end)]\n",
        "        df[\"adjust_prob\"][ind] += pso.adjust_prob.val[(start, end)]\n",
        "    return df"
      ],
      "execution_count": 70,
      "outputs": []
    },
    {
      "cell_type": "code",
      "metadata": {
        "colab": {
          "base_uri": "https://localhost:8080/"
        },
        "id": "fNc10J904YvO",
        "outputId": "31c692a6-3c37-416b-ebab-3a478a056bd0"
      },
      "source": [
        "prob_summary_dict = {}\n",
        "for start in pso.nodes:\n",
        "    prob_summary_dict[start] = get_prob_summary(pso, start)"
      ],
      "execution_count": 71,
      "outputs": [
        {
          "output_type": "stream",
          "text": [
            "/usr/local/lib/python3.7/dist-packages/ipykernel_launcher.py:11: FutureWarning: Slicing a positional slice with .loc is not supported, and will raise TypeError in a future version.  Use .loc with labels or .iloc with positions instead.\n",
            "  # This is added back by InteractiveShellApp.init_path()\n",
            "/usr/local/lib/python3.7/dist-packages/ipykernel_launcher.py:24: FutureWarning: Slicing a positional slice with .loc is not supported, and will raise TypeError in a future version.  Use .loc with labels or .iloc with positions instead.\n",
            "/usr/local/lib/python3.7/dist-packages/ipykernel_launcher.py:15: FutureWarning: Slicing a positional slice with .loc is not supported, and will raise TypeError in a future version.  Use .loc with labels or .iloc with positions instead.\n",
            "  from ipykernel import kernelapp as app\n"
          ],
          "name": "stderr"
        }
      ]
    },
    {
      "cell_type": "code",
      "metadata": {
        "colab": {
          "base_uri": "https://localhost:8080/",
          "height": 488
        },
        "id": "dnIZCnBU43D_",
        "outputId": "e6904ad7-a86a-4f67-ec41-4c408401e294"
      },
      "source": [
        "prob_summary_dict[(0, 0)]"
      ],
      "execution_count": 72,
      "outputs": [
        {
          "output_type": "execute_result",
          "data": {
            "text/html": [
              "<div>\n",
              "<style scoped>\n",
              "    .dataframe tbody tr th:only-of-type {\n",
              "        vertical-align: middle;\n",
              "    }\n",
              "\n",
              "    .dataframe tbody tr th {\n",
              "        vertical-align: top;\n",
              "    }\n",
              "\n",
              "    .dataframe thead th {\n",
              "        text-align: right;\n",
              "    }\n",
              "</style>\n",
              "<table border=\"1\" class=\"dataframe\">\n",
              "  <thead>\n",
              "    <tr style=\"text-align: right;\">\n",
              "      <th></th>\n",
              "      <th>end_node</th>\n",
              "      <th>#shoutouts</th>\n",
              "      <th>true_prob</th>\n",
              "      <th>markov_prob</th>\n",
              "      <th>adjust_prob</th>\n",
              "    </tr>\n",
              "  </thead>\n",
              "  <tbody>\n",
              "    <tr>\n",
              "      <th>0</th>\n",
              "      <td>(6, 3)</td>\n",
              "      <td>33</td>\n",
              "      <td>0.0116855524079320</td>\n",
              "      <td>0.0116855524079320</td>\n",
              "      <td>5.20417042793042e-18</td>\n",
              "    </tr>\n",
              "    <tr>\n",
              "      <th>1</th>\n",
              "      <td>(6, -3)</td>\n",
              "      <td>20</td>\n",
              "      <td>0.00708215297450425</td>\n",
              "      <td>0.00708215297450425</td>\n",
              "      <td>-3.46944695195361e-18</td>\n",
              "    </tr>\n",
              "    <tr>\n",
              "      <th>2</th>\n",
              "      <td>(7, 3)</td>\n",
              "      <td>149</td>\n",
              "      <td>0.0527620396600567</td>\n",
              "      <td>0.0527620396600567</td>\n",
              "      <td>6.93889390390723e-18</td>\n",
              "    </tr>\n",
              "    <tr>\n",
              "      <th>3</th>\n",
              "      <td>(7, -2)</td>\n",
              "      <td>47</td>\n",
              "      <td>0.0166430594900850</td>\n",
              "      <td>0.0166430594900850</td>\n",
              "      <td>-3.46944695195361e-18</td>\n",
              "    </tr>\n",
              "    <tr>\n",
              "      <th>4</th>\n",
              "      <td>(8, 2)</td>\n",
              "      <td>152</td>\n",
              "      <td>0.0538243626062323</td>\n",
              "      <td>0.0538243626062323</td>\n",
              "      <td>0</td>\n",
              "    </tr>\n",
              "    <tr>\n",
              "      <th>5</th>\n",
              "      <td>(8, -2)</td>\n",
              "      <td>224</td>\n",
              "      <td>0.0793201133144476</td>\n",
              "      <td>0.0793201133144476</td>\n",
              "      <td>1.38777878078145e-17</td>\n",
              "    </tr>\n",
              "    <tr>\n",
              "      <th>6</th>\n",
              "      <td>(9, 2)</td>\n",
              "      <td>480</td>\n",
              "      <td>0.169971671388102</td>\n",
              "      <td>0.169971671388102</td>\n",
              "      <td>2.77555756156289e-17</td>\n",
              "    </tr>\n",
              "    <tr>\n",
              "      <th>7</th>\n",
              "      <td>(9, -1)</td>\n",
              "      <td>146</td>\n",
              "      <td>0.0516997167138810</td>\n",
              "      <td>0.0516997167138810</td>\n",
              "      <td>6.93889390390723e-18</td>\n",
              "    </tr>\n",
              "    <tr>\n",
              "      <th>8</th>\n",
              "      <td>(10, 1)</td>\n",
              "      <td>235</td>\n",
              "      <td>0.0832152974504249</td>\n",
              "      <td>0.0832152974504249</td>\n",
              "      <td>1.38777878078145e-17</td>\n",
              "    </tr>\n",
              "    <tr>\n",
              "      <th>9</th>\n",
              "      <td>(10, 0)</td>\n",
              "      <td>816</td>\n",
              "      <td>0.288951841359773</td>\n",
              "      <td>0.288951841359773</td>\n",
              "      <td>-5.55111512312578e-17</td>\n",
              "    </tr>\n",
              "    <tr>\n",
              "      <th>10</th>\n",
              "      <td>(10, -1)</td>\n",
              "      <td>522</td>\n",
              "      <td>0.184844192634561</td>\n",
              "      <td>0.184844192634561</td>\n",
              "      <td>2.77555756156289e-17</td>\n",
              "    </tr>\n",
              "    <tr>\n",
              "      <th>11</th>\n",
              "      <td>team 1 wins</td>\n",
              "      <td>1049</td>\n",
              "      <td>0.371458923512748</td>\n",
              "      <td>0.371458923512748</td>\n",
              "      <td>5.37764277552810e-17</td>\n",
              "    </tr>\n",
              "    <tr>\n",
              "      <th>12</th>\n",
              "      <td>team 2 wins</td>\n",
              "      <td>959</td>\n",
              "      <td>0.339589235127479</td>\n",
              "      <td>0.339589235127479</td>\n",
              "      <td>4.16333634234434e-17</td>\n",
              "    </tr>\n",
              "    <tr>\n",
              "      <th>13</th>\n",
              "      <td>node of tie</td>\n",
              "      <td>816</td>\n",
              "      <td>0.288951841359773</td>\n",
              "      <td>0.288951841359773</td>\n",
              "      <td>-5.55111512312578e-17</td>\n",
              "    </tr>\n",
              "  </tbody>\n",
              "</table>\n",
              "</div>"
            ],
            "text/plain": [
              "       end_node #shoutouts  ...          markov_prob            adjust_prob\n",
              "0        (6, 3)         33  ...   0.0116855524079320   5.20417042793042e-18\n",
              "1       (6, -3)         20  ...  0.00708215297450425  -3.46944695195361e-18\n",
              "2        (7, 3)        149  ...   0.0527620396600567   6.93889390390723e-18\n",
              "3       (7, -2)         47  ...   0.0166430594900850  -3.46944695195361e-18\n",
              "4        (8, 2)        152  ...   0.0538243626062323                      0\n",
              "5       (8, -2)        224  ...   0.0793201133144476   1.38777878078145e-17\n",
              "6        (9, 2)        480  ...    0.169971671388102   2.77555756156289e-17\n",
              "7       (9, -1)        146  ...   0.0516997167138810   6.93889390390723e-18\n",
              "8       (10, 1)        235  ...   0.0832152974504249   1.38777878078145e-17\n",
              "9       (10, 0)        816  ...    0.288951841359773  -5.55111512312578e-17\n",
              "10     (10, -1)        522  ...    0.184844192634561   2.77555756156289e-17\n",
              "11  team 1 wins       1049  ...    0.371458923512748   5.37764277552810e-17\n",
              "12  team 2 wins        959  ...    0.339589235127479   4.16333634234434e-17\n",
              "13  node of tie        816  ...    0.288951841359773  -5.55111512312578e-17\n",
              "\n",
              "[14 rows x 5 columns]"
            ]
          },
          "metadata": {
            "tags": []
          },
          "execution_count": 72
        }
      ]
    },
    {
      "cell_type": "code",
      "metadata": {
        "colab": {
          "base_uri": "https://localhost:8080/",
          "height": 488
        },
        "id": "ILrURc9O-HnP",
        "outputId": "86729284-3107-4aad-a854-9e232359ca78"
      },
      "source": [
        "prob_summary_dict[(2, 1)]"
      ],
      "execution_count": 73,
      "outputs": [
        {
          "output_type": "execute_result",
          "data": {
            "text/html": [
              "<div>\n",
              "<style scoped>\n",
              "    .dataframe tbody tr th:only-of-type {\n",
              "        vertical-align: middle;\n",
              "    }\n",
              "\n",
              "    .dataframe tbody tr th {\n",
              "        vertical-align: top;\n",
              "    }\n",
              "\n",
              "    .dataframe thead th {\n",
              "        text-align: right;\n",
              "    }\n",
              "</style>\n",
              "<table border=\"1\" class=\"dataframe\">\n",
              "  <thead>\n",
              "    <tr style=\"text-align: right;\">\n",
              "      <th></th>\n",
              "      <th>end_node</th>\n",
              "      <th>#shoutouts</th>\n",
              "      <th>true_prob</th>\n",
              "      <th>markov_prob</th>\n",
              "      <th>adjust_prob</th>\n",
              "    </tr>\n",
              "  </thead>\n",
              "  <tbody>\n",
              "    <tr>\n",
              "      <th>0</th>\n",
              "      <td>(6, 3)</td>\n",
              "      <td>33</td>\n",
              "      <td>0.0612244897959184</td>\n",
              "      <td>0.0612244897959184</td>\n",
              "      <td>1.38777878078145e-17</td>\n",
              "    </tr>\n",
              "    <tr>\n",
              "      <th>1</th>\n",
              "      <td>(6, -3)</td>\n",
              "      <td>0</td>\n",
              "      <td>0</td>\n",
              "      <td>0</td>\n",
              "      <td>0</td>\n",
              "    </tr>\n",
              "    <tr>\n",
              "      <th>2</th>\n",
              "      <td>(7, 3)</td>\n",
              "      <td>105</td>\n",
              "      <td>0.194805194805195</td>\n",
              "      <td>0.184060811649605</td>\n",
              "      <td>-0.0107443831555900</td>\n",
              "    </tr>\n",
              "    <tr>\n",
              "      <th>3</th>\n",
              "      <td>(7, -2)</td>\n",
              "      <td>0</td>\n",
              "      <td>0</td>\n",
              "      <td>0</td>\n",
              "      <td>0</td>\n",
              "    </tr>\n",
              "    <tr>\n",
              "      <th>4</th>\n",
              "      <td>(8, 2)</td>\n",
              "      <td>62</td>\n",
              "      <td>0.115027829313544</td>\n",
              "      <td>0.107153526156740</td>\n",
              "      <td>-0.00787430315680392</td>\n",
              "    </tr>\n",
              "    <tr>\n",
              "      <th>5</th>\n",
              "      <td>(8, -2)</td>\n",
              "      <td>5</td>\n",
              "      <td>0.00927643784786642</td>\n",
              "      <td>0.00587046462381919</td>\n",
              "      <td>-0.00340597322404723</td>\n",
              "    </tr>\n",
              "    <tr>\n",
              "      <th>6</th>\n",
              "      <td>(9, 2)</td>\n",
              "      <td>130</td>\n",
              "      <td>0.241187384044527</td>\n",
              "      <td>0.258467346428801</td>\n",
              "      <td>0.0172799623842742</td>\n",
              "    </tr>\n",
              "    <tr>\n",
              "      <th>7</th>\n",
              "      <td>(9, -1)</td>\n",
              "      <td>8</td>\n",
              "      <td>0.0148423005565863</td>\n",
              "      <td>0.0133685648324912</td>\n",
              "      <td>-0.00147373572409507</td>\n",
              "    </tr>\n",
              "    <tr>\n",
              "      <th>8</th>\n",
              "      <td>(10, 1)</td>\n",
              "      <td>40</td>\n",
              "      <td>0.0742115027829314</td>\n",
              "      <td>0.0719961544341119</td>\n",
              "      <td>-0.00221534834881944</td>\n",
              "    </tr>\n",
              "    <tr>\n",
              "      <th>9</th>\n",
              "      <td>(10, 0)</td>\n",
              "      <td>121</td>\n",
              "      <td>0.224489795918367</td>\n",
              "      <td>0.219976309473445</td>\n",
              "      <td>-0.00451348644492225</td>\n",
              "    </tr>\n",
              "    <tr>\n",
              "      <th>10</th>\n",
              "      <td>(10, -1)</td>\n",
              "      <td>35</td>\n",
              "      <td>0.0649350649350649</td>\n",
              "      <td>0.0778823326050685</td>\n",
              "      <td>0.0129472676700036</td>\n",
              "    </tr>\n",
              "    <tr>\n",
              "      <th>11</th>\n",
              "      <td>team 1 wins</td>\n",
              "      <td>370</td>\n",
              "      <td>0.686456400742115</td>\n",
              "      <td>0.682902328465176</td>\n",
              "      <td>-0.00355407227693906</td>\n",
              "    </tr>\n",
              "    <tr>\n",
              "      <th>12</th>\n",
              "      <td>team 2 wins</td>\n",
              "      <td>48</td>\n",
              "      <td>0.0890538033395176</td>\n",
              "      <td>0.0971213620613789</td>\n",
              "      <td>0.00806755872186129</td>\n",
              "    </tr>\n",
              "    <tr>\n",
              "      <th>13</th>\n",
              "      <td>node of tie</td>\n",
              "      <td>121</td>\n",
              "      <td>0.224489795918367</td>\n",
              "      <td>0.219976309473445</td>\n",
              "      <td>-0.00451348644492225</td>\n",
              "    </tr>\n",
              "  </tbody>\n",
              "</table>\n",
              "</div>"
            ],
            "text/plain": [
              "       end_node #shoutouts  ...          markov_prob           adjust_prob\n",
              "0        (6, 3)         33  ...   0.0612244897959184  1.38777878078145e-17\n",
              "1       (6, -3)          0  ...                    0                     0\n",
              "2        (7, 3)        105  ...    0.184060811649605   -0.0107443831555900\n",
              "3       (7, -2)          0  ...                    0                     0\n",
              "4        (8, 2)         62  ...    0.107153526156740  -0.00787430315680392\n",
              "5       (8, -2)          5  ...  0.00587046462381919  -0.00340597322404723\n",
              "6        (9, 2)        130  ...    0.258467346428801    0.0172799623842742\n",
              "7       (9, -1)          8  ...   0.0133685648324912  -0.00147373572409507\n",
              "8       (10, 1)         40  ...   0.0719961544341119  -0.00221534834881944\n",
              "9       (10, 0)        121  ...    0.219976309473445  -0.00451348644492225\n",
              "10     (10, -1)         35  ...   0.0778823326050685    0.0129472676700036\n",
              "11  team 1 wins        370  ...    0.682902328465176  -0.00355407227693906\n",
              "12  team 2 wins         48  ...   0.0971213620613789   0.00806755872186129\n",
              "13  node of tie        121  ...    0.219976309473445  -0.00451348644492225\n",
              "\n",
              "[14 rows x 5 columns]"
            ]
          },
          "metadata": {
            "tags": []
          },
          "execution_count": 73
        }
      ]
    },
    {
      "cell_type": "code",
      "metadata": {
        "colab": {
          "base_uri": "https://localhost:8080/",
          "height": 488
        },
        "id": "902CVOJoBt2F",
        "outputId": "d729db8b-3d00-4a4e-abad-1654d89ae9d7"
      },
      "source": [
        "prob_summary_dict[(4, -2)]"
      ],
      "execution_count": 77,
      "outputs": [
        {
          "output_type": "execute_result",
          "data": {
            "text/html": [
              "<div>\n",
              "<style scoped>\n",
              "    .dataframe tbody tr th:only-of-type {\n",
              "        vertical-align: middle;\n",
              "    }\n",
              "\n",
              "    .dataframe tbody tr th {\n",
              "        vertical-align: top;\n",
              "    }\n",
              "\n",
              "    .dataframe thead th {\n",
              "        text-align: right;\n",
              "    }\n",
              "</style>\n",
              "<table border=\"1\" class=\"dataframe\">\n",
              "  <thead>\n",
              "    <tr style=\"text-align: right;\">\n",
              "      <th></th>\n",
              "      <th>end_node</th>\n",
              "      <th>#shoutouts</th>\n",
              "      <th>true_prob</th>\n",
              "      <th>markov_prob</th>\n",
              "      <th>adjust_prob</th>\n",
              "    </tr>\n",
              "  </thead>\n",
              "  <tbody>\n",
              "    <tr>\n",
              "      <th>0</th>\n",
              "      <td>(6, 3)</td>\n",
              "      <td>0</td>\n",
              "      <td>0</td>\n",
              "      <td>0</td>\n",
              "      <td>0</td>\n",
              "    </tr>\n",
              "    <tr>\n",
              "      <th>1</th>\n",
              "      <td>(6, -3)</td>\n",
              "      <td>20</td>\n",
              "      <td>0.202020202020202</td>\n",
              "      <td>0.202020202020202</td>\n",
              "      <td>-5.55111512312578e-17</td>\n",
              "    </tr>\n",
              "    <tr>\n",
              "      <th>2</th>\n",
              "      <td>(7, 3)</td>\n",
              "      <td>0</td>\n",
              "      <td>0</td>\n",
              "      <td>0</td>\n",
              "      <td>0</td>\n",
              "    </tr>\n",
              "    <tr>\n",
              "      <th>3</th>\n",
              "      <td>(7, -2)</td>\n",
              "      <td>21</td>\n",
              "      <td>0.212121212121212</td>\n",
              "      <td>0.157046339134905</td>\n",
              "      <td>-0.0550748729863072</td>\n",
              "    </tr>\n",
              "    <tr>\n",
              "      <th>4</th>\n",
              "      <td>(8, 2)</td>\n",
              "      <td>0</td>\n",
              "      <td>0</td>\n",
              "      <td>0</td>\n",
              "      <td>0</td>\n",
              "    </tr>\n",
              "    <tr>\n",
              "      <th>5</th>\n",
              "      <td>(8, -2)</td>\n",
              "      <td>38</td>\n",
              "      <td>0.383838383838384</td>\n",
              "      <td>0.360723202213066</td>\n",
              "      <td>-0.0231151816253179</td>\n",
              "    </tr>\n",
              "    <tr>\n",
              "      <th>6</th>\n",
              "      <td>(9, 2)</td>\n",
              "      <td>0</td>\n",
              "      <td>0</td>\n",
              "      <td>0</td>\n",
              "      <td>0</td>\n",
              "    </tr>\n",
              "    <tr>\n",
              "      <th>7</th>\n",
              "      <td>(9, -1)</td>\n",
              "      <td>4</td>\n",
              "      <td>0.0404040404040404</td>\n",
              "      <td>0.0575048704307620</td>\n",
              "      <td>0.0171008300267216</td>\n",
              "    </tr>\n",
              "    <tr>\n",
              "      <th>8</th>\n",
              "      <td>(10, 1)</td>\n",
              "      <td>0</td>\n",
              "      <td>0</td>\n",
              "      <td>0.00853514771958764</td>\n",
              "      <td>0.00853514771958764</td>\n",
              "    </tr>\n",
              "    <tr>\n",
              "      <th>9</th>\n",
              "      <td>(10, 0)</td>\n",
              "      <td>3</td>\n",
              "      <td>0.0303030303030303</td>\n",
              "      <td>0.0739913646131514</td>\n",
              "      <td>0.0436883343101211</td>\n",
              "    </tr>\n",
              "    <tr>\n",
              "      <th>10</th>\n",
              "      <td>(10, -1)</td>\n",
              "      <td>13</td>\n",
              "      <td>0.131313131313131</td>\n",
              "      <td>0.140178873868326</td>\n",
              "      <td>0.00886574255519484</td>\n",
              "    </tr>\n",
              "    <tr>\n",
              "      <th>11</th>\n",
              "      <td>team 1 wins</td>\n",
              "      <td>0</td>\n",
              "      <td>0</td>\n",
              "      <td>0.00853514771958764</td>\n",
              "      <td>0.00853514771958764</td>\n",
              "    </tr>\n",
              "    <tr>\n",
              "      <th>12</th>\n",
              "      <td>team 2 wins</td>\n",
              "      <td>96</td>\n",
              "      <td>0.969696969696970</td>\n",
              "      <td>0.917473487667261</td>\n",
              "      <td>-0.0522234820297088</td>\n",
              "    </tr>\n",
              "    <tr>\n",
              "      <th>13</th>\n",
              "      <td>node of tie</td>\n",
              "      <td>3</td>\n",
              "      <td>0.0303030303030303</td>\n",
              "      <td>0.0739913646131514</td>\n",
              "      <td>0.0436883343101211</td>\n",
              "    </tr>\n",
              "  </tbody>\n",
              "</table>\n",
              "</div>"
            ],
            "text/plain": [
              "       end_node #shoutouts  ...          markov_prob            adjust_prob\n",
              "0        (6, 3)          0  ...                    0                      0\n",
              "1       (6, -3)         20  ...    0.202020202020202  -5.55111512312578e-17\n",
              "2        (7, 3)          0  ...                    0                      0\n",
              "3       (7, -2)         21  ...    0.157046339134905    -0.0550748729863072\n",
              "4        (8, 2)          0  ...                    0                      0\n",
              "5       (8, -2)         38  ...    0.360723202213066    -0.0231151816253179\n",
              "6        (9, 2)          0  ...                    0                      0\n",
              "7       (9, -1)          4  ...   0.0575048704307620     0.0171008300267216\n",
              "8       (10, 1)          0  ...  0.00853514771958764    0.00853514771958764\n",
              "9       (10, 0)          3  ...   0.0739913646131514     0.0436883343101211\n",
              "10     (10, -1)         13  ...    0.140178873868326    0.00886574255519484\n",
              "11  team 1 wins          0  ...  0.00853514771958764    0.00853514771958764\n",
              "12  team 2 wins         96  ...    0.917473487667261    -0.0522234820297088\n",
              "13  node of tie          3  ...   0.0739913646131514     0.0436883343101211\n",
              "\n",
              "[14 rows x 5 columns]"
            ]
          },
          "metadata": {
            "tags": []
          },
          "execution_count": 77
        }
      ]
    },
    {
      "cell_type": "code",
      "metadata": {
        "id": "__Mti99mBvcU"
      },
      "source": [
        ""
      ],
      "execution_count": null,
      "outputs": []
    }
  ]
}