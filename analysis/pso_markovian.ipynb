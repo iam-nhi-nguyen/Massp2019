{
  "nbformat": 4,
  "nbformat_minor": 0,
  "metadata": {
    "colab": {
      "name": "pso_markovian.ipynb",
      "provenance": [],
      "collapsed_sections": [],
      "authorship_tag": "ABX9TyPm2BXR3labxlVi+zdufGva",
      "include_colab_link": true
    },
    "kernelspec": {
      "name": "python3",
      "display_name": "Python 3"
    },
    "language_info": {
      "name": "python"
    }
  },
  "cells": [
    {
      "cell_type": "markdown",
      "metadata": {
        "id": "view-in-github",
        "colab_type": "text"
      },
      "source": [
        "<a href=\"https://colab.research.google.com/github/iam-nhi-nguyen/Massp2019/blob/master/analysis/pso_markovian.ipynb\" target=\"_parent\"><img src=\"https://colab.research.google.com/assets/colab-badge.svg\" alt=\"Open In Colab\"/></a>"
      ]
    },
    {
      "cell_type": "markdown",
      "metadata": {
        "id": "uv_P40h0Yq-Y"
      },
      "source": [
        "# Penalty Shootouts Analysis - Markovian model analysis\n",
        "\n",
        "*Nhi Nguyen*\n",
        "\n"
      ]
    },
    {
      "cell_type": "code",
      "metadata": {
        "id": "rMMW_RyfYnJv"
      },
      "source": [
        "# libraries\n",
        "import pandas as pd\n",
        "import numpy as np\n",
        "import sympy\n",
        "import math"
      ],
      "execution_count": 1,
      "outputs": []
    },
    {
      "cell_type": "markdown",
      "metadata": {
        "id": "P85OegguadsZ"
      },
      "source": [
        "# 2 rounds\n",
        "\n",
        "Proof of concept: Complete the formula for the first 2 rounds"
      ]
    },
    {
      "cell_type": "code",
      "metadata": {
        "id": "0fbcB5N2aczI"
      },
      "source": [
        "nround = 2"
      ],
      "execution_count": 2,
      "outputs": []
    },
    {
      "cell_type": "markdown",
      "metadata": {
        "id": "5dwRWE78mnC-"
      },
      "source": [
        "### Set up sequences\n",
        "\n",
        "* **Step 1**: Create $2^{2 \\times nround + 1} - 1$ binary sequences of penalty outcomes of lengths $\\{0, 1, \\cdots, 2 \\times nround\\}$\n",
        "\n",
        "* **Step 2**: Create 2 functions `o2d()` (**o**utcomes **to** **d**ifferences) and `d2o()` to map from sequences of penalty outcomes to sequences of goal differences and vice versa\n",
        "\n",
        "* **Step 3**: Use the previos functions to create 2 dictionaries `out2diff` and `diff2out` top map the $2^{2 \\times nround + 1} - 1$ sequences of penalty outcomes to the corresponding sequences of goal differences and vice versa\n",
        "\n",
        "* **Step 4**: Determine `complete_paths` (i.e. sequences where the penalty shootout should terminate) and remove invalid sequences (i.e. sequences where the penalty shootout should have ended earlier)"
      ]
    },
    {
      "cell_type": "code",
      "metadata": {
        "colab": {
          "base_uri": "https://localhost:8080/"
        },
        "id": "QmLYCmRsZCxG",
        "outputId": "61abcd74-dd15-4de4-8ea3-365cc6e9d8ac"
      },
      "source": [
        "# Step 1: Create 2^0 + 2^1 + 2^2 + 2^3 + 2^4 = 31 binary sequences\n",
        "\n",
        "origin = ()\n",
        "penalty_outcomes = [origin]\n",
        "prev_seqs = [origin]\n",
        "for k in range(2 * nround):\n",
        "    # prev_seqs currently have all binary sequences of length k\n",
        "    # use prev_seqs to create curr_seqs with all binary sequences of length k+1\n",
        "    curr_seqs = []\n",
        "    for p in prev_seqs:\n",
        "        curr_seqs.append(p + (0,))\n",
        "        curr_seqs.append(p + (1,))\n",
        "    penalty_outcomes += curr_seqs\n",
        "    prev_seqs = curr_seqs\n",
        "\n",
        "print(f\"The number of sequences of outcomes is {len(penalty_outcomes)}.\")"
      ],
      "execution_count": 3,
      "outputs": [
        {
          "output_type": "stream",
          "text": [
            "The number of sequences of outcomes is 31.\n"
          ],
          "name": "stdout"
        }
      ]
    },
    {
      "cell_type": "code",
      "metadata": {
        "colab": {
          "base_uri": "https://localhost:8080/"
        },
        "id": "hVNf1D_BumD_",
        "outputId": "cccd92b1-c622-4a87-cb2c-b355bdbd10eb"
      },
      "source": [
        "# Step 2: Create o2d() and d2o()\n",
        "\n",
        "def o2d(x):\n",
        "    if len(x) == 0:\n",
        "        return x\n",
        "    ret = x[:1]\n",
        "    for i in range(1, len(x)):\n",
        "        ## if i % 2:   # team 2\n",
        "        ##     ret = ret + (ret[-1] - x[i],)\n",
        "        ## else:       # team 1\n",
        "        ##     ret = ret + (ret[-1] + x[i],)\n",
        "        ## possible combined formula\n",
        "        ret = ret + (ret[-1] + x[i] * (1-2*(i%2)),)\n",
        "    return ret\n",
        "\n",
        "def d2o(x):\n",
        "    if len(x) == 0:\n",
        "        return x\n",
        "    x = (0,) + x\n",
        "    ret = ()\n",
        "    for i in range(1, len(x)):\n",
        "        if i % 2:   # team 1\n",
        "            if x[i] == x[i-1]:\n",
        "                ret = ret + (0,)\n",
        "            elif x[i] == x[i-1] + 1:\n",
        "                ret = ret + (1,)\n",
        "            else:\n",
        "                raise ValueError(f\"Invalid sequence of goal differences: {x}\")\n",
        "        else:       # team 2\n",
        "            if x[i] == x[i-1]:\n",
        "                ret = ret + (0,)\n",
        "            elif x[i] == x[i-1] - 1:\n",
        "                ret = ret + (1,)\n",
        "            else:\n",
        "                raise ValueError(f\"Invalid sequence of goal differences: {x}\")\n",
        "        # think about combined formula\n",
        "    return ret\n",
        "\n",
        "print(\"Testing functions o2d() and d2o()\")\n",
        "print(f\"Outcomes (1, 0, 1, 1) is equivalence to differences {o2d((1, 0, 1, 1))}.\")\n",
        "print(f\"Differences (1, 1, 2, 1) is equivalence to outcomes {d2o((1, 1, 2, 1))}.\")"
      ],
      "execution_count": 4,
      "outputs": [
        {
          "output_type": "stream",
          "text": [
            "Testing functions o2d() and d2o()\n",
            "Outcomes (1, 0, 1, 1) is equivalence to differences (1, 1, 2, 1).\n",
            "Differences (1, 1, 2, 1) is equivalence to outcomes (1, 0, 1, 1).\n"
          ],
          "name": "stdout"
        }
      ]
    },
    {
      "cell_type": "code",
      "metadata": {
        "colab": {
          "base_uri": "https://localhost:8080/"
        },
        "id": "o9vJ2D-R9d4p",
        "outputId": "53cd73b8-916b-4054-e506-a55c05c6bf81"
      },
      "source": [
        "# Step 3: Create dictionaries out2diff and diff2out\n",
        "# using o2d() and penalty_outcomes\n",
        "\n",
        "out2diff = {}\n",
        "diff2out = {}\n",
        "for out in penalty_outcomes:\n",
        "    diff = o2d(out)\n",
        "    out2diff[out] = diff\n",
        "    diff2out[diff] = out\n",
        "\n",
        "print(\"Testing dictionaries out2diff and diff2out\")\n",
        "print(f\"Outcomes (1, 0, 1, 1) is equivalence to differences {out2diff[(1, 0, 1, 1)]}.\")\n",
        "print(f\"Differences (1, 1, 2, 1) is equivalence to outcomes {diff2out[(1, 1, 2, 1)]}.\")"
      ],
      "execution_count": 5,
      "outputs": [
        {
          "output_type": "stream",
          "text": [
            "Testing dictionaries out2diff and diff2out\n",
            "Outcomes (1, 0, 1, 1) is equivalence to differences (1, 1, 2, 1).\n",
            "Differences (1, 1, 2, 1) is equivalence to outcomes (1, 0, 1, 1).\n"
          ],
          "name": "stdout"
        }
      ]
    },
    {
      "cell_type": "code",
      "metadata": {
        "colab": {
          "base_uri": "https://localhost:8080/"
        },
        "id": "cP1z3PAwP44V",
        "outputId": "91860a2c-cb49-4205-971c-4a1248b9263b"
      },
      "source": [
        "# Step 4: Find complete paths and remove invalid sequences\n",
        "\n",
        "complete_paths = set()\n",
        "ended = set()           # sequences that should have endeds\n",
        "for diff in sorted(list(diff2out.keys()), key=len): # examine longer sequences first\n",
        "    k = len(diff)\n",
        "    if k == 0:\n",
        "        continue\n",
        "    # check for paths that should have ended earlier\n",
        "    if k > 0 and (diff[:-1] in ended):\n",
        "        out = diff2out[diff]\n",
        "        out2diff.pop(out)\n",
        "        diff2out.pop(diff)\n",
        "        ended.add(diff)\n",
        "        continue\n",
        "    # check for complete paths\n",
        "    if k == 2*nround:               # max length\n",
        "        complete_paths.add(diff)\n",
        "        ended.add(diff)\n",
        "    elif k % 2:                     # last shot is from team 1\n",
        "        max_s = diff[-1] + (nround - k//2 - 1)  # max score difference after nround\n",
        "        min_s = diff[-1] - (nround - k//2)      # min score difference after nround\n",
        "        if max_s * min_s > 0:   # the result is the same regardless\n",
        "            complete_paths.add(diff)\n",
        "            ended.add(diff)\n",
        "    else:                           # last shot is from team 2\n",
        "        max_s = diff[-1] + (nround - k//2)      # max score difference after nround\n",
        "        min_s = diff[-1] - (nround - k//2)      # min score difference after nround\n",
        "        if max_s * min_s > 0:   # the result is the same regardless\n",
        "            complete_paths.add(diff)\n",
        "            ended.add(diff)\n",
        "\n",
        "# There should be 4 invalid sequences and 14 complete paths\n",
        "print(f\"The number of valid sequences is {len(penalty_outcomes) - len(diff2out)}.\")\n",
        "print(f\"The number of complete paths is {len(complete_paths)}.\")"
      ],
      "execution_count": 6,
      "outputs": [
        {
          "output_type": "stream",
          "text": [
            "The number of valid sequences is 4.\n",
            "The number of complete paths is 14.\n"
          ],
          "name": "stdout"
        }
      ]
    },
    {
      "cell_type": "markdown",
      "metadata": {
        "id": "jee4AJ-VM3JG"
      },
      "source": [
        "### Set up network\n",
        "\n",
        "* **Step 1**: Create 2 functions `r2s()` (**r**ound **to** **s**hot) and `s2r()` to map from state $\\{i, t\\}$ to shot number $k$ and vice versa ($i \\in \\{1, 2\\}$ represents the current team and $t$ represents the current round\n",
        "\n",
        "* **Step 2**: Set up 2 dictionaries `next_nodes` and `prev_nodes` to represent the network, where \n",
        "    * if we are currently at $(k,s)$, the path travel to `next_nodes[(k,s)][1]` if the next shot is $1$ (is a goal); otherwise, the path travel to `next_nodes[(k,s)][0]`; if the penalty shootout is supposed to end at $(k,s)$ then `next_nodes[(k,s)] = [None, None]`\n",
        "    * if we are currently at $(k,s)$ and the latest shot is $1$ (is a goal), then the previous node in this path is `prev_nodes[(k,s)][1]`; otherwise, the previous node in this path is `prev_nodes[(k,s)][0]`; if such path doesn't exist (e.g. there is no path to $(k,s)$ where the last shot is $1$) then the corresponding `prev_nodes[(k,s)]` is `None`"
      ]
    },
    {
      "cell_type": "code",
      "metadata": {
        "colab": {
          "base_uri": "https://localhost:8080/"
        },
        "id": "4IPZCkIq2OLP",
        "outputId": "0b9a5768-6c0b-4adc-849d-6b94b52f2a17"
      },
      "source": [
        "# Step 1: Create r2s() and s2r()\n",
        "\n",
        "def r2s(i, t):\n",
        "    return i + (t - 1) * 2\n",
        "\n",
        "def s2r(k):\n",
        "    if k == 0: # special case when started\n",
        "        return 0, 0\n",
        "    i = 2 - k % 2\n",
        "    t = (k - i) // 2 + 1\n",
        "    return i, t\n",
        "\n",
        "print(\"Testing functions r2s() and s2r()\")\n",
        "print(f\"State (2, 1) is equivalence to shot {r2s(2, 1)}.\")\n",
        "print(f\"Shot 2 is equivalence to state {s2r(2)}.\")"
      ],
      "execution_count": 7,
      "outputs": [
        {
          "output_type": "stream",
          "text": [
            "Testing functions r2s() and s2r()\n",
            "State (2, 1) is equivalence to shot 2.\n",
            "Shot 2 is equivalence to state (2, 1).\n"
          ],
          "name": "stdout"
        }
      ]
    },
    {
      "cell_type": "code",
      "metadata": {
        "colab": {
          "base_uri": "https://localhost:8080/"
        },
        "id": "o-iTa8Bj4Q4w",
        "outputId": "ffb7a319-1124-4680-fff5-244a107cbfe4"
      },
      "source": [
        "# Step 2: Set up the network using subscript (k, s)\n",
        "# where k is the shot number and s is the current score difference\n",
        "\n",
        "start = (0, 0)\n",
        "nodes = set([start])            # a set contains all possible nodes\n",
        "term_nodes = set()              # a set contains all terminating nodes\n",
        "next_nodes = {start: [None]*2}\n",
        "prev_nodes = {start: [None]*2}\n",
        "for path in complete_paths:\n",
        "    for k in range(len(path)):\n",
        "        s = path[k]\n",
        "        node = (k+1, s)\n",
        "        nodes.add(node)\n",
        "        prev_nodes[node] = [None]*2\n",
        "        next_nodes[node] = [None]*2\n",
        "        if k + 1 == len(path):      # terminating node\n",
        "            term_nodes.add(node)\n",
        "\n",
        "for node in nodes:\n",
        "    k, s = node\n",
        "    # populate next_nodes\n",
        "    if node not in term_nodes:\n",
        "        if (k+1, s) in nodes:\n",
        "            next_nodes[(k, s)][0] = (k+1, s)\n",
        "        ## if k % 2:                       # next team is team 2\n",
        "        ##     if (k+1, s-1) in nodes:   \n",
        "        ##         next_nodes[(k, s)][1] = (k+1, s-1)\n",
        "        ## else:                           # next team is team 1\n",
        "        ##      if (k+1, s+1) in nodes:   \n",
        "        ##         next_nodes[(k, s)][1] = (k+1, s+1)\n",
        "        ## possible combine formula\n",
        "        if (k+1, s +  (1-2*(k%2))) in nodes:\n",
        "            next_nodes[(k, s)][1] = (k+1, s +  (1-2*(k%2)))\n",
        "    # populate prev_nodes\n",
        "    if (k-1, s) in nodes and (k-1, s) not in term_nodes:\n",
        "        prev_nodes[(k,s)][0] = (k-1, s)\n",
        "    if (k-1, s +  (1-2*(k%2))) in nodes  and (k-1, s +  (1-2*(k%2))) not in term_nodes:\n",
        "        prev_nodes[(k, s)][1] = (k-1, s +  (1-2*(k%2)))\n",
        "\n",
        "# There should be 13 nodes\n",
        "print(f\"The number of nodes is {len(nodes)}.\")\n",
        "\n",
        "# A quick check to make sure that a in next[b] iff b in prev[a]\n",
        "# If the condition is true, nothing should be printed\n",
        "for node in next_nodes.keys():\n",
        "    for next in next_nodes[node]:\n",
        "        if next and node not in prev_nodes[next]:\n",
        "            print(node, next)\n",
        "\n",
        "for prev in prev_nodes.keys():\n",
        "    for prev in prev_nodes[node]:\n",
        "        if prev and node not in next_nodes[prev]:\n",
        "            print(node, prev)"
      ],
      "execution_count": 8,
      "outputs": [
        {
          "output_type": "stream",
          "text": [
            "The number of nodes is 13.\n"
          ],
          "name": "stdout"
        }
      ]
    },
    {
      "cell_type": "code",
      "metadata": {
        "colab": {
          "base_uri": "https://localhost:8080/"
        },
        "id": "Ugxdd4x_UPfk",
        "outputId": "50b2f68f-2007-481d-ce5e-aaf8b335c4fc"
      },
      "source": [
        "prev_nodes"
      ],
      "execution_count": 9,
      "outputs": [
        {
          "output_type": "execute_result",
          "data": {
            "text/plain": [
              "{(0, 0): [None, None],\n",
              " (1, 0): [(0, 0), None],\n",
              " (1, 1): [None, (0, 0)],\n",
              " (2, -1): [None, (1, 0)],\n",
              " (2, 0): [(1, 0), (1, 1)],\n",
              " (2, 1): [(1, 1), None],\n",
              " (3, -1): [(2, -1), None],\n",
              " (3, 0): [(2, 0), (2, -1)],\n",
              " (3, 1): [(2, 1), (2, 0)],\n",
              " (3, 2): [None, (2, 1)],\n",
              " (4, -1): [None, (3, 0)],\n",
              " (4, 0): [(3, 0), (3, 1)],\n",
              " (4, 1): [(3, 1), None]}"
            ]
          },
          "metadata": {
            "tags": []
          },
          "execution_count": 9
        }
      ]
    },
    {
      "cell_type": "markdown",
      "metadata": {
        "id": "olVPDXdgBG-l"
      },
      "source": [
        "### Set up variables and expression using `sympy`\n",
        "\n",
        "* **Step 1**: Create symbols for $n(d_1,\\cdots)$ for all valid sequences of goal differences\n",
        "\n",
        "* **Step 2**: Create symbols for the transition probabilities $q_{i,t}(s)$\n",
        "\n",
        "* **Step 3**: Express the transition probability $q_{i,t}(s)$ and its complement $(1 - q_{i,t}(s))$ in terms of $n(d_1, \\cdots)$"
      ]
    },
    {
      "cell_type": "code",
      "metadata": {
        "colab": {
          "base_uri": "https://localhost:8080/",
          "height": 57
        },
        "id": "CwyVipbiB918",
        "outputId": "5ace79c0-5487-42f6-c6fc-cc66dcb622d8"
      },
      "source": [
        "# Step 1: Create symbols for n(d1, ...)\n",
        "\n",
        "n_symbol = {}\n",
        "for diff in diff2out.keys():\n",
        "    # name in format n(d1;d2;...) where d1, d2 are number\n",
        "    name = \"n\" + str(diff).replace(\" \",\"\").replace(\",\",\";\")\n",
        "    n_symbol[diff] = sympy.symbols(name)\n",
        "    \n",
        "# special cases\n",
        "n_symbol[()] = sympy.symbols(\"n\")       \n",
        "n_symbol[(0,)] = sympy.symbols(\"n(0)\")\n",
        "n_symbol[(1,)] = sympy.symbols(\"n(1)\")\n",
        "\n",
        "# Example of an expression using these symbols\n",
        "# e.g. we want to get the expression (n(1,0,1) + n(0,0,1))/(n(1,0) + n(0,0))\n",
        "expr = (n_symbol[(1,0,1)] + n_symbol[(0,0,1)]) / (n_symbol[(1,0)] + n_symbol[(0,0)])\n",
        "expr"
      ],
      "execution_count": 10,
      "outputs": [
        {
          "output_type": "execute_result",
          "data": {
            "text/latex": "$\\displaystyle \\frac{n(0;0;1) + n(1;0;1)}{n(0;0) + n(1;0)}$",
            "text/plain": [
              "(n(0;0;1) + n(1;0;1))/(n(0;0) + n(1;0))"
            ]
          },
          "metadata": {
            "tags": []
          },
          "execution_count": 10
        }
      ]
    },
    {
      "cell_type": "code",
      "metadata": {
        "colab": {
          "base_uri": "https://localhost:8080/",
          "height": 55
        },
        "id": "RpgZJltnH6El",
        "outputId": "1d74df8d-5a0c-490f-f341-f848c53c1a3d"
      },
      "source": [
        "# Step 2: Create symbols for q_{i,t}(s)\n",
        "\n",
        "q_symbol = {}\n",
        "for node in nodes:\n",
        "    if node in term_nodes:\n",
        "        continue\n",
        "    k, s = node\n",
        "    i, t = s2r(k+1) # s is the goal difference at shot k but (i,t) represents the next shot\n",
        "    # name in the format q_{i,t}(s)\n",
        "    name = \"q_{\" + f\"{i};{t}\" + \"}\" + f\"({s})\"\n",
        "    q_symbol[(i, t, s)] = sympy.symbols(name)\n",
        "\n",
        "# The number of transitions should be 8\n",
        "print(f\"The number of transitions is {len(q_symbol)}\")\n",
        "\n",
        "# Example of an expression using these symbols\n",
        "# e.g. we want to get the expression q_{1,1}(0) * (1 - q_{2,1}(1))\n",
        "expr = q_symbol[(1,1,0)] * (1 - q_symbol[(2,1,1)])\n",
        "expr"
      ],
      "execution_count": 11,
      "outputs": [
        {
          "output_type": "stream",
          "text": [
            "The number of transitions is 8\n"
          ],
          "name": "stdout"
        },
        {
          "output_type": "execute_result",
          "data": {
            "text/latex": "$\\displaystyle q_{1;1}(0) \\left(1 - q_{2;1}(1)\\right)$",
            "text/plain": [
              "q_{1;1}(0)*(1 - q_{2;1}(1))"
            ]
          },
          "metadata": {
            "tags": []
          },
          "execution_count": 11
        }
      ]
    },
    {
      "cell_type": "code",
      "metadata": {
        "id": "bY-O7ZefXc7O",
        "colab": {
          "base_uri": "https://localhost:8080/",
          "height": 931
        },
        "outputId": "e5e9bb30-783d-4102-ce6a-0df84089d2d2"
      },
      "source": [
        "# Step 3: Express q's in terms of n's\n",
        "# In particular, q_expr[(i,t,s)][1] = q_{i,t}(s) \n",
        "# and q_expr[(i,t,s)][0] = 1 - q_{i,t}(s)\n",
        "\n",
        "q_expr = {}\n",
        "for i, t, s in q_symbol.keys():\n",
        "    k = r2s(i,t) - 1 # previous shot\n",
        "    if k == 0:\n",
        "        if s == 0:\n",
        "            q_expr[(i,t,s)] = [n_symbol[(0,)] / n_symbol[()], n_symbol[(1,)] / n_symbol[()]]\n",
        "        else:\n",
        "            raise ValueError(f\"Invalid state (i, t, s) = ({i}, {t}, {s})\")\n",
        "    else:\n",
        "        denom = 0       # add up all n(.,.,s) of length k\n",
        "        num_compl = 0   # add up all n(.,.,s,0)\n",
        "        num = 0         # add up all n(.,.,s,s+3-2*i) depending on k\n",
        "        for seq in n_symbol.keys():\n",
        "            if len(seq) == k and seq[-1] == s:\n",
        "                denom += n_symbol[seq]\n",
        "            elif len(seq) == k + 1 and seq[-2] == s:\n",
        "                if seq[-1] == s:\n",
        "                    num_compl += n_symbol[seq]\n",
        "                elif seq[-1] == s + 3-2*i:\n",
        "                    num += n_symbol[seq]\n",
        "        # populate q_expr\n",
        "        q_expr[(i,t,s)] = [num_compl / denom, num / denom]\n",
        "\n",
        "# Display all q_expr\n",
        "for state in sorted(q_symbol.keys(), key=lambda x: (x[1], x[0], -x[2])):\n",
        "    display(sympy.Eq(q_symbol[state], q_expr[state][1]))\n",
        "    print()\n",
        "    display(sympy.Eq(1 - q_symbol[state], q_expr[state][0]))\n",
        "    print(\"*\"*10)"
      ],
      "execution_count": 12,
      "outputs": [
        {
          "output_type": "display_data",
          "data": {
            "text/latex": "$\\displaystyle q_{1;1}(0) = \\frac{n(1)}{n}$",
            "text/plain": [
              "Eq(q_{1;1}(0), n(1)/n)"
            ]
          },
          "metadata": {
            "tags": []
          }
        },
        {
          "output_type": "stream",
          "text": [
            "\n"
          ],
          "name": "stdout"
        },
        {
          "output_type": "display_data",
          "data": {
            "text/latex": "$\\displaystyle 1 - q_{1;1}(0) = \\frac{n(0)}{n}$",
            "text/plain": [
              "Eq(1 - q_{1;1}(0), n(0)/n)"
            ]
          },
          "metadata": {
            "tags": []
          }
        },
        {
          "output_type": "stream",
          "text": [
            "**********\n"
          ],
          "name": "stdout"
        },
        {
          "output_type": "display_data",
          "data": {
            "text/latex": "$\\displaystyle q_{2;1}(1) = \\frac{n(1;0)}{n(1)}$",
            "text/plain": [
              "Eq(q_{2;1}(1), n(1;0)/n(1))"
            ]
          },
          "metadata": {
            "tags": []
          }
        },
        {
          "output_type": "stream",
          "text": [
            "\n"
          ],
          "name": "stdout"
        },
        {
          "output_type": "display_data",
          "data": {
            "text/latex": "$\\displaystyle 1 - q_{2;1}(1) = \\frac{n(1;1)}{n(1)}$",
            "text/plain": [
              "Eq(1 - q_{2;1}(1), n(1;1)/n(1))"
            ]
          },
          "metadata": {
            "tags": []
          }
        },
        {
          "output_type": "stream",
          "text": [
            "**********\n"
          ],
          "name": "stdout"
        },
        {
          "output_type": "display_data",
          "data": {
            "text/latex": "$\\displaystyle q_{2;1}(0) = \\frac{n(0;-1)}{n(0)}$",
            "text/plain": [
              "Eq(q_{2;1}(0), n(0;-1)/n(0))"
            ]
          },
          "metadata": {
            "tags": []
          }
        },
        {
          "output_type": "stream",
          "text": [
            "\n"
          ],
          "name": "stdout"
        },
        {
          "output_type": "display_data",
          "data": {
            "text/latex": "$\\displaystyle 1 - q_{2;1}(0) = \\frac{n(0;0)}{n(0)}$",
            "text/plain": [
              "Eq(1 - q_{2;1}(0), n(0;0)/n(0))"
            ]
          },
          "metadata": {
            "tags": []
          }
        },
        {
          "output_type": "stream",
          "text": [
            "**********\n"
          ],
          "name": "stdout"
        },
        {
          "output_type": "display_data",
          "data": {
            "text/latex": "$\\displaystyle q_{1;2}(1) = \\frac{n(1;1;2)}{n(1;1)}$",
            "text/plain": [
              "Eq(q_{1;2}(1), n(1;1;2)/n(1;1))"
            ]
          },
          "metadata": {
            "tags": []
          }
        },
        {
          "output_type": "stream",
          "text": [
            "\n"
          ],
          "name": "stdout"
        },
        {
          "output_type": "display_data",
          "data": {
            "text/latex": "$\\displaystyle 1 - q_{1;2}(1) = \\frac{n(1;1;1)}{n(1;1)}$",
            "text/plain": [
              "Eq(1 - q_{1;2}(1), n(1;1;1)/n(1;1))"
            ]
          },
          "metadata": {
            "tags": []
          }
        },
        {
          "output_type": "stream",
          "text": [
            "**********\n"
          ],
          "name": "stdout"
        },
        {
          "output_type": "display_data",
          "data": {
            "text/latex": "$\\displaystyle q_{1;2}(0) = \\frac{n(0;0;1) + n(1;0;1)}{n(0;0) + n(1;0)}$",
            "text/plain": [
              "Eq(q_{1;2}(0), (n(0;0;1) + n(1;0;1))/(n(0;0) + n(1;0)))"
            ]
          },
          "metadata": {
            "tags": []
          }
        },
        {
          "output_type": "stream",
          "text": [
            "\n"
          ],
          "name": "stdout"
        },
        {
          "output_type": "display_data",
          "data": {
            "text/latex": "$\\displaystyle 1 - q_{1;2}(0) = \\frac{n(0;0;0) + n(1;0;0)}{n(0;0) + n(1;0)}$",
            "text/plain": [
              "Eq(1 - q_{1;2}(0), (n(0;0;0) + n(1;0;0))/(n(0;0) + n(1;0)))"
            ]
          },
          "metadata": {
            "tags": []
          }
        },
        {
          "output_type": "stream",
          "text": [
            "**********\n"
          ],
          "name": "stdout"
        },
        {
          "output_type": "display_data",
          "data": {
            "text/latex": "$\\displaystyle q_{1;2}(-1) = \\frac{n(0;-1;0)}{n(0;-1)}$",
            "text/plain": [
              "Eq(q_{1;2}(-1), n(0;-1;0)/n(0;-1))"
            ]
          },
          "metadata": {
            "tags": []
          }
        },
        {
          "output_type": "stream",
          "text": [
            "\n"
          ],
          "name": "stdout"
        },
        {
          "output_type": "display_data",
          "data": {
            "text/latex": "$\\displaystyle 1 - q_{1;2}(-1) = \\frac{n(0;-1;-1)}{n(0;-1)}$",
            "text/plain": [
              "Eq(1 - q_{1;2}(-1), n(0;-1;-1)/n(0;-1))"
            ]
          },
          "metadata": {
            "tags": []
          }
        },
        {
          "output_type": "stream",
          "text": [
            "**********\n"
          ],
          "name": "stdout"
        },
        {
          "output_type": "display_data",
          "data": {
            "text/latex": "$\\displaystyle q_{2;2}(1) = \\frac{n(0;0;1;0) + n(1;0;1;0) + n(1;1;1;0)}{n(0;0;1) + n(1;0;1) + n(1;1;1)}$",
            "text/plain": [
              "Eq(q_{2;2}(1), (n(0;0;1;0) + n(1;0;1;0) + n(1;1;1;0))/(n(0;0;1) + n(1;0;1) + n(1;1;1)))"
            ]
          },
          "metadata": {
            "tags": []
          }
        },
        {
          "output_type": "stream",
          "text": [
            "\n"
          ],
          "name": "stdout"
        },
        {
          "output_type": "display_data",
          "data": {
            "text/latex": "$\\displaystyle 1 - q_{2;2}(1) = \\frac{n(0;0;1;1) + n(1;0;1;1) + n(1;1;1;1)}{n(0;0;1) + n(1;0;1) + n(1;1;1)}$",
            "text/plain": [
              "Eq(1 - q_{2;2}(1), (n(0;0;1;1) + n(1;0;1;1) + n(1;1;1;1))/(n(0;0;1) + n(1;0;1) + n(1;1;1)))"
            ]
          },
          "metadata": {
            "tags": []
          }
        },
        {
          "output_type": "stream",
          "text": [
            "**********\n"
          ],
          "name": "stdout"
        },
        {
          "output_type": "display_data",
          "data": {
            "text/latex": "$\\displaystyle q_{2;2}(0) = \\frac{n(0;-1;0;-1) + n(0;0;0;-1) + n(1;0;0;-1)}{n(0;-1;0) + n(0;0;0) + n(1;0;0)}$",
            "text/plain": [
              "Eq(q_{2;2}(0), (n(0;-1;0;-1) + n(0;0;0;-1) + n(1;0;0;-1))/(n(0;-1;0) + n(0;0;0) + n(1;0;0)))"
            ]
          },
          "metadata": {
            "tags": []
          }
        },
        {
          "output_type": "stream",
          "text": [
            "\n"
          ],
          "name": "stdout"
        },
        {
          "output_type": "display_data",
          "data": {
            "text/latex": "$\\displaystyle 1 - q_{2;2}(0) = \\frac{n(0;-1;0;0) + n(0;0;0;0) + n(1;0;0;0)}{n(0;-1;0) + n(0;0;0) + n(1;0;0)}$",
            "text/plain": [
              "Eq(1 - q_{2;2}(0), (n(0;-1;0;0) + n(0;0;0;0) + n(1;0;0;0))/(n(0;-1;0) + n(0;0;0) + n(1;0;0)))"
            ]
          },
          "metadata": {
            "tags": []
          }
        },
        {
          "output_type": "stream",
          "text": [
            "**********\n"
          ],
          "name": "stdout"
        }
      ]
    },
    {
      "cell_type": "markdown",
      "metadata": {
        "id": "UrIV2hBzMDd2"
      },
      "source": [
        "### Express formula for true probability, Markov probability, and adjustment\n",
        "\n",
        "* **Step 1**: Create symbols for true probability $P(d_i = s_i, d_j = s_j)$, Markovian probability $Pr(d_i = s_i, d_j = s_i)$, and adjustment $A(d_i = s_i, d_j = s_j)$ \n",
        "\n",
        "* **Step 2**: Use $i = 0$ and $s_i = 0$ (i.e. $d_0 = 0$),\n",
        "    * **Step 2.1**: Express the formulas for the true probability\n",
        "    * **Step 2.2**: Express the formulas for the Markovian probability\n",
        "    * **Step 2.3**: Express the formulas for the adjustment\n",
        "\n",
        "    We should have $$P(d_i = s_i, d_j = s_j) = Pr(d_i = s_i, d_j = s_i) + A(d_i = s_i, d_j = s_j)$$\n",
        "\n",
        "* **Step 3**: Express the all formulas for the previous variables"
      ]
    },
    {
      "cell_type": "code",
      "metadata": {
        "colab": {
          "base_uri": "https://localhost:8080/"
        },
        "id": "psiCjkNgIVKO",
        "outputId": "9403e9e7-e270-4390-b28d-22fa97b218f5"
      },
      "source": [
        "# Step 1: Create the probability symbol\n",
        "\n",
        "p_symbol = {}\n",
        "pr_symbol = {}\n",
        "a_symbol = {}\n",
        "\n",
        "for start in nodes:\n",
        "    for end in nodes:\n",
        "        if end[0] < start[0]:   # start = (i, s_i); end = (j, s_j); must have i < j\n",
        "            continue\n",
        "        if end == start or end[0] > start[0]:\n",
        "            i, si = start\n",
        "            j, sj = end\n",
        "            # condition in the format (d_i = s_i, d_j = s_j)\n",
        "            cond = \"(d_{\" + f\"{i}\" + \"}\" + f\"={si};\" + \"d_{\" + f\"{j}\" + \"}\" + f\"={sj})\"\n",
        "            # store the result in key ((i, s_i), (j, s(j))\n",
        "            p_symbol[((i, si), (j, sj))] = sympy.symbols(f\"P{cond}\")\n",
        "            pr_symbol[((i, si), (j, sj))] = sympy.symbols(f\"Pr{cond}\")\n",
        "            a_symbol[((i, si), (j, sj))] = sympy.symbols(f\"A{cond}\")\n",
        "\n",
        "print(f\"The number of different conditions is {len(p_symbol)}.\")"
      ],
      "execution_count": 13,
      "outputs": [
        {
          "output_type": "stream",
          "text": [
            "The number of different conditions is 78.\n"
          ],
          "name": "stdout"
        }
      ]
    },
    {
      "cell_type": "code",
      "metadata": {
        "id": "wQfq5n57iVSC",
        "colab": {
          "base_uri": "https://localhost:8080/"
        },
        "outputId": "5342e547-a6c6-4708-f57a-f71c5733eb6e"
      },
      "source": [
        "# Step 2.0: Get all possible end nodes given the start node d_0 = 0\n",
        "start = (0,0)\n",
        "\n",
        "all_paths = {}\n",
        "for end in sorted(nodes): # use BFS\n",
        "    if end[0] < start[0]:   # start = (i, s_i); end = (j, s_j); must have i < j\n",
        "        continue\n",
        "    if end[0] == start[0]:\n",
        "        if end == start:    # base case: when end = start\n",
        "            all_paths[(start, end)] = [()]\n",
        "        continue\n",
        "    paths = []\n",
        "    for prev in prev_nodes[end]: # recursive case\n",
        "        if prev is None:\n",
        "            continue\n",
        "        for sub_path in all_paths[(start, prev)]:\n",
        "            paths.append(sub_path + end[1:])\n",
        "    all_paths[(start, end)] = paths\n",
        "\n",
        "# The number of end nodes should be the same as the number of all nodes (13)\n",
        "print(f\"The number of ends is {len(all_paths)}.\")\n",
        "# The number of paths/subpaths from the beginning should be 27\n",
        "print(f\"The number of paths starting from d_0 = 0 is {sum(list(map(len, all_paths.values())))}.\")"
      ],
      "execution_count": 14,
      "outputs": [
        {
          "output_type": "stream",
          "text": [
            "The number of ends is 13.\n",
            "The number of paths starting from d_0 = 0 is 27.\n"
          ],
          "name": "stdout"
        }
      ]
    },
    {
      "cell_type": "code",
      "metadata": {
        "id": "_Mdh65FJkgbe",
        "colab": {
          "base_uri": "https://localhost:8080/",
          "height": 695
        },
        "outputId": "0a3cad4f-e6d7-4ea6-cd31-9e6397b14e34"
      },
      "source": [
        "# Step 2.1: Get the formula for the true probability\n",
        "\n",
        "p_expr = {}\n",
        "\n",
        "for cond in all_paths.keys(): # cond = (start, end)\n",
        "    expr = 0\n",
        "    for path in all_paths[cond]: # simply add up n() for all paths\n",
        "        expr += n_symbol[path]\n",
        "    p_expr[cond] = sympy.simplify(expr / n_symbol[()]) # divide by n total\n",
        "\n",
        "for cond in all_paths.keys():\n",
        "    display(sympy.Eq(p_symbol[cond], p_expr[cond]))\n",
        "    print()"
      ],
      "execution_count": 15,
      "outputs": [
        {
          "output_type": "display_data",
          "data": {
            "text/latex": "$\\displaystyle P(d_{0}=0;d_{0}=0) = 1$",
            "text/plain": [
              "Eq(P(d_{0}=0;d_{0}=0), 1)"
            ]
          },
          "metadata": {
            "tags": []
          }
        },
        {
          "output_type": "stream",
          "text": [
            "\n"
          ],
          "name": "stdout"
        },
        {
          "output_type": "display_data",
          "data": {
            "text/latex": "$\\displaystyle P(d_{0}=0;d_{1}=0) = \\frac{n(0)}{n}$",
            "text/plain": [
              "Eq(P(d_{0}=0;d_{1}=0), n(0)/n)"
            ]
          },
          "metadata": {
            "tags": []
          }
        },
        {
          "output_type": "stream",
          "text": [
            "\n"
          ],
          "name": "stdout"
        },
        {
          "output_type": "display_data",
          "data": {
            "text/latex": "$\\displaystyle P(d_{0}=0;d_{1}=1) = \\frac{n(1)}{n}$",
            "text/plain": [
              "Eq(P(d_{0}=0;d_{1}=1), n(1)/n)"
            ]
          },
          "metadata": {
            "tags": []
          }
        },
        {
          "output_type": "stream",
          "text": [
            "\n"
          ],
          "name": "stdout"
        },
        {
          "output_type": "display_data",
          "data": {
            "text/latex": "$\\displaystyle P(d_{0}=0;d_{2}=-1) = \\frac{n(0;-1)}{n}$",
            "text/plain": [
              "Eq(P(d_{0}=0;d_{2}=-1), n(0;-1)/n)"
            ]
          },
          "metadata": {
            "tags": []
          }
        },
        {
          "output_type": "stream",
          "text": [
            "\n"
          ],
          "name": "stdout"
        },
        {
          "output_type": "display_data",
          "data": {
            "text/latex": "$\\displaystyle P(d_{0}=0;d_{2}=0) = \\frac{n(0;0) + n(1;0)}{n}$",
            "text/plain": [
              "Eq(P(d_{0}=0;d_{2}=0), (n(0;0) + n(1;0))/n)"
            ]
          },
          "metadata": {
            "tags": []
          }
        },
        {
          "output_type": "stream",
          "text": [
            "\n"
          ],
          "name": "stdout"
        },
        {
          "output_type": "display_data",
          "data": {
            "text/latex": "$\\displaystyle P(d_{0}=0;d_{2}=1) = \\frac{n(1;1)}{n}$",
            "text/plain": [
              "Eq(P(d_{0}=0;d_{2}=1), n(1;1)/n)"
            ]
          },
          "metadata": {
            "tags": []
          }
        },
        {
          "output_type": "stream",
          "text": [
            "\n"
          ],
          "name": "stdout"
        },
        {
          "output_type": "display_data",
          "data": {
            "text/latex": "$\\displaystyle P(d_{0}=0;d_{3}=-1) = \\frac{n(0;-1;-1)}{n}$",
            "text/plain": [
              "Eq(P(d_{0}=0;d_{3}=-1), n(0;-1;-1)/n)"
            ]
          },
          "metadata": {
            "tags": []
          }
        },
        {
          "output_type": "stream",
          "text": [
            "\n"
          ],
          "name": "stdout"
        },
        {
          "output_type": "display_data",
          "data": {
            "text/latex": "$\\displaystyle P(d_{0}=0;d_{3}=0) = \\frac{n(0;-1;0) + n(0;0;0) + n(1;0;0)}{n}$",
            "text/plain": [
              "Eq(P(d_{0}=0;d_{3}=0), (n(0;-1;0) + n(0;0;0) + n(1;0;0))/n)"
            ]
          },
          "metadata": {
            "tags": []
          }
        },
        {
          "output_type": "stream",
          "text": [
            "\n"
          ],
          "name": "stdout"
        },
        {
          "output_type": "display_data",
          "data": {
            "text/latex": "$\\displaystyle P(d_{0}=0;d_{3}=1) = \\frac{n(0;0;1) + n(1;0;1) + n(1;1;1)}{n}$",
            "text/plain": [
              "Eq(P(d_{0}=0;d_{3}=1), (n(0;0;1) + n(1;0;1) + n(1;1;1))/n)"
            ]
          },
          "metadata": {
            "tags": []
          }
        },
        {
          "output_type": "stream",
          "text": [
            "\n"
          ],
          "name": "stdout"
        },
        {
          "output_type": "display_data",
          "data": {
            "text/latex": "$\\displaystyle P(d_{0}=0;d_{3}=2) = \\frac{n(1;1;2)}{n}$",
            "text/plain": [
              "Eq(P(d_{0}=0;d_{3}=2), n(1;1;2)/n)"
            ]
          },
          "metadata": {
            "tags": []
          }
        },
        {
          "output_type": "stream",
          "text": [
            "\n"
          ],
          "name": "stdout"
        },
        {
          "output_type": "display_data",
          "data": {
            "text/latex": "$\\displaystyle P(d_{0}=0;d_{4}=-1) = \\frac{n(0;-1;0;-1) + n(0;0;0;-1) + n(1;0;0;-1)}{n}$",
            "text/plain": [
              "Eq(P(d_{0}=0;d_{4}=-1), (n(0;-1;0;-1) + n(0;0;0;-1) + n(1;0;0;-1))/n)"
            ]
          },
          "metadata": {
            "tags": []
          }
        },
        {
          "output_type": "stream",
          "text": [
            "\n"
          ],
          "name": "stdout"
        },
        {
          "output_type": "display_data",
          "data": {
            "text/latex": "$\\displaystyle P(d_{0}=0;d_{4}=0) = \\frac{n(0;-1;0;0) + n(0;0;0;0) + n(0;0;1;0) + n(1;0;0;0) + n(1;0;1;0) + n(1;1;1;0)}{n}$",
            "text/plain": [
              "Eq(P(d_{0}=0;d_{4}=0), (n(0;-1;0;0) + n(0;0;0;0) + n(0;0;1;0) + n(1;0;0;0) + n(1;0;1;0) + n(1;1;1;0))/n)"
            ]
          },
          "metadata": {
            "tags": []
          }
        },
        {
          "output_type": "stream",
          "text": [
            "\n"
          ],
          "name": "stdout"
        },
        {
          "output_type": "display_data",
          "data": {
            "text/latex": "$\\displaystyle P(d_{0}=0;d_{4}=1) = \\frac{n(0;0;1;1) + n(1;0;1;1) + n(1;1;1;1)}{n}$",
            "text/plain": [
              "Eq(P(d_{0}=0;d_{4}=1), (n(0;0;1;1) + n(1;0;1;1) + n(1;1;1;1))/n)"
            ]
          },
          "metadata": {
            "tags": []
          }
        },
        {
          "output_type": "stream",
          "text": [
            "\n"
          ],
          "name": "stdout"
        }
      ]
    },
    {
      "cell_type": "code",
      "metadata": {
        "colab": {
          "base_uri": "https://localhost:8080/",
          "height": 695
        },
        "id": "I6NvssBITV_n",
        "outputId": "111e71ef-59fc-4ce7-8075-ea16bb059c6e"
      },
      "source": [
        "# Step 2.2: Get the formula for the Markov probability\n",
        "\n",
        "pr_expr = {}\n",
        "\n",
        "for end in sorted(nodes): # use BFS\n",
        "    if end[0] < start[0]:   # start = (i, s_i); end = (j, s_j); must have i < j\n",
        "        continue\n",
        "    if end[0] == start[0]:\n",
        "        if end == start:    # base case: when end = start\n",
        "            pr_expr[(start, end)] = 1\n",
        "        continue\n",
        "    expr = 0\n",
        "    for prev in prev_nodes[end]:\n",
        "        if prev is None:\n",
        "            continue\n",
        "        k, s = prev\n",
        "        i, t = s2r(k+1)\n",
        "        # Using Markov transition probability\n",
        "        expr += pr_expr[(start, prev)] * q_expr[(i,t,s)][end[1] != s]\n",
        "    pr_expr[(start, end)] = sympy.simplify(expr)\n",
        "\n",
        "for cond in all_paths.keys():\n",
        "    display(sympy.Eq(pr_symbol[cond], pr_expr[cond]))\n",
        "    print()"
      ],
      "execution_count": 16,
      "outputs": [
        {
          "output_type": "display_data",
          "data": {
            "text/latex": "$\\displaystyle Pr(d_{0}=0;d_{0}=0) = 1$",
            "text/plain": [
              "Eq(Pr(d_{0}=0;d_{0}=0), 1)"
            ]
          },
          "metadata": {
            "tags": []
          }
        },
        {
          "output_type": "stream",
          "text": [
            "\n"
          ],
          "name": "stdout"
        },
        {
          "output_type": "display_data",
          "data": {
            "text/latex": "$\\displaystyle Pr(d_{0}=0;d_{1}=0) = \\frac{n(0)}{n}$",
            "text/plain": [
              "Eq(Pr(d_{0}=0;d_{1}=0), n(0)/n)"
            ]
          },
          "metadata": {
            "tags": []
          }
        },
        {
          "output_type": "stream",
          "text": [
            "\n"
          ],
          "name": "stdout"
        },
        {
          "output_type": "display_data",
          "data": {
            "text/latex": "$\\displaystyle Pr(d_{0}=0;d_{1}=1) = \\frac{n(1)}{n}$",
            "text/plain": [
              "Eq(Pr(d_{0}=0;d_{1}=1), n(1)/n)"
            ]
          },
          "metadata": {
            "tags": []
          }
        },
        {
          "output_type": "stream",
          "text": [
            "\n"
          ],
          "name": "stdout"
        },
        {
          "output_type": "display_data",
          "data": {
            "text/latex": "$\\displaystyle Pr(d_{0}=0;d_{2}=-1) = \\frac{n(0;-1)}{n}$",
            "text/plain": [
              "Eq(Pr(d_{0}=0;d_{2}=-1), n(0;-1)/n)"
            ]
          },
          "metadata": {
            "tags": []
          }
        },
        {
          "output_type": "stream",
          "text": [
            "\n"
          ],
          "name": "stdout"
        },
        {
          "output_type": "display_data",
          "data": {
            "text/latex": "$\\displaystyle Pr(d_{0}=0;d_{2}=0) = \\frac{n(0;0) + n(1;0)}{n}$",
            "text/plain": [
              "Eq(Pr(d_{0}=0;d_{2}=0), (n(0;0) + n(1;0))/n)"
            ]
          },
          "metadata": {
            "tags": []
          }
        },
        {
          "output_type": "stream",
          "text": [
            "\n"
          ],
          "name": "stdout"
        },
        {
          "output_type": "display_data",
          "data": {
            "text/latex": "$\\displaystyle Pr(d_{0}=0;d_{2}=1) = \\frac{n(1;1)}{n}$",
            "text/plain": [
              "Eq(Pr(d_{0}=0;d_{2}=1), n(1;1)/n)"
            ]
          },
          "metadata": {
            "tags": []
          }
        },
        {
          "output_type": "stream",
          "text": [
            "\n"
          ],
          "name": "stdout"
        },
        {
          "output_type": "display_data",
          "data": {
            "text/latex": "$\\displaystyle Pr(d_{0}=0;d_{3}=-1) = \\frac{n(0;-1;-1)}{n}$",
            "text/plain": [
              "Eq(Pr(d_{0}=0;d_{3}=-1), n(0;-1;-1)/n)"
            ]
          },
          "metadata": {
            "tags": []
          }
        },
        {
          "output_type": "stream",
          "text": [
            "\n"
          ],
          "name": "stdout"
        },
        {
          "output_type": "display_data",
          "data": {
            "text/latex": "$\\displaystyle Pr(d_{0}=0;d_{3}=0) = \\frac{n(0;-1;0) + n(0;0;0) + n(1;0;0)}{n}$",
            "text/plain": [
              "Eq(Pr(d_{0}=0;d_{3}=0), (n(0;-1;0) + n(0;0;0) + n(1;0;0))/n)"
            ]
          },
          "metadata": {
            "tags": []
          }
        },
        {
          "output_type": "stream",
          "text": [
            "\n"
          ],
          "name": "stdout"
        },
        {
          "output_type": "display_data",
          "data": {
            "text/latex": "$\\displaystyle Pr(d_{0}=0;d_{3}=1) = \\frac{n(0;0;1) + n(1;0;1) + n(1;1;1)}{n}$",
            "text/plain": [
              "Eq(Pr(d_{0}=0;d_{3}=1), (n(0;0;1) + n(1;0;1) + n(1;1;1))/n)"
            ]
          },
          "metadata": {
            "tags": []
          }
        },
        {
          "output_type": "stream",
          "text": [
            "\n"
          ],
          "name": "stdout"
        },
        {
          "output_type": "display_data",
          "data": {
            "text/latex": "$\\displaystyle Pr(d_{0}=0;d_{3}=2) = \\frac{n(1;1;2)}{n}$",
            "text/plain": [
              "Eq(Pr(d_{0}=0;d_{3}=2), n(1;1;2)/n)"
            ]
          },
          "metadata": {
            "tags": []
          }
        },
        {
          "output_type": "stream",
          "text": [
            "\n"
          ],
          "name": "stdout"
        },
        {
          "output_type": "display_data",
          "data": {
            "text/latex": "$\\displaystyle Pr(d_{0}=0;d_{4}=-1) = \\frac{n(0;-1;0;-1) + n(0;0;0;-1) + n(1;0;0;-1)}{n}$",
            "text/plain": [
              "Eq(Pr(d_{0}=0;d_{4}=-1), (n(0;-1;0;-1) + n(0;0;0;-1) + n(1;0;0;-1))/n)"
            ]
          },
          "metadata": {
            "tags": []
          }
        },
        {
          "output_type": "stream",
          "text": [
            "\n"
          ],
          "name": "stdout"
        },
        {
          "output_type": "display_data",
          "data": {
            "text/latex": "$\\displaystyle Pr(d_{0}=0;d_{4}=0) = \\frac{n(0;-1;0;0) + n(0;0;0;0) + n(0;0;1;0) + n(1;0;0;0) + n(1;0;1;0) + n(1;1;1;0)}{n}$",
            "text/plain": [
              "Eq(Pr(d_{0}=0;d_{4}=0), (n(0;-1;0;0) + n(0;0;0;0) + n(0;0;1;0) + n(1;0;0;0) + n(1;0;1;0) + n(1;1;1;0))/n)"
            ]
          },
          "metadata": {
            "tags": []
          }
        },
        {
          "output_type": "stream",
          "text": [
            "\n"
          ],
          "name": "stdout"
        },
        {
          "output_type": "display_data",
          "data": {
            "text/latex": "$\\displaystyle Pr(d_{0}=0;d_{4}=1) = \\frac{n(0;0;1;1) + n(1;0;1;1) + n(1;1;1;1)}{n}$",
            "text/plain": [
              "Eq(Pr(d_{0}=0;d_{4}=1), (n(0;0;1;1) + n(1;0;1;1) + n(1;1;1;1))/n)"
            ]
          },
          "metadata": {
            "tags": []
          }
        },
        {
          "output_type": "stream",
          "text": [
            "\n"
          ],
          "name": "stdout"
        }
      ]
    },
    {
      "cell_type": "code",
      "metadata": {
        "colab": {
          "base_uri": "https://localhost:8080/",
          "height": 519
        },
        "id": "yV837QHyXQu2",
        "outputId": "840ae92d-b6fd-4912-c32d-451a016a064f"
      },
      "source": [
        "# Step 2.3: Get the formula for the adjustment\n",
        "\n",
        "a_expr = {}\n",
        "for cond in all_paths.keys():\n",
        "    a_expr[cond] = sympy.simplify(p_expr[cond] - pr_expr[cond])\n",
        "\n",
        "for cond in all_paths.keys():\n",
        "    display(sympy.Eq(a_symbol[cond], a_expr[cond]))\n",
        "    print()"
      ],
      "execution_count": 17,
      "outputs": [
        {
          "output_type": "display_data",
          "data": {
            "text/latex": "$\\displaystyle A(d_{0}=0;d_{0}=0) = 0$",
            "text/plain": [
              "Eq(A(d_{0}=0;d_{0}=0), 0)"
            ]
          },
          "metadata": {
            "tags": []
          }
        },
        {
          "output_type": "stream",
          "text": [
            "\n"
          ],
          "name": "stdout"
        },
        {
          "output_type": "display_data",
          "data": {
            "text/latex": "$\\displaystyle A(d_{0}=0;d_{1}=0) = 0$",
            "text/plain": [
              "Eq(A(d_{0}=0;d_{1}=0), 0)"
            ]
          },
          "metadata": {
            "tags": []
          }
        },
        {
          "output_type": "stream",
          "text": [
            "\n"
          ],
          "name": "stdout"
        },
        {
          "output_type": "display_data",
          "data": {
            "text/latex": "$\\displaystyle A(d_{0}=0;d_{1}=1) = 0$",
            "text/plain": [
              "Eq(A(d_{0}=0;d_{1}=1), 0)"
            ]
          },
          "metadata": {
            "tags": []
          }
        },
        {
          "output_type": "stream",
          "text": [
            "\n"
          ],
          "name": "stdout"
        },
        {
          "output_type": "display_data",
          "data": {
            "text/latex": "$\\displaystyle A(d_{0}=0;d_{2}=-1) = 0$",
            "text/plain": [
              "Eq(A(d_{0}=0;d_{2}=-1), 0)"
            ]
          },
          "metadata": {
            "tags": []
          }
        },
        {
          "output_type": "stream",
          "text": [
            "\n"
          ],
          "name": "stdout"
        },
        {
          "output_type": "display_data",
          "data": {
            "text/latex": "$\\displaystyle A(d_{0}=0;d_{2}=0) = 0$",
            "text/plain": [
              "Eq(A(d_{0}=0;d_{2}=0), 0)"
            ]
          },
          "metadata": {
            "tags": []
          }
        },
        {
          "output_type": "stream",
          "text": [
            "\n"
          ],
          "name": "stdout"
        },
        {
          "output_type": "display_data",
          "data": {
            "text/latex": "$\\displaystyle A(d_{0}=0;d_{2}=1) = 0$",
            "text/plain": [
              "Eq(A(d_{0}=0;d_{2}=1), 0)"
            ]
          },
          "metadata": {
            "tags": []
          }
        },
        {
          "output_type": "stream",
          "text": [
            "\n"
          ],
          "name": "stdout"
        },
        {
          "output_type": "display_data",
          "data": {
            "text/latex": "$\\displaystyle A(d_{0}=0;d_{3}=-1) = 0$",
            "text/plain": [
              "Eq(A(d_{0}=0;d_{3}=-1), 0)"
            ]
          },
          "metadata": {
            "tags": []
          }
        },
        {
          "output_type": "stream",
          "text": [
            "\n"
          ],
          "name": "stdout"
        },
        {
          "output_type": "display_data",
          "data": {
            "text/latex": "$\\displaystyle A(d_{0}=0;d_{3}=0) = 0$",
            "text/plain": [
              "Eq(A(d_{0}=0;d_{3}=0), 0)"
            ]
          },
          "metadata": {
            "tags": []
          }
        },
        {
          "output_type": "stream",
          "text": [
            "\n"
          ],
          "name": "stdout"
        },
        {
          "output_type": "display_data",
          "data": {
            "text/latex": "$\\displaystyle A(d_{0}=0;d_{3}=1) = 0$",
            "text/plain": [
              "Eq(A(d_{0}=0;d_{3}=1), 0)"
            ]
          },
          "metadata": {
            "tags": []
          }
        },
        {
          "output_type": "stream",
          "text": [
            "\n"
          ],
          "name": "stdout"
        },
        {
          "output_type": "display_data",
          "data": {
            "text/latex": "$\\displaystyle A(d_{0}=0;d_{3}=2) = 0$",
            "text/plain": [
              "Eq(A(d_{0}=0;d_{3}=2), 0)"
            ]
          },
          "metadata": {
            "tags": []
          }
        },
        {
          "output_type": "stream",
          "text": [
            "\n"
          ],
          "name": "stdout"
        },
        {
          "output_type": "display_data",
          "data": {
            "text/latex": "$\\displaystyle A(d_{0}=0;d_{4}=-1) = 0$",
            "text/plain": [
              "Eq(A(d_{0}=0;d_{4}=-1), 0)"
            ]
          },
          "metadata": {
            "tags": []
          }
        },
        {
          "output_type": "stream",
          "text": [
            "\n"
          ],
          "name": "stdout"
        },
        {
          "output_type": "display_data",
          "data": {
            "text/latex": "$\\displaystyle A(d_{0}=0;d_{4}=0) = 0$",
            "text/plain": [
              "Eq(A(d_{0}=0;d_{4}=0), 0)"
            ]
          },
          "metadata": {
            "tags": []
          }
        },
        {
          "output_type": "stream",
          "text": [
            "\n"
          ],
          "name": "stdout"
        },
        {
          "output_type": "display_data",
          "data": {
            "text/latex": "$\\displaystyle A(d_{0}=0;d_{4}=1) = 0$",
            "text/plain": [
              "Eq(A(d_{0}=0;d_{4}=1), 0)"
            ]
          },
          "metadata": {
            "tags": []
          }
        },
        {
          "output_type": "stream",
          "text": [
            "\n"
          ],
          "name": "stdout"
        }
      ]
    },
    {
      "cell_type": "code",
      "metadata": {
        "id": "COoouxy3Yc_G"
      },
      "source": [
        "# Step 3: Repeat the same process for all other start node\n",
        "\n",
        "for start in nodes:\n",
        "    \n",
        "    # all paths\n",
        "    cond_paths = {}\n",
        "    for end in sorted(nodes): # use BFS\n",
        "        if end[0] < start[0]:  \n",
        "            continue\n",
        "        if end[0] == start[0]:\n",
        "            if end == start:    \n",
        "                cond_paths[(start, end)] = [()]\n",
        "            continue\n",
        "        paths = []\n",
        "        for prev in prev_nodes[end]: \n",
        "            if prev is None:\n",
        "                continue\n",
        "            if (start, prev) not in cond_paths.keys(): # new case: when prev doesn't go back to start\n",
        "                continue\n",
        "            for sub_path in cond_paths[(start, prev)]:\n",
        "                paths.append(sub_path + end[1:])\n",
        "        cond_paths[(start, end)] = paths\n",
        "\n",
        "    # new: add these paths to the cumulative all_paths\n",
        "    for cond in cond_paths:\n",
        "        all_paths[cond] = cond_paths[cond]\n",
        "    \n",
        "    # true probability\n",
        "    for cond in cond_paths.keys(): \n",
        "        num = 0\n",
        "        denom = 0 # new case: need a formula for denominator\n",
        "        for path in cond_paths[cond]: # simply add up n() for all paths\n",
        "            for prev_path in all_paths[((0,0), start)]: # new case: need earlier path\n",
        "                num += n_symbol[prev_path + path]\n",
        "        for prev_path in all_paths[((0,0), start)]:\n",
        "            denom += n_symbol[prev_path]\n",
        "        p_expr[cond] = sympy.simplify(num / denom) \n",
        "\n",
        "    # Markov probability\n",
        "    for end in sorted(nodes): # use BFS\n",
        "        if end[0] < start[0]:   \n",
        "            continue\n",
        "        if end[0] == start[0]:\n",
        "            if end == start:    \n",
        "                pr_expr[(start, end)] = 1\n",
        "            continue\n",
        "        expr = 0\n",
        "        for prev in prev_nodes[end]:\n",
        "            if prev is None:\n",
        "                continue\n",
        "            if (start, prev) not in cond_paths.keys(): # new case: when prev doesn't go back to start\n",
        "                continue\n",
        "            k, s = prev\n",
        "            i, t = s2r(k+1)\n",
        "            # Using Markov transition probability\n",
        "            expr += pr_expr[(start, prev)] * q_expr[(i,t,s)][end[1] != s]\n",
        "        pr_expr[(start, end)] = sympy.simplify(expr)\n",
        "\n",
        "    # adjustment\n",
        "    for cond in cond_paths.keys():\n",
        "        a_expr[cond] = sympy.simplify(p_expr[cond] - pr_expr[cond])\n",
        "\n",
        "# Take 10 seconds"
      ],
      "execution_count": 18,
      "outputs": []
    },
    {
      "cell_type": "code",
      "metadata": {
        "colab": {
          "base_uri": "https://localhost:8080/",
          "height": 200
        },
        "id": "2QC_ZXs5ZUT3",
        "outputId": "35af750d-b715-459c-e9a0-d5ee2afa212c"
      },
      "source": [
        "# Step 3': check the result of Step 3\n",
        "\n",
        "# If p_expr[cond] = 0 then pr_expr[cond] = 0 (and also a_expr[cond] = 0)\n",
        "# Nothing should be printed\n",
        "for cond in p_expr.keys():\n",
        "    if p_expr[cond] == 0:\n",
        "        if pr_expr[cond] != 0:\n",
        "            display(pr_expr[cond])\n",
        "\n",
        "# Print out an example formula\n",
        "cond = ((2, 0), (4, 0))\n",
        "display(sympy.Eq(p_symbol[cond], p_expr[cond]))\n",
        "display(sympy.Eq(pr_symbol[cond], pr_expr[cond]))\n",
        "display(sympy.Eq(a_symbol[cond], a_expr[cond]))"
      ],
      "execution_count": 19,
      "outputs": [
        {
          "output_type": "display_data",
          "data": {
            "text/latex": "$\\displaystyle P(d_{2}=0;d_{4}=0) = \\frac{n(0;0;0;0) + n(0;0;1;0) + n(1;0;0;0) + n(1;0;1;0)}{n(0;0) + n(1;0)}$",
            "text/plain": [
              "Eq(P(d_{2}=0;d_{4}=0), (n(0;0;0;0) + n(0;0;1;0) + n(1;0;0;0) + n(1;0;1;0))/(n(0;0) + n(1;0)))"
            ]
          },
          "metadata": {
            "tags": []
          }
        },
        {
          "output_type": "display_data",
          "data": {
            "text/latex": "$\\displaystyle Pr(d_{2}=0;d_{4}=0) = \\frac{\\left(n(0;0;0) + n(1;0;0)\\right) \\left(n(0;-1;0;0) + n(0;0;0;0) + n(1;0;0;0)\\right) \\left(n(0;0;1) + n(1;0;1) + n(1;1;1)\\right) + \\left(n(0;0;1) + n(1;0;1)\\right) \\left(n(0;-1;0) + n(0;0;0) + n(1;0;0)\\right) \\left(n(0;0;1;0) + n(1;0;1;0) + n(1;1;1;0)\\right)}{\\left(n(0;0) + n(1;0)\\right) \\left(n(0;-1;0) + n(0;0;0) + n(1;0;0)\\right) \\left(n(0;0;1) + n(1;0;1) + n(1;1;1)\\right)}$",
            "text/plain": [
              "Eq(Pr(d_{2}=0;d_{4}=0), ((n(0;0;0) + n(1;0;0))*(n(0;-1;0;0) + n(0;0;0;0) + n(1;0;0;0))*(n(0;0;1) + n(1;0;1) + n(1;1;1)) + (n(0;0;1) + n(1;0;1))*(n(0;-1;0) + n(0;0;0) + n(1;0;0))*(n(0;0;1;0) + n(1;0;1;0) + n(1;1;1;0)))/((n(0;0) + n(1;0))*(n(0;-1;0) + n(0;0;0) + n(1;0;0))*(n(0;0;1) + n(1;0;1) + n(1;1;1))))"
            ]
          },
          "metadata": {
            "tags": []
          }
        },
        {
          "output_type": "display_data",
          "data": {
            "text/latex": "$\\displaystyle A(d_{2}=0;d_{4}=0) = \\frac{- \\left(n(0;0;0) + n(1;0;0)\\right) \\left(n(0;-1;0;0) + n(0;0;0;0) + n(1;0;0;0)\\right) \\left(n(0;0;1) + n(1;0;1) + n(1;1;1)\\right) - \\left(n(0;0;1) + n(1;0;1)\\right) \\left(n(0;-1;0) + n(0;0;0) + n(1;0;0)\\right) \\left(n(0;0;1;0) + n(1;0;1;0) + n(1;1;1;0)\\right) + \\left(n(0;-1;0) + n(0;0;0) + n(1;0;0)\\right) \\left(n(0;0;1) + n(1;0;1) + n(1;1;1)\\right) \\left(n(0;0;0;0) + n(0;0;1;0) + n(1;0;0;0) + n(1;0;1;0)\\right)}{\\left(n(0;0) + n(1;0)\\right) \\left(n(0;-1;0) + n(0;0;0) + n(1;0;0)\\right) \\left(n(0;0;1) + n(1;0;1) + n(1;1;1)\\right)}$",
            "text/plain": [
              "Eq(A(d_{2}=0;d_{4}=0), (-(n(0;0;0) + n(1;0;0))*(n(0;-1;0;0) + n(0;0;0;0) + n(1;0;0;0))*(n(0;0;1) + n(1;0;1) + n(1;1;1)) - (n(0;0;1) + n(1;0;1))*(n(0;-1;0) + n(0;0;0) + n(1;0;0))*(n(0;0;1;0) + n(1;0;1;0) + n(1;1;1;0)) + (n(0;-1;0) + n(0;0;0) + n(1;0;0))*(n(0;0;1) + n(1;0;1) + n(1;1;1))*(n(0;0;0;0) + n(0;0;1;0) + n(1;0;0;0) + n(1;0;1;0)))/((n(0;0) + n(1;0))*(n(0;-1;0) + n(0;0;0) + n(1;0;0))*(n(0;0;1) + n(1;0;1) + n(1;1;1))))"
            ]
          },
          "metadata": {
            "tags": []
          }
        }
      ]
    },
    {
      "cell_type": "markdown",
      "metadata": {
        "id": "QRy57mPgd4Wa"
      },
      "source": [
        "### Analyse the adjustment"
      ]
    },
    {
      "cell_type": "code",
      "metadata": {
        "colab": {
          "base_uri": "https://localhost:8080/",
          "height": 1000
        },
        "id": "RdG-xA3ncYI6",
        "outputId": "f567c5b9-dbb1-4be5-fd40-58ced4ad94e0"
      },
      "source": [
        "# Check 1: Adjustment equal 0 if and only if\n",
        "# (i) the path start from (i, s_i) = (0, 0)\n",
        "# (ii) their is an unique path to get from (i, s_i) to (j, s_j)\n",
        "for cond in a_expr.keys():\n",
        "    if p_expr[cond] != 0 and a_expr[cond] == 0:\n",
        "        display(sympy.Eq(a_symbol[cond], a_expr[cond]))\n",
        "        print()\n",
        "        start, end = cond\n",
        "        if start == (0,0):\n",
        "            print(f\"This path starts from (0,0)\")\n",
        "        else:\n",
        "            if len(all_paths[cond]) == 1:\n",
        "                print(f\"There is an unique path from {start} to {end}\")\n",
        "        print(\"*\"*10)"
      ],
      "execution_count": 20,
      "outputs": [
        {
          "output_type": "display_data",
          "data": {
            "text/latex": "$\\displaystyle A(d_{0}=0;d_{0}=0) = 0$",
            "text/plain": [
              "Eq(A(d_{0}=0;d_{0}=0), 0)"
            ]
          },
          "metadata": {
            "tags": []
          }
        },
        {
          "output_type": "stream",
          "text": [
            "\n",
            "This path starts from (0,0)\n",
            "**********\n"
          ],
          "name": "stdout"
        },
        {
          "output_type": "display_data",
          "data": {
            "text/latex": "$\\displaystyle A(d_{0}=0;d_{1}=0) = 0$",
            "text/plain": [
              "Eq(A(d_{0}=0;d_{1}=0), 0)"
            ]
          },
          "metadata": {
            "tags": []
          }
        },
        {
          "output_type": "stream",
          "text": [
            "\n",
            "This path starts from (0,0)\n",
            "**********\n"
          ],
          "name": "stdout"
        },
        {
          "output_type": "display_data",
          "data": {
            "text/latex": "$\\displaystyle A(d_{0}=0;d_{1}=1) = 0$",
            "text/plain": [
              "Eq(A(d_{0}=0;d_{1}=1), 0)"
            ]
          },
          "metadata": {
            "tags": []
          }
        },
        {
          "output_type": "stream",
          "text": [
            "\n",
            "This path starts from (0,0)\n",
            "**********\n"
          ],
          "name": "stdout"
        },
        {
          "output_type": "display_data",
          "data": {
            "text/latex": "$\\displaystyle A(d_{0}=0;d_{2}=-1) = 0$",
            "text/plain": [
              "Eq(A(d_{0}=0;d_{2}=-1), 0)"
            ]
          },
          "metadata": {
            "tags": []
          }
        },
        {
          "output_type": "stream",
          "text": [
            "\n",
            "This path starts from (0,0)\n",
            "**********\n"
          ],
          "name": "stdout"
        },
        {
          "output_type": "display_data",
          "data": {
            "text/latex": "$\\displaystyle A(d_{0}=0;d_{2}=0) = 0$",
            "text/plain": [
              "Eq(A(d_{0}=0;d_{2}=0), 0)"
            ]
          },
          "metadata": {
            "tags": []
          }
        },
        {
          "output_type": "stream",
          "text": [
            "\n",
            "This path starts from (0,0)\n",
            "**********\n"
          ],
          "name": "stdout"
        },
        {
          "output_type": "display_data",
          "data": {
            "text/latex": "$\\displaystyle A(d_{0}=0;d_{2}=1) = 0$",
            "text/plain": [
              "Eq(A(d_{0}=0;d_{2}=1), 0)"
            ]
          },
          "metadata": {
            "tags": []
          }
        },
        {
          "output_type": "stream",
          "text": [
            "\n",
            "This path starts from (0,0)\n",
            "**********\n"
          ],
          "name": "stdout"
        },
        {
          "output_type": "display_data",
          "data": {
            "text/latex": "$\\displaystyle A(d_{0}=0;d_{3}=-1) = 0$",
            "text/plain": [
              "Eq(A(d_{0}=0;d_{3}=-1), 0)"
            ]
          },
          "metadata": {
            "tags": []
          }
        },
        {
          "output_type": "stream",
          "text": [
            "\n",
            "This path starts from (0,0)\n",
            "**********\n"
          ],
          "name": "stdout"
        },
        {
          "output_type": "display_data",
          "data": {
            "text/latex": "$\\displaystyle A(d_{0}=0;d_{3}=0) = 0$",
            "text/plain": [
              "Eq(A(d_{0}=0;d_{3}=0), 0)"
            ]
          },
          "metadata": {
            "tags": []
          }
        },
        {
          "output_type": "stream",
          "text": [
            "\n",
            "This path starts from (0,0)\n",
            "**********\n"
          ],
          "name": "stdout"
        },
        {
          "output_type": "display_data",
          "data": {
            "text/latex": "$\\displaystyle A(d_{0}=0;d_{3}=1) = 0$",
            "text/plain": [
              "Eq(A(d_{0}=0;d_{3}=1), 0)"
            ]
          },
          "metadata": {
            "tags": []
          }
        },
        {
          "output_type": "stream",
          "text": [
            "\n",
            "This path starts from (0,0)\n",
            "**********\n"
          ],
          "name": "stdout"
        },
        {
          "output_type": "display_data",
          "data": {
            "text/latex": "$\\displaystyle A(d_{0}=0;d_{3}=2) = 0$",
            "text/plain": [
              "Eq(A(d_{0}=0;d_{3}=2), 0)"
            ]
          },
          "metadata": {
            "tags": []
          }
        },
        {
          "output_type": "stream",
          "text": [
            "\n",
            "This path starts from (0,0)\n",
            "**********\n"
          ],
          "name": "stdout"
        },
        {
          "output_type": "display_data",
          "data": {
            "text/latex": "$\\displaystyle A(d_{0}=0;d_{4}=-1) = 0$",
            "text/plain": [
              "Eq(A(d_{0}=0;d_{4}=-1), 0)"
            ]
          },
          "metadata": {
            "tags": []
          }
        },
        {
          "output_type": "stream",
          "text": [
            "\n",
            "This path starts from (0,0)\n",
            "**********\n"
          ],
          "name": "stdout"
        },
        {
          "output_type": "display_data",
          "data": {
            "text/latex": "$\\displaystyle A(d_{0}=0;d_{4}=0) = 0$",
            "text/plain": [
              "Eq(A(d_{0}=0;d_{4}=0), 0)"
            ]
          },
          "metadata": {
            "tags": []
          }
        },
        {
          "output_type": "stream",
          "text": [
            "\n",
            "This path starts from (0,0)\n",
            "**********\n"
          ],
          "name": "stdout"
        },
        {
          "output_type": "display_data",
          "data": {
            "text/latex": "$\\displaystyle A(d_{0}=0;d_{4}=1) = 0$",
            "text/plain": [
              "Eq(A(d_{0}=0;d_{4}=1), 0)"
            ]
          },
          "metadata": {
            "tags": []
          }
        },
        {
          "output_type": "stream",
          "text": [
            "\n",
            "This path starts from (0,0)\n",
            "**********\n"
          ],
          "name": "stdout"
        },
        {
          "output_type": "display_data",
          "data": {
            "text/latex": "$\\displaystyle A(d_{3}=2;d_{3}=2) = 0$",
            "text/plain": [
              "Eq(A(d_{3}=2;d_{3}=2), 0)"
            ]
          },
          "metadata": {
            "tags": []
          }
        },
        {
          "output_type": "stream",
          "text": [
            "\n",
            "There is an unique path from (3, 2) to (3, 2)\n",
            "**********\n"
          ],
          "name": "stdout"
        },
        {
          "output_type": "display_data",
          "data": {
            "text/latex": "$\\displaystyle A(d_{4}=-1;d_{4}=-1) = 0$",
            "text/plain": [
              "Eq(A(d_{4}=-1;d_{4}=-1), 0)"
            ]
          },
          "metadata": {
            "tags": []
          }
        },
        {
          "output_type": "stream",
          "text": [
            "\n",
            "There is an unique path from (4, -1) to (4, -1)\n",
            "**********\n"
          ],
          "name": "stdout"
        },
        {
          "output_type": "display_data",
          "data": {
            "text/latex": "$\\displaystyle A(d_{3}=0;d_{3}=0) = 0$",
            "text/plain": [
              "Eq(A(d_{3}=0;d_{3}=0), 0)"
            ]
          },
          "metadata": {
            "tags": []
          }
        },
        {
          "output_type": "stream",
          "text": [
            "\n",
            "There is an unique path from (3, 0) to (3, 0)\n",
            "**********\n"
          ],
          "name": "stdout"
        },
        {
          "output_type": "display_data",
          "data": {
            "text/latex": "$\\displaystyle A(d_{3}=0;d_{4}=-1) = 0$",
            "text/plain": [
              "Eq(A(d_{3}=0;d_{4}=-1), 0)"
            ]
          },
          "metadata": {
            "tags": []
          }
        },
        {
          "output_type": "stream",
          "text": [
            "\n",
            "There is an unique path from (3, 0) to (4, -1)\n",
            "**********\n"
          ],
          "name": "stdout"
        },
        {
          "output_type": "display_data",
          "data": {
            "text/latex": "$\\displaystyle A(d_{3}=0;d_{4}=0) = 0$",
            "text/plain": [
              "Eq(A(d_{3}=0;d_{4}=0), 0)"
            ]
          },
          "metadata": {
            "tags": []
          }
        },
        {
          "output_type": "stream",
          "text": [
            "\n",
            "There is an unique path from (3, 0) to (4, 0)\n",
            "**********\n"
          ],
          "name": "stdout"
        },
        {
          "output_type": "display_data",
          "data": {
            "text/latex": "$\\displaystyle A(d_{3}=1;d_{3}=1) = 0$",
            "text/plain": [
              "Eq(A(d_{3}=1;d_{3}=1), 0)"
            ]
          },
          "metadata": {
            "tags": []
          }
        },
        {
          "output_type": "stream",
          "text": [
            "\n",
            "There is an unique path from (3, 1) to (3, 1)\n",
            "**********\n"
          ],
          "name": "stdout"
        },
        {
          "output_type": "display_data",
          "data": {
            "text/latex": "$\\displaystyle A(d_{3}=1;d_{4}=0) = 0$",
            "text/plain": [
              "Eq(A(d_{3}=1;d_{4}=0), 0)"
            ]
          },
          "metadata": {
            "tags": []
          }
        },
        {
          "output_type": "stream",
          "text": [
            "\n",
            "There is an unique path from (3, 1) to (4, 0)\n",
            "**********\n"
          ],
          "name": "stdout"
        },
        {
          "output_type": "display_data",
          "data": {
            "text/latex": "$\\displaystyle A(d_{3}=1;d_{4}=1) = 0$",
            "text/plain": [
              "Eq(A(d_{3}=1;d_{4}=1), 0)"
            ]
          },
          "metadata": {
            "tags": []
          }
        },
        {
          "output_type": "stream",
          "text": [
            "\n",
            "There is an unique path from (3, 1) to (4, 1)\n",
            "**********\n"
          ],
          "name": "stdout"
        },
        {
          "output_type": "display_data",
          "data": {
            "text/latex": "$\\displaystyle A(d_{2}=-1;d_{2}=-1) = 0$",
            "text/plain": [
              "Eq(A(d_{2}=-1;d_{2}=-1), 0)"
            ]
          },
          "metadata": {
            "tags": []
          }
        },
        {
          "output_type": "stream",
          "text": [
            "\n",
            "There is an unique path from (2, -1) to (2, -1)\n",
            "**********\n"
          ],
          "name": "stdout"
        },
        {
          "output_type": "display_data",
          "data": {
            "text/latex": "$\\displaystyle A(d_{2}=-1;d_{3}=-1) = 0$",
            "text/plain": [
              "Eq(A(d_{2}=-1;d_{3}=-1), 0)"
            ]
          },
          "metadata": {
            "tags": []
          }
        },
        {
          "output_type": "stream",
          "text": [
            "\n",
            "There is an unique path from (2, -1) to (3, -1)\n",
            "**********\n"
          ],
          "name": "stdout"
        },
        {
          "output_type": "display_data",
          "data": {
            "text/latex": "$\\displaystyle A(d_{2}=-1;d_{3}=0) = 0$",
            "text/plain": [
              "Eq(A(d_{2}=-1;d_{3}=0), 0)"
            ]
          },
          "metadata": {
            "tags": []
          }
        },
        {
          "output_type": "stream",
          "text": [
            "\n",
            "There is an unique path from (2, -1) to (3, 0)\n",
            "**********\n"
          ],
          "name": "stdout"
        },
        {
          "output_type": "display_data",
          "data": {
            "text/latex": "$\\displaystyle A(d_{2}=1;d_{2}=1) = 0$",
            "text/plain": [
              "Eq(A(d_{2}=1;d_{2}=1), 0)"
            ]
          },
          "metadata": {
            "tags": []
          }
        },
        {
          "output_type": "stream",
          "text": [
            "\n",
            "There is an unique path from (2, 1) to (2, 1)\n",
            "**********\n"
          ],
          "name": "stdout"
        },
        {
          "output_type": "display_data",
          "data": {
            "text/latex": "$\\displaystyle A(d_{2}=1;d_{3}=1) = 0$",
            "text/plain": [
              "Eq(A(d_{2}=1;d_{3}=1), 0)"
            ]
          },
          "metadata": {
            "tags": []
          }
        },
        {
          "output_type": "stream",
          "text": [
            "\n",
            "There is an unique path from (2, 1) to (3, 1)\n",
            "**********\n"
          ],
          "name": "stdout"
        },
        {
          "output_type": "display_data",
          "data": {
            "text/latex": "$\\displaystyle A(d_{2}=1;d_{3}=2) = 0$",
            "text/plain": [
              "Eq(A(d_{2}=1;d_{3}=2), 0)"
            ]
          },
          "metadata": {
            "tags": []
          }
        },
        {
          "output_type": "stream",
          "text": [
            "\n",
            "There is an unique path from (2, 1) to (3, 2)\n",
            "**********\n"
          ],
          "name": "stdout"
        },
        {
          "output_type": "display_data",
          "data": {
            "text/latex": "$\\displaystyle A(d_{3}=-1;d_{3}=-1) = 0$",
            "text/plain": [
              "Eq(A(d_{3}=-1;d_{3}=-1), 0)"
            ]
          },
          "metadata": {
            "tags": []
          }
        },
        {
          "output_type": "stream",
          "text": [
            "\n",
            "There is an unique path from (3, -1) to (3, -1)\n",
            "**********\n"
          ],
          "name": "stdout"
        },
        {
          "output_type": "display_data",
          "data": {
            "text/latex": "$\\displaystyle A(d_{2}=0;d_{2}=0) = 0$",
            "text/plain": [
              "Eq(A(d_{2}=0;d_{2}=0), 0)"
            ]
          },
          "metadata": {
            "tags": []
          }
        },
        {
          "output_type": "stream",
          "text": [
            "\n",
            "There is an unique path from (2, 0) to (2, 0)\n",
            "**********\n"
          ],
          "name": "stdout"
        },
        {
          "output_type": "display_data",
          "data": {
            "text/latex": "$\\displaystyle A(d_{2}=0;d_{3}=0) = 0$",
            "text/plain": [
              "Eq(A(d_{2}=0;d_{3}=0), 0)"
            ]
          },
          "metadata": {
            "tags": []
          }
        },
        {
          "output_type": "stream",
          "text": [
            "\n",
            "There is an unique path from (2, 0) to (3, 0)\n",
            "**********\n"
          ],
          "name": "stdout"
        },
        {
          "output_type": "display_data",
          "data": {
            "text/latex": "$\\displaystyle A(d_{2}=0;d_{3}=1) = 0$",
            "text/plain": [
              "Eq(A(d_{2}=0;d_{3}=1), 0)"
            ]
          },
          "metadata": {
            "tags": []
          }
        },
        {
          "output_type": "stream",
          "text": [
            "\n",
            "There is an unique path from (2, 0) to (3, 1)\n",
            "**********\n"
          ],
          "name": "stdout"
        },
        {
          "output_type": "display_data",
          "data": {
            "text/latex": "$\\displaystyle A(d_{1}=0;d_{1}=0) = 0$",
            "text/plain": [
              "Eq(A(d_{1}=0;d_{1}=0), 0)"
            ]
          },
          "metadata": {
            "tags": []
          }
        },
        {
          "output_type": "stream",
          "text": [
            "\n",
            "There is an unique path from (1, 0) to (1, 0)\n",
            "**********\n"
          ],
          "name": "stdout"
        },
        {
          "output_type": "display_data",
          "data": {
            "text/latex": "$\\displaystyle A(d_{1}=0;d_{2}=-1) = 0$",
            "text/plain": [
              "Eq(A(d_{1}=0;d_{2}=-1), 0)"
            ]
          },
          "metadata": {
            "tags": []
          }
        },
        {
          "output_type": "stream",
          "text": [
            "\n",
            "There is an unique path from (1, 0) to (2, -1)\n",
            "**********\n"
          ],
          "name": "stdout"
        },
        {
          "output_type": "display_data",
          "data": {
            "text/latex": "$\\displaystyle A(d_{1}=0;d_{2}=0) = 0$",
            "text/plain": [
              "Eq(A(d_{1}=0;d_{2}=0), 0)"
            ]
          },
          "metadata": {
            "tags": []
          }
        },
        {
          "output_type": "stream",
          "text": [
            "\n",
            "There is an unique path from (1, 0) to (2, 0)\n",
            "**********\n"
          ],
          "name": "stdout"
        },
        {
          "output_type": "display_data",
          "data": {
            "text/latex": "$\\displaystyle A(d_{1}=0;d_{3}=-1) = 0$",
            "text/plain": [
              "Eq(A(d_{1}=0;d_{3}=-1), 0)"
            ]
          },
          "metadata": {
            "tags": []
          }
        },
        {
          "output_type": "stream",
          "text": [
            "\n",
            "There is an unique path from (1, 0) to (3, -1)\n",
            "**********\n"
          ],
          "name": "stdout"
        },
        {
          "output_type": "display_data",
          "data": {
            "text/latex": "$\\displaystyle A(d_{4}=1;d_{4}=1) = 0$",
            "text/plain": [
              "Eq(A(d_{4}=1;d_{4}=1), 0)"
            ]
          },
          "metadata": {
            "tags": []
          }
        },
        {
          "output_type": "stream",
          "text": [
            "\n",
            "There is an unique path from (4, 1) to (4, 1)\n",
            "**********\n"
          ],
          "name": "stdout"
        },
        {
          "output_type": "display_data",
          "data": {
            "text/latex": "$\\displaystyle A(d_{1}=1;d_{1}=1) = 0$",
            "text/plain": [
              "Eq(A(d_{1}=1;d_{1}=1), 0)"
            ]
          },
          "metadata": {
            "tags": []
          }
        },
        {
          "output_type": "stream",
          "text": [
            "\n",
            "There is an unique path from (1, 1) to (1, 1)\n",
            "**********\n"
          ],
          "name": "stdout"
        },
        {
          "output_type": "display_data",
          "data": {
            "text/latex": "$\\displaystyle A(d_{1}=1;d_{2}=0) = 0$",
            "text/plain": [
              "Eq(A(d_{1}=1;d_{2}=0), 0)"
            ]
          },
          "metadata": {
            "tags": []
          }
        },
        {
          "output_type": "stream",
          "text": [
            "\n",
            "There is an unique path from (1, 1) to (2, 0)\n",
            "**********\n"
          ],
          "name": "stdout"
        },
        {
          "output_type": "display_data",
          "data": {
            "text/latex": "$\\displaystyle A(d_{1}=1;d_{2}=1) = 0$",
            "text/plain": [
              "Eq(A(d_{1}=1;d_{2}=1), 0)"
            ]
          },
          "metadata": {
            "tags": []
          }
        },
        {
          "output_type": "stream",
          "text": [
            "\n",
            "There is an unique path from (1, 1) to (2, 1)\n",
            "**********\n"
          ],
          "name": "stdout"
        },
        {
          "output_type": "display_data",
          "data": {
            "text/latex": "$\\displaystyle A(d_{1}=1;d_{3}=2) = 0$",
            "text/plain": [
              "Eq(A(d_{1}=1;d_{3}=2), 0)"
            ]
          },
          "metadata": {
            "tags": []
          }
        },
        {
          "output_type": "stream",
          "text": [
            "\n",
            "There is an unique path from (1, 1) to (3, 2)\n",
            "**********\n"
          ],
          "name": "stdout"
        },
        {
          "output_type": "display_data",
          "data": {
            "text/latex": "$\\displaystyle A(d_{4}=0;d_{4}=0) = 0$",
            "text/plain": [
              "Eq(A(d_{4}=0;d_{4}=0), 0)"
            ]
          },
          "metadata": {
            "tags": []
          }
        },
        {
          "output_type": "stream",
          "text": [
            "\n",
            "There is an unique path from (4, 0) to (4, 0)\n",
            "**********\n"
          ],
          "name": "stdout"
        }
      ]
    },
    {
      "cell_type": "markdown",
      "metadata": {
        "id": "0ZqtPtTDiSwm"
      },
      "source": [
        "### Populate $n$'s using real data"
      ]
    },
    {
      "cell_type": "code",
      "metadata": {
        "id": "-tDFlOalix26"
      },
      "source": [
        "# initialize n_val\n",
        "n_val = {}\n",
        "for seq in n_symbol.keys():\n",
        "    n_val[seq] = 0"
      ],
      "execution_count": 21,
      "outputs": []
    },
    {
      "cell_type": "code",
      "metadata": {
        "colab": {
          "base_uri": "https://localhost:8080/",
          "height": 206
        },
        "id": "4Ib9-7ImgzZo",
        "outputId": "684b241d-3108-4273-abb6-9be1410ce58d"
      },
      "source": [
        "# get data\n",
        "pso = pd.read_csv(\"./drive/MyDrive/data/final/pso.csv\")\n",
        "pso.head()"
      ],
      "execution_count": 22,
      "outputs": [
        {
          "output_type": "execute_result",
          "data": {
            "text/html": [
              "<div>\n",
              "<style scoped>\n",
              "    .dataframe tbody tr th:only-of-type {\n",
              "        vertical-align: middle;\n",
              "    }\n",
              "\n",
              "    .dataframe tbody tr th {\n",
              "        vertical-align: top;\n",
              "    }\n",
              "\n",
              "    .dataframe thead th {\n",
              "        text-align: right;\n",
              "    }\n",
              "</style>\n",
              "<table border=\"1\" class=\"dataframe\">\n",
              "  <thead>\n",
              "    <tr style=\"text-align: right;\">\n",
              "      <th></th>\n",
              "      <th>game_id</th>\n",
              "      <th>kick_number</th>\n",
              "      <th>is_home_team</th>\n",
              "      <th>player_id</th>\n",
              "      <th>is_score</th>\n",
              "    </tr>\n",
              "  </thead>\n",
              "  <tbody>\n",
              "    <tr>\n",
              "      <th>0</th>\n",
              "      <td>FAC_2020_3491225</td>\n",
              "      <td>1</td>\n",
              "      <td>True</td>\n",
              "      <td>351261</td>\n",
              "      <td>False</td>\n",
              "    </tr>\n",
              "    <tr>\n",
              "      <th>1</th>\n",
              "      <td>FAC_2020_3491225</td>\n",
              "      <td>2</td>\n",
              "      <td>False</td>\n",
              "      <td>37920</td>\n",
              "      <td>True</td>\n",
              "    </tr>\n",
              "    <tr>\n",
              "      <th>2</th>\n",
              "      <td>FAC_2020_3491225</td>\n",
              "      <td>3</td>\n",
              "      <td>True</td>\n",
              "      <td>334804</td>\n",
              "      <td>True</td>\n",
              "    </tr>\n",
              "    <tr>\n",
              "      <th>3</th>\n",
              "      <td>FAC_2020_3491225</td>\n",
              "      <td>4</td>\n",
              "      <td>False</td>\n",
              "      <td>314366</td>\n",
              "      <td>False</td>\n",
              "    </tr>\n",
              "    <tr>\n",
              "      <th>4</th>\n",
              "      <td>FAC_2020_3491225</td>\n",
              "      <td>5</td>\n",
              "      <td>True</td>\n",
              "      <td>167393</td>\n",
              "      <td>True</td>\n",
              "    </tr>\n",
              "  </tbody>\n",
              "</table>\n",
              "</div>"
            ],
            "text/plain": [
              "            game_id  kick_number  is_home_team  player_id  is_score\n",
              "0  FAC_2020_3491225            1          True     351261     False\n",
              "1  FAC_2020_3491225            2         False      37920      True\n",
              "2  FAC_2020_3491225            3          True     334804      True\n",
              "3  FAC_2020_3491225            4         False     314366     False\n",
              "4  FAC_2020_3491225            5          True     167393      True"
            ]
          },
          "metadata": {
            "tags": []
          },
          "execution_count": 22
        }
      ]
    },
    {
      "cell_type": "code",
      "metadata": {
        "colab": {
          "base_uri": "https://localhost:8080/"
        },
        "id": "1lS2Z_8ijETp",
        "outputId": "0f78a9b2-acdc-4ed0-d3bb-09627f36a440"
      },
      "source": [
        "# convert data into sequences of penalty outcomes\n",
        "pso_outs = pso.groupby(\"game_id\")[\"is_score\"].apply(lambda x: tuple(map(int, x)))\n",
        "pso_outs.head()"
      ],
      "execution_count": 23,
      "outputs": [
        {
          "output_type": "execute_result",
          "data": {
            "text/plain": [
              "game_id\n",
              "19YL_2014_2528464                (1, 0, 1, 0, 1, 1, 0, 0)\n",
              "19YL_2014_2528466                   (0, 1, 1, 1, 0, 1, 0)\n",
              "19YL_2014_2528467    (1, 1, 1, 1, 1, 1, 1, 1, 0, 0, 0, 1)\n",
              "19YL_2014_2528470    (1, 1, 1, 1, 1, 1, 1, 1, 1, 1, 1, 0)\n",
              "19YL_2014_2542063          (0, 1, 1, 1, 1, 1, 1, 1, 1, 1)\n",
              "Name: is_score, dtype: object"
            ]
          },
          "metadata": {
            "tags": []
          },
          "execution_count": 23
        }
      ]
    },
    {
      "cell_type": "code",
      "metadata": {
        "id": "z9bvHP48jhoZ"
      },
      "source": [
        "# populate n_val\n",
        "for out in pso_outs:\n",
        "    for i in range(min(len(out) + 1, 2*nround + 1)):\n",
        "        diff = o2d(out[:i])\n",
        "        if diff in n_val.keys():\n",
        "            n_val[diff] += 1"
      ],
      "execution_count": 24,
      "outputs": []
    },
    {
      "cell_type": "code",
      "metadata": {
        "id": "SCuUM_L3kbNH"
      },
      "source": [
        "# calculate transition probability\n",
        "q_val = {}\n",
        "for state in q_symbol.keys():\n",
        "    q_val[state] = q_expr[state][1].evalf(subs={n_symbol[seq]: n_val[seq] for seq in n_symbol.keys()})"
      ],
      "execution_count": 25,
      "outputs": []
    },
    {
      "cell_type": "code",
      "metadata": {
        "colab": {
          "base_uri": "https://localhost:8080/",
          "height": 187
        },
        "id": "zCnYlqNLlwKe",
        "outputId": "705e0de7-170b-49bb-e9c2-49a1417fb89a"
      },
      "source": [
        "# print out the approximation\n",
        "for state in sorted(q_symbol.keys(), key=lambda x: (x[1], x[0], -x[2])):\n",
        "    display(sympy.Eq(q_symbol[state], q_val[state]))"
      ],
      "execution_count": 26,
      "outputs": [
        {
          "output_type": "display_data",
          "data": {
            "text/latex": "$\\displaystyle q_{1;1}(0) = 0.793866728153101$",
            "text/plain": [
              "Eq(q_{1;1}(0), 0.793866728153101)"
            ]
          },
          "metadata": {
            "tags": []
          }
        },
        {
          "output_type": "display_data",
          "data": {
            "text/latex": "$\\displaystyle q_{2;1}(1) = 0.783038048213767$",
            "text/plain": [
              "Eq(q_{2;1}(1), 0.783038048213767)"
            ]
          },
          "metadata": {
            "tags": []
          }
        },
        {
          "output_type": "display_data",
          "data": {
            "text/latex": "$\\displaystyle q_{2;1}(0) = 0.739373601789709$",
            "text/plain": [
              "Eq(q_{2;1}(0), 0.739373601789709)"
            ]
          },
          "metadata": {
            "tags": []
          }
        },
        {
          "output_type": "display_data",
          "data": {
            "text/latex": "$\\displaystyle q_{1;2}(1) = 0.75609756097561$",
            "text/plain": [
              "Eq(q_{1;2}(1), 0.75609756097561)"
            ]
          },
          "metadata": {
            "tags": []
          }
        },
        {
          "output_type": "display_data",
          "data": {
            "text/latex": "$\\displaystyle q_{1;2}(0) = 0.775803144224197$",
            "text/plain": [
              "Eq(q_{1;2}(0), 0.775803144224197)"
            ]
          },
          "metadata": {
            "tags": []
          }
        },
        {
          "output_type": "display_data",
          "data": {
            "text/latex": "$\\displaystyle q_{1;2}(-1) = 0.733736762481089$",
            "text/plain": [
              "Eq(q_{1;2}(-1), 0.733736762481089)"
            ]
          },
          "metadata": {
            "tags": []
          }
        },
        {
          "output_type": "display_data",
          "data": {
            "text/latex": "$\\displaystyle q_{2;2}(1) = 0.776734693877551$",
            "text/plain": [
              "Eq(q_{2;2}(1), 0.776734693877551)"
            ]
          },
          "metadata": {
            "tags": []
          }
        },
        {
          "output_type": "display_data",
          "data": {
            "text/latex": "$\\displaystyle q_{2;2}(0) = 0.756876663708962$",
            "text/plain": [
              "Eq(q_{2;2}(0), 0.756876663708962)"
            ]
          },
          "metadata": {
            "tags": []
          }
        }
      ]
    },
    {
      "cell_type": "code",
      "metadata": {
        "id": "7MBzB0b5mQ2_"
      },
      "source": [
        ""
      ],
      "execution_count": 26,
      "outputs": []
    }
  ]
}